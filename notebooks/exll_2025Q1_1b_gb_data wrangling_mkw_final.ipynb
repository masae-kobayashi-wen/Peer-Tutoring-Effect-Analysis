{
 "cells": [
  {
   "cell_type": "markdown",
   "id": "1d0250e7-d32f-4e1b-bac6-caecc81ac510",
   "metadata": {},
   "source": [
    "# Notebook 1b: Gradebook Data Wrangling\n",
    "## Calbright Data Analysis Program (2025 Q1)\n",
    "\n",
    "## Description\n",
    "This notebook processes gradebook data to calculate student competency completion progress for the peer tutoring effectiveness analysis.\n",
    "\n",
    "**Input:** Raw gradebook exports from BUS500 and BUS501 courses  \n",
    "**Process:** Data cleaning, merging, progress calculation, and student segmentation  \n",
    "**Output:** Clean datasets showing completion progress for tutored vs untutored students"
   ]
  },
  {
   "cell_type": "markdown",
   "id": "cdd89d2e-77b5-43d3-8761-5b15817dbf7e",
   "metadata": {},
   "source": [
    "---\n",
    "## 1 Data Wrangling"
   ]
  },
  {
   "cell_type": "markdown",
   "id": "6c603ef0-140d-4d90-9c7f-485a858e6c64",
   "metadata": {},
   "source": [
    "### 1.1 Setup and Imports"
   ]
  },
  {
   "cell_type": "code",
   "execution_count": 4,
   "id": "15b97ff1-08ef-4a1e-9618-e4846f5d1ea8",
   "metadata": {},
   "outputs": [],
   "source": [
    "#Import necessary modules\n",
    "import pandas as pd\n",
    "import numpy as np\n",
    "import matplotlib.pyplot as plt\n",
    "import seaborn as sns"
   ]
  },
  {
   "cell_type": "markdown",
   "id": "02527e97-2aca-4a31-b8e0-5a73539a6517",
   "metadata": {},
   "source": [
    "### 1.2 Load Data: GradeBook"
   ]
  },
  {
   "cell_type": "code",
   "execution_count": 6,
   "id": "c195f74d-a172-4379-b248-b9c89e5da25b",
   "metadata": {},
   "outputs": [],
   "source": [
    "# the supplied CSV data file is the \"raw_data\" directory\n",
    "gb_data_500 = pd.read_csv('../raw_data/BUS500_2025-04-07 12_10 PM PT.csv') \n",
    "gb_data_501 = pd.read_csv('../raw_data/BUS501_2025-04-07 12_19 PM PT.csv') "
   ]
  },
  {
   "cell_type": "code",
   "execution_count": 7,
   "id": "519df431-03c2-4e6c-85bd-3ddb928e893d",
   "metadata": {},
   "outputs": [
    {
     "name": "stdout",
     "output_type": "stream",
     "text": [
      "<class 'pandas.core.frame.DataFrame'>\n",
      "RangeIndex: 2659 entries, 0 to 2658\n",
      "Data columns (total 11 columns):\n",
      " #   Column                                  Non-Null Count  Dtype \n",
      "---  ------                                  --------------  ----- \n",
      " 0   Learner Last Name                       2659 non-null   object\n",
      " 1   Learner First Name                      2656 non-null   object\n",
      " 2   Learner Identifier                      2659 non-null   object\n",
      " 3   DATA ANALYSIS: Terminology              2659 non-null   object\n",
      " 4   DATA ANALYSIS: Spreadsheets             2659 non-null   object\n",
      " 5   DATA ANALYSIS: Basic SQL Queries        2659 non-null   object\n",
      " 6   DATA ANALYSIS: Presentation Skills      2659 non-null   object\n",
      " 7   DATA ANALYSIS: Research                 2659 non-null   object\n",
      " 8   DATA ANALYSIS: Data Validity            2659 non-null   object\n",
      " 9   DATA ANALYSIS: Mathematical Principles  2659 non-null   object\n",
      " 10  Introduction to Data Analysis Program   2659 non-null   object\n",
      "dtypes: object(11)\n",
      "memory usage: 228.6+ KB\n",
      "<class 'pandas.core.frame.DataFrame'>\n",
      "RangeIndex: 521 entries, 0 to 520\n",
      "Data columns (total 9 columns):\n",
      " #   Column                                   Non-Null Count  Dtype \n",
      "---  ------                                   --------------  ----- \n",
      " 0   Learner Last Name                        521 non-null    object\n",
      " 1   Learner First Name                       520 non-null    object\n",
      " 2   Learner Identifier                       521 non-null    object\n",
      " 3   DATA ANALYSIS: Intermediate SQL Queries  521 non-null    object\n",
      " 4   DATA ANALYSIS: Data Ethics               521 non-null    object\n",
      " 5   DATA ANALYSIS: Data Presentation Skills  521 non-null    object\n",
      " 6   DATA ANALYSIS: Professional Learning     521 non-null    object\n",
      " 7   DATA ANALYSIS: Durable Skills            521 non-null    object\n",
      " 8   Introduction to Data Analysis Program    521 non-null    object\n",
      "dtypes: object(9)\n",
      "memory usage: 36.8+ KB\n"
     ]
    }
   ],
   "source": [
    "#Call the info method on the data to see a summary of the data\n",
    "gb_data_500.info() \n",
    "gb_data_501.info()"
   ]
  },
  {
   "cell_type": "code",
   "execution_count": 8,
   "id": "243d5b36-8d0d-4f61-90ab-1c3c181d1cfb",
   "metadata": {},
   "outputs": [
    {
     "data": {
      "text/plain": [
       "((2659, 11), (521, 9))"
      ]
     },
     "execution_count": 8,
     "metadata": {},
     "output_type": "execute_result"
    }
   ],
   "source": [
    "# check the size of original dataset\n",
    "gb_data_500.shape, gb_data_501.shape"
   ]
  },
  {
   "cell_type": "markdown",
   "id": "569ca170-85c1-47d7-ba6c-f1aca50b5cd9",
   "metadata": {},
   "source": [
    "### 1.3 Data Cleaning and Validation"
   ]
  },
  {
   "cell_type": "markdown",
   "id": "def067d8-b8de-4392-9d20-ba211486037a",
   "metadata": {},
   "source": [
    "#### 1.3.1 Check for Null Values"
   ]
  },
  {
   "cell_type": "code",
   "execution_count": 11,
   "id": "166c3e6a-99d9-4318-990b-78ef09ddfac9",
   "metadata": {},
   "outputs": [
    {
     "name": "stdout",
     "output_type": "stream",
     "text": [
      "Total number of null entries: 3\n",
      "Null entries per column:\n",
      "Learner Last Name                         0\n",
      "Learner First Name                        3\n",
      "Learner Identifier                        0\n",
      "DATA ANALYSIS: Terminology                0\n",
      "DATA ANALYSIS: Spreadsheets               0\n",
      "DATA ANALYSIS: Basic SQL Queries          0\n",
      "DATA ANALYSIS: Presentation Skills        0\n",
      "DATA ANALYSIS: Research                   0\n",
      "DATA ANALYSIS: Data Validity              0\n",
      "DATA ANALYSIS: Mathematical Principles    0\n",
      "Introduction to Data Analysis Program     0\n",
      "dtype: int64\n"
     ]
    }
   ],
   "source": [
    "# Total number of null values in the whole DataFrame\n",
    "total_nulls = gb_data_500.isnull().sum().sum()\n",
    "print(f\"Total number of null entries: {total_nulls}\")\n",
    "\n",
    "# Number of nulls per column\n",
    "nulls_per_column = gb_data_500.isnull().sum()\n",
    "print(\"Null entries per column:\")\n",
    "print(nulls_per_column)"
   ]
  },
  {
   "cell_type": "code",
   "execution_count": 12,
   "id": "4e703a17-98e7-43a5-9dff-37f30206ea7f",
   "metadata": {},
   "outputs": [
    {
     "name": "stdout",
     "output_type": "stream",
     "text": [
      "Total number of null entries: 1\n",
      "Null entries per column:\n",
      "Learner Last Name                          0\n",
      "Learner First Name                         1\n",
      "Learner Identifier                         0\n",
      "DATA ANALYSIS: Intermediate SQL Queries    0\n",
      "DATA ANALYSIS: Data Ethics                 0\n",
      "DATA ANALYSIS: Data Presentation Skills    0\n",
      "DATA ANALYSIS: Professional Learning       0\n",
      "DATA ANALYSIS: Durable Skills              0\n",
      "Introduction to Data Analysis Program      0\n",
      "dtype: int64\n"
     ]
    }
   ],
   "source": [
    "# Total number of null values in the whole DataFrame\n",
    "total_nulls = gb_data_501.isnull().sum().sum()\n",
    "print(f\"Total number of null entries: {total_nulls}\")\n",
    "\n",
    "# Number of nulls per column\n",
    "nulls_per_column = gb_data_501.isnull().sum()\n",
    "print(\"Null entries per column:\")\n",
    "print(nulls_per_column)"
   ]
  },
  {
   "cell_type": "markdown",
   "id": "e453a615-f830-4bb5-82b6-d25c7910cfd8",
   "metadata": {},
   "source": [
    "#### 1.3.2 Check for Duplicates"
   ]
  },
  {
   "cell_type": "code",
   "execution_count": 14,
   "id": "86d2ea63-ec97-480c-803f-3f29135087a9",
   "metadata": {},
   "outputs": [
    {
     "name": "stdout",
     "output_type": "stream",
     "text": [
      "Number of duplicate rows: 0\n",
      "Duplicate rows:\n",
      "Empty DataFrame\n",
      "Columns: [Learner Last Name, Learner First Name, Learner Identifier, DATA ANALYSIS: Terminology, DATA ANALYSIS: Spreadsheets, DATA ANALYSIS: Basic SQL Queries, DATA ANALYSIS: Presentation Skills, DATA ANALYSIS: Research, DATA ANALYSIS: Data Validity, DATA ANALYSIS: Mathematical Principles, Introduction to Data Analysis Program]\n",
      "Index: []\n"
     ]
    }
   ],
   "source": [
    "# Check for duplicate rows\n",
    "duplicate_rows = gb_data_500[gb_data_500.duplicated()]\n",
    "\n",
    "# Print number of duplicates\n",
    "print(f\"Number of duplicate rows: {duplicate_rows.shape[0]}\")\n",
    "\n",
    "# Optionally, display the duplicate rows\n",
    "print(\"Duplicate rows:\")\n",
    "print(duplicate_rows)"
   ]
  },
  {
   "cell_type": "code",
   "execution_count": 15,
   "id": "32d0bde0-26c9-40ff-9010-619d6909dd97",
   "metadata": {},
   "outputs": [
    {
     "name": "stdout",
     "output_type": "stream",
     "text": [
      "Number of duplicate rows: 0\n",
      "Duplicate rows:\n",
      "Empty DataFrame\n",
      "Columns: [Learner Last Name, Learner First Name, Learner Identifier, DATA ANALYSIS: Intermediate SQL Queries, DATA ANALYSIS: Data Ethics, DATA ANALYSIS: Data Presentation Skills, DATA ANALYSIS: Professional Learning, DATA ANALYSIS: Durable Skills, Introduction to Data Analysis Program]\n",
      "Index: []\n"
     ]
    }
   ],
   "source": [
    "# Check for duplicate rows\n",
    "duplicate_rows = gb_data_501[gb_data_501.duplicated()]\n",
    "\n",
    "# Print number of duplicates\n",
    "print(f\"Number of duplicate rows: {duplicate_rows.shape[0]}\")\n",
    "\n",
    "# Optionally, display the duplicate rows\n",
    "print(\"Duplicate rows:\")\n",
    "print(duplicate_rows)"
   ]
  },
  {
   "cell_type": "code",
   "execution_count": 16,
   "id": "4451a18d-67bd-4cb4-a603-17ce4eea94e1",
   "metadata": {},
   "outputs": [
    {
     "name": "stdout",
     "output_type": "stream",
     "text": [
      "Empty DataFrame\n",
      "Columns: [Learner Last Name, Learner First Name, Learner Identifier, DATA ANALYSIS: Terminology, DATA ANALYSIS: Spreadsheets, DATA ANALYSIS: Basic SQL Queries, DATA ANALYSIS: Presentation Skills, DATA ANALYSIS: Research, DATA ANALYSIS: Data Validity, DATA ANALYSIS: Mathematical Principles, Introduction to Data Analysis Program]\n",
      "Index: []\n"
     ]
    }
   ],
   "source": [
    "# Check duplicates based on a specific column (e.g., 'Learner Identifier')\n",
    "duplicates_by_LID = gb_data_500[gb_data_500.duplicated(subset='Learner Identifier')]\n",
    "print(duplicates_by_LID)"
   ]
  },
  {
   "cell_type": "code",
   "execution_count": 17,
   "id": "e5595eb2-dc7c-4121-b37a-0d2042042570",
   "metadata": {},
   "outputs": [
    {
     "name": "stdout",
     "output_type": "stream",
     "text": [
      "Empty DataFrame\n",
      "Columns: [Learner Last Name, Learner First Name, Learner Identifier, DATA ANALYSIS: Intermediate SQL Queries, DATA ANALYSIS: Data Ethics, DATA ANALYSIS: Data Presentation Skills, DATA ANALYSIS: Professional Learning, DATA ANALYSIS: Durable Skills, Introduction to Data Analysis Program]\n",
      "Index: []\n"
     ]
    }
   ],
   "source": [
    "# Check duplicates based on a specific column (e.g., 'Learner Identifier')\n",
    "duplicates_by_LID = gb_data_501[gb_data_501.duplicated(subset='Learner Identifier')]\n",
    "print(duplicates_by_LID)"
   ]
  },
  {
   "cell_type": "code",
   "execution_count": null,
   "id": "573633d1-0058-48df-a813-531cc8b48c67",
   "metadata": {},
   "outputs": [],
   "source": [
    "#Call the head method on the data to print the first several rows of the data\n",
    "gb_data_500.head()"
   ]
  },
  {
   "cell_type": "code",
   "execution_count": null,
   "id": "fb37b953-2ccc-4203-a417-1a4729289928",
   "metadata": {},
   "outputs": [],
   "source": [
    "#Call the head method on the data to print the first several rows of the data\n",
    "gb_data_501.head()"
   ]
  },
  {
   "cell_type": "markdown",
   "id": "0a2af47c-9bf3-441d-b474-c861d74cca4f",
   "metadata": {},
   "source": [
    "#### 1.3.3 Check Student Overlap Between Courses: BUS500 and BUS501"
   ]
  },
  {
   "cell_type": "code",
   "execution_count": 21,
   "id": "05412183-3365-45d3-ba06-3d0a7fbd4105",
   "metadata": {},
   "outputs": [
    {
     "name": "stdout",
     "output_type": "stream",
     "text": [
      "All learners in 501 are in 500: False\n"
     ]
    }
   ],
   "source": [
    "# To check whether all students in gb_data_501 are also present in gb_data_500, based on the \"Learner Identifier\" column\n",
    "# Check if all Learner Identifiers in 501 exist in 500\n",
    "all_in_500 = gb_data_501[\"Learner Identifier\"].isin(gb_data_500[\"Learner Identifier\"])\n",
    "\n",
    "# Are all True?\n",
    "all_present = all_in_500.all()\n",
    "\n",
    "print(\"All learners in 501 are in 500:\", all_present)"
   ]
  },
  {
   "cell_type": "code",
   "execution_count": null,
   "id": "d8d6c03f-779c-4a56-a5a1-489474aa4220",
   "metadata": {},
   "outputs": [],
   "source": [
    "# Check which students are not in 500\n",
    "missing_learners = gb_data_501[~all_in_500]\n",
    "print(\"Learners in 501 not in 500:\")\n",
    "print(missing_learners)"
   ]
  },
  {
   "cell_type": "markdown",
   "id": "fa7e8492-2453-4fa0-a6da-a773b7bb22fc",
   "metadata": {},
   "source": [
    "**Note**: `Four` students in BUS501 but not BUS500 are assumed to have completed BUS500 previously. These nulls are filled as 'Complete' in Section **1.4.3 Handle Missing Values**."
   ]
  },
  {
   "cell_type": "markdown",
   "id": "6621133a-99b9-40b2-9a80-d65b497dc3b6",
   "metadata": {},
   "source": [
    "**Caution**: Students who completed the program previously are still included in the dataset, showing 0% progress in the \"Introduction to Data Analysis Program\" column for both the 500 and 501 datasets."
   ]
  },
  {
   "cell_type": "markdown",
   "id": "b6c8582c-6e58-4be9-928d-89409bfd2b54",
   "metadata": {},
   "source": [
    "#### 1.3.4 Identify Previously Graduated Students"
   ]
  },
  {
   "cell_type": "markdown",
   "id": "c6249bdc-a934-494b-b598-7b3f210dd930",
   "metadata": {},
   "source": [
    "**Note**: Previously Graduated Students are included in the gradebook and should have 0% \"Introduction to Data Analysis Program\" in Both BUS500 and BUS501 (Incomplete for all 12 Competencies)."
   ]
  },
  {
   "cell_type": "code",
   "execution_count": 27,
   "id": "9c15162c-cab0-4fd4-822e-c5432ecdc7ae",
   "metadata": {},
   "outputs": [
    {
     "name": "stdout",
     "output_type": "stream",
     "text": [
      "Zero in 500: (1275, 11)\n",
      "Zero in 501: (106, 9)\n",
      "Zero in both (inner join): (105, 19)\n"
     ]
    }
   ],
   "source": [
    "# Assuming 0% in the \"Introduction to Data Analysis Program\" column = \"Incomplete\" in all competency columns for 500 and 501.\n",
    "# Extract and compare students with 0% in the \"Introduction to Data Analysis Program\" column from both datasets:\n",
    "\n",
    "# Filter students with 0% in \"Introduction to Data Analysis Program\" from gb_data_500\n",
    "zero_500 = gb_data_500[gb_data_500[\"Introduction to Data Analysis Program\"] == \"0%\"]\n",
    "\n",
    "# Filter students with 0% in \"Introduction to Data Analysis Program\" from gb_data_501\n",
    "zero_501 = gb_data_501[gb_data_501[\"Introduction to Data Analysis Program\"] == \"0%\"]\n",
    "\n",
    "# Inner join on \"Learner Identifier\" to find students with 0% in both datasets\n",
    "zero_both = pd.merge(\n",
    "    zero_500, \n",
    "    zero_501, \n",
    "    on=\"Learner Identifier\", \n",
    "    suffixes=(\"_500\", \"_501\")\n",
    ")\n",
    "\n",
    "# Optionally show shapes to confirm\n",
    "print(\"Zero in 500:\", zero_500.shape)\n",
    "print(\"Zero in 501:\", zero_501.shape)\n",
    "print(\"Zero in both (inner join):\", zero_both.shape)"
   ]
  },
  {
   "cell_type": "code",
   "execution_count": 28,
   "id": "e5ba9c42-6069-4c42-8fec-e259a13933c9",
   "metadata": {},
   "outputs": [
    {
     "name": "stdout",
     "output_type": "stream",
     "text": [
      "gb_data_500 - Rows with 0% and all 'Incomplete': 1275\n",
      "gb_data_500 - Rows with 0% but NOT all 'Incomplete':\n",
      "Empty DataFrame\n",
      "Columns: [Learner Last Name, Learner First Name, Learner Identifier, DATA ANALYSIS: Terminology, DATA ANALYSIS: Spreadsheets, DATA ANALYSIS: Basic SQL Queries, DATA ANALYSIS: Presentation Skills, DATA ANALYSIS: Research, DATA ANALYSIS: Data Validity, DATA ANALYSIS: Mathematical Principles, Introduction to Data Analysis Program]\n",
      "Index: []\n"
     ]
    }
   ],
   "source": [
    "# check gb_data_500\n",
    "# Filter rows with \"0%\" in the final column\n",
    "zero_rows_500 = gb_data_500[gb_data_500[\"Introduction to Data Analysis Program\"] == \"0%\"]\n",
    "\n",
    "# Get assessment columns (between Learner Identifier and Intro column)\n",
    "start_500 = gb_data_500.columns.get_loc(\"Learner Identifier\") + 1\n",
    "end_500 = gb_data_500.columns.get_loc(\"Introduction to Data Analysis Program\")\n",
    "assessment_cols_500 = gb_data_500.columns[start_500:end_500]\n",
    "\n",
    "# Check for 'all Incomplete' condition\n",
    "all_incomplete_500 = (zero_rows_500[assessment_cols_500] == \"Incomplete\").all(axis=1)\n",
    "\n",
    "# Count how many met the condition\n",
    "count_incomplete_500 = all_incomplete_500.sum()\n",
    "print(f\"gb_data_500 - Rows with 0% and all 'Incomplete': {count_incomplete_500}\")\n",
    "\n",
    "# Store rows that did NOT meet the condition\n",
    "exceptions_500 = zero_rows_500[~all_incomplete_500]\n",
    "print(\"gb_data_500 - Rows with 0% but NOT all 'Incomplete':\")\n",
    "print(exceptions_500)"
   ]
  },
  {
   "cell_type": "code",
   "execution_count": 29,
   "id": "1fef6763-0340-4fb2-8301-d3b9e8460cb3",
   "metadata": {},
   "outputs": [
    {
     "name": "stdout",
     "output_type": "stream",
     "text": [
      "gb_data_501 - Rows with 0% and all 'Incomplete': 106\n",
      "gb_data_501 - Rows with 0% but NOT all 'Incomplete':\n",
      "Empty DataFrame\n",
      "Columns: [Learner Last Name, Learner First Name, Learner Identifier, DATA ANALYSIS: Intermediate SQL Queries, DATA ANALYSIS: Data Ethics, DATA ANALYSIS: Data Presentation Skills, DATA ANALYSIS: Professional Learning, DATA ANALYSIS: Durable Skills, Introduction to Data Analysis Program]\n",
      "Index: []\n"
     ]
    }
   ],
   "source": [
    "# check gb_data_501\n",
    "# Filter rows with \"0%\" in the final column\n",
    "zero_rows_501 = gb_data_501[gb_data_501[\"Introduction to Data Analysis Program\"] == \"0%\"]\n",
    "\n",
    "# Get assessment columns\n",
    "start_501 = gb_data_501.columns.get_loc(\"Learner Identifier\") + 1\n",
    "end_501 = gb_data_501.columns.get_loc(\"Introduction to Data Analysis Program\")\n",
    "assessment_cols_501 = gb_data_501.columns[start_501:end_501]\n",
    "\n",
    "# Check for 'all Incomplete' condition\n",
    "all_incomplete_501 = (zero_rows_501[assessment_cols_501] == \"Incomplete\").all(axis=1)\n",
    "\n",
    "# Count how many met the condition\n",
    "count_incomplete_501 = all_incomplete_501.sum()\n",
    "print(f\"gb_data_501 - Rows with 0% and all 'Incomplete': {count_incomplete_501}\")\n",
    "\n",
    "# Store rows that did NOT meet the condition\n",
    "exceptions_501 = zero_rows_501[~all_incomplete_501]\n",
    "print(\"gb_data_501 - Rows with 0% but NOT all 'Incomplete':\")\n",
    "print(exceptions_501)"
   ]
  },
  {
   "cell_type": "markdown",
   "id": "43ec7aeb-602d-4d16-b616-7d69a7b57443",
   "metadata": {},
   "source": [
    "**Note**: These `105` graduated students will be removed later in Section **2.2.2.3 Remove Graduated Students and Final Visualization**"
   ]
  },
  {
   "cell_type": "markdown",
   "id": "732c18cf-8d1a-4daf-b6a0-b36b8ac2b731",
   "metadata": {},
   "source": [
    "### 1.4 Data Transformation"
   ]
  },
  {
   "cell_type": "markdown",
   "id": "edd925a7-9bc9-4ec1-9c58-614e70c7a69d",
   "metadata": {},
   "source": [
    "#### 1.4.1 Prepare Gradebook Data (Date Filtering)"
   ]
  },
  {
   "cell_type": "markdown",
   "id": "479790ff-0b10-4bad-923c-1fd66e9f5b23",
   "metadata": {},
   "source": [
    "##### 1.4.1.1 BUS500 Data Preparation"
   ]
  },
  {
   "cell_type": "markdown",
   "id": "6f1a9a40-6191-4b90-97c3-88e89f0a3a92",
   "metadata": {},
   "source": [
    "##### Cutoff date: 1/1/2025"
   ]
  },
  {
   "cell_type": "markdown",
   "id": "dd812a86-bd01-4e70-9ab4-72a3f0f01790",
   "metadata": {},
   "source": [
    "gb_data_500: need to prepare the grade book for 1/1/2025 by replacing any “Complete on …” entry with “Incomplete” if the completion date is **after** January 1, 2025."
   ]
  },
  {
   "cell_type": "code",
   "execution_count": 36,
   "id": "a8acf402-929e-4922-a90f-a569df6932f8",
   "metadata": {},
   "outputs": [],
   "source": [
    "# Always copy to avoid modifying original data\n",
    "df = gb_data_500.copy()"
   ]
  },
  {
   "cell_type": "code",
   "execution_count": null,
   "id": "a2b8dcac-a74e-4335-aa8b-825ab9c08092",
   "metadata": {
    "scrolled": true
   },
   "outputs": [],
   "source": [
    "# Define the cutoff date\n",
    "cutoff_date = pd.to_datetime(\"2025-01-01\")\n",
    "\n",
    "# Identify columns with assessment data (excluding name/id columns)\n",
    "assessment_columns = df.columns[3:-1]  # all except first 3 and last column\n",
    "\n",
    "# Function to update completion status based on date\n",
    "def update_completion_status(value):\n",
    "    if isinstance(value, str) and value.startswith(\"Complete on\"):\n",
    "        try:\n",
    "            date_str = value.split(\"Complete on \")[1]\n",
    "            completion_date = pd.to_datetime(date_str)\n",
    "            return value if completion_date <= cutoff_date else \"Incomplete\"\n",
    "        except Exception:\n",
    "            return value\n",
    "    return value\n",
    "\n",
    "# Apply the transformation across relevant columns\n",
    "df[assessment_columns] = df[assessment_columns].applymap(update_completion_status)\n",
    "\n",
    "# Show the updated rows\n",
    "df[assessment_columns].head()"
   ]
  },
  {
   "cell_type": "code",
   "execution_count": null,
   "id": "3d4c7579-03af-4d97-b060-c080451042f8",
   "metadata": {},
   "outputs": [],
   "source": [
    "# Save transformed version safely\n",
    "gb_data_500_20250101 = df.copy()\n",
    "gb_data_500_20250101.head()"
   ]
  },
  {
   "cell_type": "markdown",
   "id": "390c6de6-de8a-4473-88d7-de2eeea649cd",
   "metadata": {},
   "source": [
    "##### Cutoff date: 3/31/2025"
   ]
  },
  {
   "cell_type": "markdown",
   "id": "1292f3ee-3a9c-4340-98d1-3df0924f1600",
   "metadata": {},
   "source": [
    "gb_data_500: need to prepare the grade book for 3/31/2025 by replacing any “Complete on …” entry with “Incomplete” if the completion date is **after** March 31, 2025."
   ]
  },
  {
   "cell_type": "code",
   "execution_count": 41,
   "id": "33c0097e-a628-403b-8e47-b907428f1570",
   "metadata": {},
   "outputs": [],
   "source": [
    "# Always copy to avoid modifying original data\n",
    "df = gb_data_500.copy()"
   ]
  },
  {
   "cell_type": "code",
   "execution_count": 42,
   "id": "2796bd6b-7a12-42b8-9e69-e141c9d72136",
   "metadata": {},
   "outputs": [
    {
     "data": {
      "text/html": [
       "<div>\n",
       "<style scoped>\n",
       "    .dataframe tbody tr th:only-of-type {\n",
       "        vertical-align: middle;\n",
       "    }\n",
       "\n",
       "    .dataframe tbody tr th {\n",
       "        vertical-align: top;\n",
       "    }\n",
       "\n",
       "    .dataframe thead th {\n",
       "        text-align: right;\n",
       "    }\n",
       "</style>\n",
       "<table border=\"1\" class=\"dataframe\">\n",
       "  <thead>\n",
       "    <tr style=\"text-align: right;\">\n",
       "      <th></th>\n",
       "      <th>DATA ANALYSIS: Terminology</th>\n",
       "      <th>DATA ANALYSIS: Spreadsheets</th>\n",
       "      <th>DATA ANALYSIS: Basic SQL Queries</th>\n",
       "      <th>DATA ANALYSIS: Presentation Skills</th>\n",
       "      <th>DATA ANALYSIS: Research</th>\n",
       "      <th>DATA ANALYSIS: Data Validity</th>\n",
       "      <th>DATA ANALYSIS: Mathematical Principles</th>\n",
       "    </tr>\n",
       "  </thead>\n",
       "  <tbody>\n",
       "    <tr>\n",
       "      <th>0</th>\n",
       "      <td>Incomplete</td>\n",
       "      <td>Incomplete</td>\n",
       "      <td>Incomplete</td>\n",
       "      <td>Incomplete</td>\n",
       "      <td>Incomplete</td>\n",
       "      <td>Incomplete</td>\n",
       "      <td>Incomplete</td>\n",
       "    </tr>\n",
       "    <tr>\n",
       "      <th>1</th>\n",
       "      <td>Complete on 2024-08-10T15:43:03.169</td>\n",
       "      <td>Complete on 2024-08-11T22:54:32.014</td>\n",
       "      <td>Incomplete</td>\n",
       "      <td>Incomplete</td>\n",
       "      <td>Incomplete</td>\n",
       "      <td>Incomplete</td>\n",
       "      <td>Incomplete</td>\n",
       "    </tr>\n",
       "    <tr>\n",
       "      <th>2</th>\n",
       "      <td>Complete on 2024-09-02T12:37:20.540</td>\n",
       "      <td>Complete on 2024-10-02T21:05:47.423</td>\n",
       "      <td>Complete on 2024-12-12T19:39:04.199</td>\n",
       "      <td>Complete on 2024-12-21T12:54:03.313</td>\n",
       "      <td>Complete on 2025-02-13T11:20:26.987</td>\n",
       "      <td>Complete on 2025-03-16T10:56:53.575</td>\n",
       "      <td>Complete on 2025-03-18T19:45:36.223</td>\n",
       "    </tr>\n",
       "    <tr>\n",
       "      <th>3</th>\n",
       "      <td>Complete on 2024-07-27T13:06:18.921</td>\n",
       "      <td>Complete on 2024-08-07T21:35:59.760</td>\n",
       "      <td>Complete on 2024-07-28T14:04:51.595</td>\n",
       "      <td>Complete on 2024-08-07T22:27:31.467</td>\n",
       "      <td>Complete on 2024-08-25T00:06:59.396</td>\n",
       "      <td>Complete on 2024-08-25T00:15:04.042</td>\n",
       "      <td>Complete on 2024-08-25T00:27:45.474</td>\n",
       "    </tr>\n",
       "    <tr>\n",
       "      <th>4</th>\n",
       "      <td>Incomplete</td>\n",
       "      <td>Incomplete</td>\n",
       "      <td>Incomplete</td>\n",
       "      <td>Incomplete</td>\n",
       "      <td>Incomplete</td>\n",
       "      <td>Incomplete</td>\n",
       "      <td>Incomplete</td>\n",
       "    </tr>\n",
       "  </tbody>\n",
       "</table>\n",
       "</div>"
      ],
      "text/plain": [
       "            DATA ANALYSIS: Terminology          DATA ANALYSIS: Spreadsheets  \\\n",
       "0                           Incomplete                           Incomplete   \n",
       "1  Complete on 2024-08-10T15:43:03.169  Complete on 2024-08-11T22:54:32.014   \n",
       "2  Complete on 2024-09-02T12:37:20.540  Complete on 2024-10-02T21:05:47.423   \n",
       "3  Complete on 2024-07-27T13:06:18.921  Complete on 2024-08-07T21:35:59.760   \n",
       "4                           Incomplete                           Incomplete   \n",
       "\n",
       "      DATA ANALYSIS: Basic SQL Queries   DATA ANALYSIS: Presentation Skills  \\\n",
       "0                           Incomplete                           Incomplete   \n",
       "1                           Incomplete                           Incomplete   \n",
       "2  Complete on 2024-12-12T19:39:04.199  Complete on 2024-12-21T12:54:03.313   \n",
       "3  Complete on 2024-07-28T14:04:51.595  Complete on 2024-08-07T22:27:31.467   \n",
       "4                           Incomplete                           Incomplete   \n",
       "\n",
       "               DATA ANALYSIS: Research         DATA ANALYSIS: Data Validity  \\\n",
       "0                           Incomplete                           Incomplete   \n",
       "1                           Incomplete                           Incomplete   \n",
       "2  Complete on 2025-02-13T11:20:26.987  Complete on 2025-03-16T10:56:53.575   \n",
       "3  Complete on 2024-08-25T00:06:59.396  Complete on 2024-08-25T00:15:04.042   \n",
       "4                           Incomplete                           Incomplete   \n",
       "\n",
       "  DATA ANALYSIS: Mathematical Principles  \n",
       "0                             Incomplete  \n",
       "1                             Incomplete  \n",
       "2    Complete on 2025-03-18T19:45:36.223  \n",
       "3    Complete on 2024-08-25T00:27:45.474  \n",
       "4                             Incomplete  "
      ]
     },
     "execution_count": 42,
     "metadata": {},
     "output_type": "execute_result"
    }
   ],
   "source": [
    "# Define the cutoff date\n",
    "cutoff_date = pd.to_datetime(\"2025-03-31\")\n",
    "\n",
    "# Identify columns with assessment data (excluding name/id columns)\n",
    "assessment_columns = df.columns[3:-1]  # all except first 3 and last column\n",
    "\n",
    "# Function to update completion status based on date\n",
    "def update_completion_status(value):\n",
    "    if isinstance(value, str) and value.startswith(\"Complete on\"):\n",
    "        try:\n",
    "            date_str = value.split(\"Complete on \")[1]\n",
    "            completion_date = pd.to_datetime(date_str)\n",
    "            return value if completion_date <= cutoff_date else \"Incomplete\"\n",
    "        except Exception:\n",
    "            return value\n",
    "    return value\n",
    "\n",
    "# Apply the transformation across relevant columns\n",
    "df[assessment_columns] = df[assessment_columns].applymap(update_completion_status)\n",
    "\n",
    "# Show the updated rows\n",
    "df[assessment_columns].head()"
   ]
  },
  {
   "cell_type": "code",
   "execution_count": null,
   "id": "a2c9b626-83a4-4e9b-b47c-af179aba3525",
   "metadata": {},
   "outputs": [],
   "source": [
    "# Save transformed version safely\n",
    "gb_data_500_20250331 = df.copy()\n",
    "gb_data_500_20250331.head()"
   ]
  },
  {
   "cell_type": "markdown",
   "id": "de189b49-43fb-4e7e-ab3e-d61ad167e56f",
   "metadata": {},
   "source": [
    "##### 1.4.1.2 BUS501 Data Preparation"
   ]
  },
  {
   "cell_type": "markdown",
   "id": "5d3a9318-2a2a-467b-ae21-43c150b13cdf",
   "metadata": {},
   "source": [
    "##### Cutoff date: 1/1/2025"
   ]
  },
  {
   "cell_type": "markdown",
   "id": "d6a1f106-3326-4d5a-bffe-f4fc3a17a621",
   "metadata": {},
   "source": [
    "gb_data_501: need to prepare the grade book for 1/1/2025 by replacing any “Complete on …” entry with “Incomplete” if the completion date is **after** January 1, 2025."
   ]
  },
  {
   "cell_type": "code",
   "execution_count": 47,
   "id": "6858b27d-1f0c-4540-94de-05966b85ef3e",
   "metadata": {},
   "outputs": [],
   "source": [
    "# Always copy to avoid modifying original data\n",
    "df = gb_data_501.copy()"
   ]
  },
  {
   "cell_type": "code",
   "execution_count": 48,
   "id": "9d5808f9-ccdf-4773-bf75-d571e601189c",
   "metadata": {},
   "outputs": [
    {
     "data": {
      "text/html": [
       "<div>\n",
       "<style scoped>\n",
       "    .dataframe tbody tr th:only-of-type {\n",
       "        vertical-align: middle;\n",
       "    }\n",
       "\n",
       "    .dataframe tbody tr th {\n",
       "        vertical-align: top;\n",
       "    }\n",
       "\n",
       "    .dataframe thead th {\n",
       "        text-align: right;\n",
       "    }\n",
       "</style>\n",
       "<table border=\"1\" class=\"dataframe\">\n",
       "  <thead>\n",
       "    <tr style=\"text-align: right;\">\n",
       "      <th></th>\n",
       "      <th>DATA ANALYSIS: Intermediate SQL Queries</th>\n",
       "      <th>DATA ANALYSIS: Data Ethics</th>\n",
       "      <th>DATA ANALYSIS: Data Presentation Skills</th>\n",
       "      <th>DATA ANALYSIS: Professional Learning</th>\n",
       "      <th>DATA ANALYSIS: Durable Skills</th>\n",
       "    </tr>\n",
       "  </thead>\n",
       "  <tbody>\n",
       "    <tr>\n",
       "      <th>0</th>\n",
       "      <td>Incomplete</td>\n",
       "      <td>Incomplete</td>\n",
       "      <td>Incomplete</td>\n",
       "      <td>Incomplete</td>\n",
       "      <td>Incomplete</td>\n",
       "    </tr>\n",
       "    <tr>\n",
       "      <th>1</th>\n",
       "      <td>Complete on 2024-09-18T08:44:26.195</td>\n",
       "      <td>Complete on 2024-09-18T10:46:37.043</td>\n",
       "      <td>Incomplete</td>\n",
       "      <td>Complete on 2024-09-17T22:58:14.796</td>\n",
       "      <td>Complete on 2024-09-18T11:08:19.710</td>\n",
       "    </tr>\n",
       "    <tr>\n",
       "      <th>2</th>\n",
       "      <td>Incomplete</td>\n",
       "      <td>Incomplete</td>\n",
       "      <td>Incomplete</td>\n",
       "      <td>Incomplete</td>\n",
       "      <td>Incomplete</td>\n",
       "    </tr>\n",
       "    <tr>\n",
       "      <th>3</th>\n",
       "      <td>Incomplete</td>\n",
       "      <td>Incomplete</td>\n",
       "      <td>Incomplete</td>\n",
       "      <td>Incomplete</td>\n",
       "      <td>Incomplete</td>\n",
       "    </tr>\n",
       "    <tr>\n",
       "      <th>4</th>\n",
       "      <td>Incomplete</td>\n",
       "      <td>Incomplete</td>\n",
       "      <td>Incomplete</td>\n",
       "      <td>Incomplete</td>\n",
       "      <td>Incomplete</td>\n",
       "    </tr>\n",
       "  </tbody>\n",
       "</table>\n",
       "</div>"
      ],
      "text/plain": [
       "  DATA ANALYSIS: Intermediate SQL Queries  \\\n",
       "0                              Incomplete   \n",
       "1     Complete on 2024-09-18T08:44:26.195   \n",
       "2                              Incomplete   \n",
       "3                              Incomplete   \n",
       "4                              Incomplete   \n",
       "\n",
       "            DATA ANALYSIS: Data Ethics  \\\n",
       "0                           Incomplete   \n",
       "1  Complete on 2024-09-18T10:46:37.043   \n",
       "2                           Incomplete   \n",
       "3                           Incomplete   \n",
       "4                           Incomplete   \n",
       "\n",
       "  DATA ANALYSIS: Data Presentation Skills  \\\n",
       "0                              Incomplete   \n",
       "1                              Incomplete   \n",
       "2                              Incomplete   \n",
       "3                              Incomplete   \n",
       "4                              Incomplete   \n",
       "\n",
       "  DATA ANALYSIS: Professional Learning        DATA ANALYSIS: Durable Skills  \n",
       "0                           Incomplete                           Incomplete  \n",
       "1  Complete on 2024-09-17T22:58:14.796  Complete on 2024-09-18T11:08:19.710  \n",
       "2                           Incomplete                           Incomplete  \n",
       "3                           Incomplete                           Incomplete  \n",
       "4                           Incomplete                           Incomplete  "
      ]
     },
     "execution_count": 48,
     "metadata": {},
     "output_type": "execute_result"
    }
   ],
   "source": [
    "# Define the cutoff date\n",
    "cutoff_date = pd.to_datetime(\"2025-01-01\")\n",
    "\n",
    "# Identify columns with assessment data (excluding name/id columns)\n",
    "assessment_columns = df.columns[3:-1]  # all except first 3 and last column\n",
    "\n",
    "# Function to update completion status based on date\n",
    "def update_completion_status(value):\n",
    "    if isinstance(value, str) and value.startswith(\"Complete on\"):\n",
    "        try:\n",
    "            date_str = value.split(\"Complete on \")[1]\n",
    "            completion_date = pd.to_datetime(date_str)\n",
    "            return value if completion_date <= cutoff_date else \"Incomplete\"\n",
    "        except Exception:\n",
    "            return value\n",
    "    return value\n",
    "\n",
    "# Apply the transformation across relevant columns\n",
    "df[assessment_columns] = df[assessment_columns].applymap(update_completion_status)\n",
    "\n",
    "# Show the updated rows\n",
    "df[assessment_columns].head()"
   ]
  },
  {
   "cell_type": "code",
   "execution_count": null,
   "id": "bbd9990f-e65d-4a25-a065-470c46903b35",
   "metadata": {},
   "outputs": [],
   "source": [
    "# Save transformed version safely\n",
    "gb_data_501_20250101 = df.copy()\n",
    "gb_data_501_20250101.head()"
   ]
  },
  {
   "cell_type": "markdown",
   "id": "a22a24e1-842f-4250-abb4-8631e0f51e5e",
   "metadata": {},
   "source": [
    "##### Cutoff date: 3/31/2025"
   ]
  },
  {
   "cell_type": "markdown",
   "id": "095adbf6-0f3d-4d5d-b390-2319bdb56912",
   "metadata": {},
   "source": [
    "gb_data_501: need to prepare the grade book for 3/31/2025 by replacing any “Complete on …” entry with “Incomplete” if the completion date is **after** March 31, 2025"
   ]
  },
  {
   "cell_type": "code",
   "execution_count": 52,
   "id": "0326fa12-b7a5-4e31-be89-25950be97e5c",
   "metadata": {},
   "outputs": [],
   "source": [
    "# Always copy to avoid modifying original data\n",
    "df = gb_data_501.copy()"
   ]
  },
  {
   "cell_type": "code",
   "execution_count": 53,
   "id": "ab9c5f5f-c1b9-4c5a-b78a-4d65fb87a8fc",
   "metadata": {},
   "outputs": [
    {
     "data": {
      "text/html": [
       "<div>\n",
       "<style scoped>\n",
       "    .dataframe tbody tr th:only-of-type {\n",
       "        vertical-align: middle;\n",
       "    }\n",
       "\n",
       "    .dataframe tbody tr th {\n",
       "        vertical-align: top;\n",
       "    }\n",
       "\n",
       "    .dataframe thead th {\n",
       "        text-align: right;\n",
       "    }\n",
       "</style>\n",
       "<table border=\"1\" class=\"dataframe\">\n",
       "  <thead>\n",
       "    <tr style=\"text-align: right;\">\n",
       "      <th></th>\n",
       "      <th>DATA ANALYSIS: Intermediate SQL Queries</th>\n",
       "      <th>DATA ANALYSIS: Data Ethics</th>\n",
       "      <th>DATA ANALYSIS: Data Presentation Skills</th>\n",
       "      <th>DATA ANALYSIS: Professional Learning</th>\n",
       "      <th>DATA ANALYSIS: Durable Skills</th>\n",
       "    </tr>\n",
       "  </thead>\n",
       "  <tbody>\n",
       "    <tr>\n",
       "      <th>0</th>\n",
       "      <td>Incomplete</td>\n",
       "      <td>Incomplete</td>\n",
       "      <td>Incomplete</td>\n",
       "      <td>Incomplete</td>\n",
       "      <td>Incomplete</td>\n",
       "    </tr>\n",
       "    <tr>\n",
       "      <th>1</th>\n",
       "      <td>Complete on 2024-09-18T08:44:26.195</td>\n",
       "      <td>Complete on 2024-09-18T10:46:37.043</td>\n",
       "      <td>Incomplete</td>\n",
       "      <td>Complete on 2024-09-17T22:58:14.796</td>\n",
       "      <td>Complete on 2024-09-18T11:08:19.710</td>\n",
       "    </tr>\n",
       "    <tr>\n",
       "      <th>2</th>\n",
       "      <td>Incomplete</td>\n",
       "      <td>Incomplete</td>\n",
       "      <td>Incomplete</td>\n",
       "      <td>Incomplete</td>\n",
       "      <td>Incomplete</td>\n",
       "    </tr>\n",
       "    <tr>\n",
       "      <th>3</th>\n",
       "      <td>Complete on 2025-01-13T17:36:54.539</td>\n",
       "      <td>Incomplete</td>\n",
       "      <td>Incomplete</td>\n",
       "      <td>Incomplete</td>\n",
       "      <td>Incomplete</td>\n",
       "    </tr>\n",
       "    <tr>\n",
       "      <th>4</th>\n",
       "      <td>Incomplete</td>\n",
       "      <td>Incomplete</td>\n",
       "      <td>Incomplete</td>\n",
       "      <td>Incomplete</td>\n",
       "      <td>Incomplete</td>\n",
       "    </tr>\n",
       "  </tbody>\n",
       "</table>\n",
       "</div>"
      ],
      "text/plain": [
       "  DATA ANALYSIS: Intermediate SQL Queries  \\\n",
       "0                              Incomplete   \n",
       "1     Complete on 2024-09-18T08:44:26.195   \n",
       "2                              Incomplete   \n",
       "3     Complete on 2025-01-13T17:36:54.539   \n",
       "4                              Incomplete   \n",
       "\n",
       "            DATA ANALYSIS: Data Ethics  \\\n",
       "0                           Incomplete   \n",
       "1  Complete on 2024-09-18T10:46:37.043   \n",
       "2                           Incomplete   \n",
       "3                           Incomplete   \n",
       "4                           Incomplete   \n",
       "\n",
       "  DATA ANALYSIS: Data Presentation Skills  \\\n",
       "0                              Incomplete   \n",
       "1                              Incomplete   \n",
       "2                              Incomplete   \n",
       "3                              Incomplete   \n",
       "4                              Incomplete   \n",
       "\n",
       "  DATA ANALYSIS: Professional Learning        DATA ANALYSIS: Durable Skills  \n",
       "0                           Incomplete                           Incomplete  \n",
       "1  Complete on 2024-09-17T22:58:14.796  Complete on 2024-09-18T11:08:19.710  \n",
       "2                           Incomplete                           Incomplete  \n",
       "3                           Incomplete                           Incomplete  \n",
       "4                           Incomplete                           Incomplete  "
      ]
     },
     "execution_count": 53,
     "metadata": {},
     "output_type": "execute_result"
    }
   ],
   "source": [
    "# Define the cutoff date\n",
    "cutoff_date = pd.to_datetime(\"2025-03-31\")\n",
    "\n",
    "# Identify columns with assessment data (excluding name/id columns)\n",
    "assessment_columns = df.columns[3:-1]  # all except first 3 and last column\n",
    "\n",
    "# Function to update completion status based on date\n",
    "def update_completion_status(value):\n",
    "    if isinstance(value, str) and value.startswith(\"Complete on\"):\n",
    "        try:\n",
    "            date_str = value.split(\"Complete on \")[1]\n",
    "            completion_date = pd.to_datetime(date_str)\n",
    "            return value if completion_date <= cutoff_date else \"Incomplete\"\n",
    "        except Exception:\n",
    "            return value\n",
    "    return value\n",
    "\n",
    "# Apply the transformation across relevant columns\n",
    "df[assessment_columns] = df[assessment_columns].applymap(update_completion_status)\n",
    "\n",
    "# Show the updated rows\n",
    "df[assessment_columns].head()"
   ]
  },
  {
   "cell_type": "code",
   "execution_count": null,
   "id": "240ff962-d52f-4741-be1d-81a6643def38",
   "metadata": {
    "scrolled": true
   },
   "outputs": [],
   "source": [
    "# Save transformed version safely\n",
    "gb_data_501_20250331 = df.copy()\n",
    "gb_data_501_20250331.head()"
   ]
  },
  {
   "cell_type": "markdown",
   "id": "5c02dccf-e787-419a-8279-dda292be46db",
   "metadata": {},
   "source": [
    "#### 1.4.2 Combine BUS500 and BUS501 Data"
   ]
  },
  {
   "cell_type": "markdown",
   "id": "b8853eb2-3a0a-4799-87b2-d3481070deb0",
   "metadata": {},
   "source": [
    "##### 1.4.2.1 BUS500 Column Selection"
   ]
  },
  {
   "cell_type": "code",
   "execution_count": 57,
   "id": "d1f82691-6a23-4b92-8672-f5e01a52b081",
   "metadata": {},
   "outputs": [],
   "source": [
    "# Always copy to avoid modifying original data\n",
    "df = gb_data_500_20250101.copy()"
   ]
  },
  {
   "cell_type": "code",
   "execution_count": null,
   "id": "7bd53cc7-eab8-4134-af4c-c8e42b4a00e8",
   "metadata": {},
   "outputs": [],
   "source": [
    "# Identify columns with assessment data (excluding name/Introduction to Data Analysis Program columns)\n",
    "neccessary_columns = df.columns[2:-1]\n",
    "df[neccessary_columns].head()"
   ]
  },
  {
   "cell_type": "code",
   "execution_count": null,
   "id": "5a2b26c6-381d-4d7e-9042-5e87b32645f1",
   "metadata": {},
   "outputs": [],
   "source": [
    "# Save transformed version safely\n",
    "gb_data_500_20250101c = df[neccessary_columns].copy()\n",
    "gb_data_500_20250101c.head()"
   ]
  },
  {
   "cell_type": "code",
   "execution_count": 60,
   "id": "1bb2054b-3b7d-4f08-ba98-bee68cf397ac",
   "metadata": {},
   "outputs": [],
   "source": [
    "# Always copy to avoid modifying original data\n",
    "df = gb_data_500_20250331.copy()"
   ]
  },
  {
   "cell_type": "code",
   "execution_count": null,
   "id": "3c2b6c7b-5522-44a8-bf14-9240716cb665",
   "metadata": {},
   "outputs": [],
   "source": [
    "# Identify columns with assessment data (excluding name/Introduction to Data Analysis Program columns)\n",
    "neccessary_columns = df.columns[2:-1]\n",
    "df[neccessary_columns].head()"
   ]
  },
  {
   "cell_type": "code",
   "execution_count": null,
   "id": "383e5e65-513f-46c4-ba5e-4e345bd48d3f",
   "metadata": {},
   "outputs": [],
   "source": [
    "# Save transformed version safely\n",
    "gb_data_500_20250331c = df[neccessary_columns].copy()\n",
    "gb_data_500_20250331c.head()"
   ]
  },
  {
   "cell_type": "markdown",
   "id": "8463e204-3b70-4b65-912e-e2df2b1dfc4f",
   "metadata": {},
   "source": [
    "##### 1.4.2.2 BUS501 Column Selection"
   ]
  },
  {
   "cell_type": "code",
   "execution_count": 64,
   "id": "6e8efe0e-0e7b-4294-b6c8-990f6fdda34a",
   "metadata": {},
   "outputs": [],
   "source": [
    "# Always copy to avoid modifying original data\n",
    "df = gb_data_501_20250101.copy()"
   ]
  },
  {
   "cell_type": "code",
   "execution_count": null,
   "id": "6c47440c-fe2c-41ad-a698-ece53775b5c3",
   "metadata": {},
   "outputs": [],
   "source": [
    "# Identify columns with assessment data (excluding name/id columns)\n",
    "neccessary_columns = df.columns[2:-1]\n",
    "df[neccessary_columns].head()"
   ]
  },
  {
   "cell_type": "code",
   "execution_count": null,
   "id": "4c03dd1b-1a46-41ef-b2c5-eb72d79986b7",
   "metadata": {},
   "outputs": [],
   "source": [
    "# Save transformed version safely\n",
    "gb_data_501_20250101c = df[neccessary_columns].copy()\n",
    "gb_data_501_20250101c.head()"
   ]
  },
  {
   "cell_type": "code",
   "execution_count": 67,
   "id": "4302de58-d310-47c8-8171-eb7e54a4b0c8",
   "metadata": {},
   "outputs": [],
   "source": [
    "# Always copy to avoid modifying original data\n",
    "df = gb_data_501_20250331.copy()"
   ]
  },
  {
   "cell_type": "code",
   "execution_count": null,
   "id": "d78ccc74-37cc-4e3b-b75e-492156a1b74d",
   "metadata": {
    "scrolled": true
   },
   "outputs": [],
   "source": [
    "# Identify columns with assessment data (excluding name/id columns)\n",
    "neccessary_columns = df.columns[2:-1]\n",
    "df[neccessary_columns].head()"
   ]
  },
  {
   "cell_type": "code",
   "execution_count": null,
   "id": "9c45a0b1-cc24-45d4-b62e-e9a88086b998",
   "metadata": {},
   "outputs": [],
   "source": [
    "# Save transformed version safely\n",
    "gb_data_501_20250331c = df[neccessary_columns].copy()\n",
    "gb_data_501_20250331c.head()"
   ]
  },
  {
   "cell_type": "markdown",
   "id": "ef84a58f-f84f-48cd-b8e6-1bbc2161b1af",
   "metadata": {},
   "source": [
    "##### 1.4.2.3 Merge Datasets: BUS500 and BUS501"
   ]
  },
  {
   "cell_type": "code",
   "execution_count": null,
   "id": "89700eca-875f-4210-b311-d7f1ccf1e9a4",
   "metadata": {},
   "outputs": [],
   "source": [
    "# Perform outer join on the 'Learner Identifier' column\n",
    "gb_data_500_501_20250101 = pd.merge(gb_data_500_20250101c, gb_data_501_20250101c, on='Learner Identifier', how='outer')\n",
    "gb_data_500_501_20250101.head()"
   ]
  },
  {
   "cell_type": "code",
   "execution_count": null,
   "id": "09daa29f-fb87-442e-a264-3cd476e1e2a9",
   "metadata": {},
   "outputs": [],
   "source": [
    "# Perform outer join on the 'Learner Identifier' column\n",
    "gb_data_500_501_20250331 = pd.merge(gb_data_500_20250331c, gb_data_501_20250331c, on='Learner Identifier', how='outer')\n",
    "gb_data_500_501_20250331.head()"
   ]
  },
  {
   "cell_type": "code",
   "execution_count": 73,
   "id": "6a5faa36-dfa5-4c84-96f8-75df719b45bc",
   "metadata": {},
   "outputs": [
    {
     "name": "stdout",
     "output_type": "stream",
     "text": [
      "<class 'pandas.core.frame.DataFrame'>\n",
      "Int64Index: 2663 entries, 0 to 2662\n",
      "Data columns (total 13 columns):\n",
      " #   Column                                   Non-Null Count  Dtype \n",
      "---  ------                                   --------------  ----- \n",
      " 0   Learner Identifier                       2663 non-null   object\n",
      " 1   DATA ANALYSIS: Terminology               2659 non-null   object\n",
      " 2   DATA ANALYSIS: Spreadsheets              2659 non-null   object\n",
      " 3   DATA ANALYSIS: Basic SQL Queries         2659 non-null   object\n",
      " 4   DATA ANALYSIS: Presentation Skills       2659 non-null   object\n",
      " 5   DATA ANALYSIS: Research                  2659 non-null   object\n",
      " 6   DATA ANALYSIS: Data Validity             2659 non-null   object\n",
      " 7   DATA ANALYSIS: Mathematical Principles   2659 non-null   object\n",
      " 8   DATA ANALYSIS: Intermediate SQL Queries  521 non-null    object\n",
      " 9   DATA ANALYSIS: Data Ethics               521 non-null    object\n",
      " 10  DATA ANALYSIS: Data Presentation Skills  521 non-null    object\n",
      " 11  DATA ANALYSIS: Professional Learning     521 non-null    object\n",
      " 12  DATA ANALYSIS: Durable Skills            521 non-null    object\n",
      "dtypes: object(13)\n",
      "memory usage: 291.3+ KB\n",
      "<class 'pandas.core.frame.DataFrame'>\n",
      "Int64Index: 2663 entries, 0 to 2662\n",
      "Data columns (total 13 columns):\n",
      " #   Column                                   Non-Null Count  Dtype \n",
      "---  ------                                   --------------  ----- \n",
      " 0   Learner Identifier                       2663 non-null   object\n",
      " 1   DATA ANALYSIS: Terminology               2659 non-null   object\n",
      " 2   DATA ANALYSIS: Spreadsheets              2659 non-null   object\n",
      " 3   DATA ANALYSIS: Basic SQL Queries         2659 non-null   object\n",
      " 4   DATA ANALYSIS: Presentation Skills       2659 non-null   object\n",
      " 5   DATA ANALYSIS: Research                  2659 non-null   object\n",
      " 6   DATA ANALYSIS: Data Validity             2659 non-null   object\n",
      " 7   DATA ANALYSIS: Mathematical Principles   2659 non-null   object\n",
      " 8   DATA ANALYSIS: Intermediate SQL Queries  521 non-null    object\n",
      " 9   DATA ANALYSIS: Data Ethics               521 non-null    object\n",
      " 10  DATA ANALYSIS: Data Presentation Skills  521 non-null    object\n",
      " 11  DATA ANALYSIS: Professional Learning     521 non-null    object\n",
      " 12  DATA ANALYSIS: Durable Skills            521 non-null    object\n",
      "dtypes: object(13)\n",
      "memory usage: 291.3+ KB\n"
     ]
    }
   ],
   "source": [
    "#Call the info method on the data to see a summary of the data\n",
    "gb_data_500_501_20250101.info() \n",
    "gb_data_500_501_20250331.info()"
   ]
  },
  {
   "cell_type": "code",
   "execution_count": 74,
   "id": "fc229e63-22c3-4187-8192-53ab50a874f0",
   "metadata": {},
   "outputs": [
    {
     "name": "stdout",
     "output_type": "stream",
     "text": [
      "Total number of null entries: 10738\n",
      "Null entries per column:\n",
      "Learner Identifier                            0\n",
      "DATA ANALYSIS: Terminology                    4\n",
      "DATA ANALYSIS: Spreadsheets                   4\n",
      "DATA ANALYSIS: Basic SQL Queries              4\n",
      "DATA ANALYSIS: Presentation Skills            4\n",
      "DATA ANALYSIS: Research                       4\n",
      "DATA ANALYSIS: Data Validity                  4\n",
      "DATA ANALYSIS: Mathematical Principles        4\n",
      "DATA ANALYSIS: Intermediate SQL Queries    2142\n",
      "DATA ANALYSIS: Data Ethics                 2142\n",
      "DATA ANALYSIS: Data Presentation Skills    2142\n",
      "DATA ANALYSIS: Professional Learning       2142\n",
      "DATA ANALYSIS: Durable Skills              2142\n",
      "dtype: int64\n"
     ]
    }
   ],
   "source": [
    "# Total number of null values in the whole DataFrame\n",
    "total_nulls = gb_data_500_501_20250101.isnull().sum().sum()\n",
    "print(f\"Total number of null entries: {total_nulls}\")\n",
    "\n",
    "# Number of nulls per column\n",
    "nulls_per_column = gb_data_500_501_20250101.isnull().sum()\n",
    "print(\"Null entries per column:\")\n",
    "print(nulls_per_column)"
   ]
  },
  {
   "cell_type": "code",
   "execution_count": 75,
   "id": "2158e29d-818e-4d11-800b-fed60addacf8",
   "metadata": {},
   "outputs": [
    {
     "name": "stdout",
     "output_type": "stream",
     "text": [
      "Total number of null entries: 0\n",
      "Null entries per column:\n",
      "Learner Identifier                        0\n",
      "DATA ANALYSIS: Terminology                0\n",
      "DATA ANALYSIS: Spreadsheets               0\n",
      "DATA ANALYSIS: Basic SQL Queries          0\n",
      "DATA ANALYSIS: Presentation Skills        0\n",
      "DATA ANALYSIS: Research                   0\n",
      "DATA ANALYSIS: Data Validity              0\n",
      "DATA ANALYSIS: Mathematical Principles    0\n",
      "dtype: int64\n"
     ]
    }
   ],
   "source": [
    "# Total number of null values in the whole DataFrame\n",
    "total_nulls = gb_data_500_20250101c.isnull().sum().sum()\n",
    "print(f\"Total number of null entries: {total_nulls}\")\n",
    "\n",
    "# Number of nulls per column\n",
    "nulls_per_column = gb_data_500_20250101c.isnull().sum()\n",
    "print(\"Null entries per column:\")\n",
    "print(nulls_per_column)"
   ]
  },
  {
   "cell_type": "code",
   "execution_count": 76,
   "id": "5bf2d217-c7c3-42d6-9f73-cfc07118340c",
   "metadata": {},
   "outputs": [
    {
     "name": "stdout",
     "output_type": "stream",
     "text": [
      "Total number of null entries: 0\n",
      "Null entries per column:\n",
      "Learner Identifier                         0\n",
      "DATA ANALYSIS: Intermediate SQL Queries    0\n",
      "DATA ANALYSIS: Data Ethics                 0\n",
      "DATA ANALYSIS: Data Presentation Skills    0\n",
      "DATA ANALYSIS: Professional Learning       0\n",
      "DATA ANALYSIS: Durable Skills              0\n",
      "dtype: int64\n"
     ]
    }
   ],
   "source": [
    "# Total number of null values in the whole DataFrame\n",
    "total_nulls = gb_data_501_20250101c.isnull().sum().sum()\n",
    "print(f\"Total number of null entries: {total_nulls}\")\n",
    "\n",
    "# Number of nulls per column\n",
    "nulls_per_column = gb_data_501_20250101c.isnull().sum()\n",
    "print(\"Null entries per column:\")\n",
    "print(nulls_per_column)"
   ]
  },
  {
   "cell_type": "code",
   "execution_count": 77,
   "id": "9aa7f477-5498-49a6-9c91-d0e7023cb7b4",
   "metadata": {},
   "outputs": [
    {
     "name": "stdout",
     "output_type": "stream",
     "text": [
      "Total number of null entries: 10738\n",
      "Null entries per column:\n",
      "Learner Identifier                            0\n",
      "DATA ANALYSIS: Terminology                    4\n",
      "DATA ANALYSIS: Spreadsheets                   4\n",
      "DATA ANALYSIS: Basic SQL Queries              4\n",
      "DATA ANALYSIS: Presentation Skills            4\n",
      "DATA ANALYSIS: Research                       4\n",
      "DATA ANALYSIS: Data Validity                  4\n",
      "DATA ANALYSIS: Mathematical Principles        4\n",
      "DATA ANALYSIS: Intermediate SQL Queries    2142\n",
      "DATA ANALYSIS: Data Ethics                 2142\n",
      "DATA ANALYSIS: Data Presentation Skills    2142\n",
      "DATA ANALYSIS: Professional Learning       2142\n",
      "DATA ANALYSIS: Durable Skills              2142\n",
      "dtype: int64\n"
     ]
    }
   ],
   "source": [
    "# Total number of null values in the whole DataFrame\n",
    "total_nulls = gb_data_500_501_20250331.isnull().sum().sum()\n",
    "print(f\"Total number of null entries: {total_nulls}\")\n",
    "\n",
    "# Number of nulls per column\n",
    "nulls_per_column = gb_data_500_501_20250331.isnull().sum()\n",
    "print(\"Null entries per column:\")\n",
    "print(nulls_per_column)"
   ]
  },
  {
   "cell_type": "markdown",
   "id": "ead997ea-aa55-4c3e-bfcb-271fa07d3e07",
   "metadata": {},
   "source": [
    "**Note**: The null values in the merged BUS500 and BUS501 datasets are the result of the outer join."
   ]
  },
  {
   "cell_type": "markdown",
   "id": "08a1fbb9-b8c9-4a21-af67-ccab98bdd709",
   "metadata": {},
   "source": [
    "#### 1.4.3 Handle Missing Values"
   ]
  },
  {
   "cell_type": "markdown",
   "id": "6c43b989-f9a0-4ed9-9ccd-78c90faa94c7",
   "metadata": {},
   "source": [
    "**Assumption**: Students with null values in BUS500 have completed BUS500. Students with null values in BUS501 have not completed BUS501."
   ]
  },
  {
   "cell_type": "markdown",
   "id": "0c26769b-b667-4a18-9f89-974d06398b62",
   "metadata": {},
   "source": [
    "**Filling Null Values**: BUS500 nulls → 'Complete' (`4` students), BUS501 nulls → 'Incomplete' (`2142` students)"
   ]
  },
  {
   "cell_type": "code",
   "execution_count": 82,
   "id": "2f916219-0bde-4252-b6d0-cdb349a9a78e",
   "metadata": {},
   "outputs": [],
   "source": [
    "# Always copy to avoid modifying original data\n",
    "df = gb_data_500_501_20250101.copy()"
   ]
  },
  {
   "cell_type": "code",
   "execution_count": 83,
   "id": "56cb5d90-0c21-45e5-a8f9-4f7a87669387",
   "metadata": {},
   "outputs": [],
   "source": [
    "# Should fill 4 null values in the Bus500 Competencies with \"complete\"\n",
    "# Columns to fill with \"complete\"\n",
    "fill_complete_cols = [\n",
    "    \"DATA ANALYSIS: Terminology\",\n",
    "    \"DATA ANALYSIS: Spreadsheets\",\n",
    "    \"DATA ANALYSIS: Basic SQL Queries\",\n",
    "    \"DATA ANALYSIS: Presentation Skills\",\n",
    "    \"DATA ANALYSIS: Research\",\n",
    "    \"DATA ANALYSIS: Data Validity\",\n",
    "    \"DATA ANALYSIS: Mathematical Principles\"\n",
    "]\n",
    "\n",
    "# Should fill 2142 null values in the Bus501 Competencies with \"incomplete\"\n",
    "# Columns to fill with \"incomplete\"\n",
    "fill_incomplete_cols = [\n",
    "    \"DATA ANALYSIS: Intermediate SQL Queries\",\n",
    "    \"DATA ANALYSIS: Data Ethics\",\n",
    "    \"DATA ANALYSIS: Data Presentation Skills\",\n",
    "    \"DATA ANALYSIS: Professional Learning\",\n",
    "    \"DATA ANALYSIS: Durable Skills\"\n",
    "]\n",
    "\n",
    "# Fill specified columns\n",
    "df[fill_complete_cols] = df[fill_complete_cols].fillna(\"Complete\")\n",
    "df[fill_incomplete_cols] = df[fill_incomplete_cols].fillna(\"Incomplete\") "
   ]
  },
  {
   "cell_type": "code",
   "execution_count": null,
   "id": "b3d7b99a-8731-49d1-b4d0-d7dc03ea68d4",
   "metadata": {},
   "outputs": [],
   "source": [
    "# Save transformed version safely\n",
    "gb_data_500_501_20250101_noNull = df.copy()\n",
    "gb_data_500_501_20250101_noNull.head()"
   ]
  },
  {
   "cell_type": "code",
   "execution_count": 85,
   "id": "a89d4027-8d6a-46f4-876e-da610ba29061",
   "metadata": {},
   "outputs": [],
   "source": [
    "# Always copy to avoid modifying original data\n",
    "df = gb_data_500_501_20250331.copy()"
   ]
  },
  {
   "cell_type": "code",
   "execution_count": 86,
   "id": "f8b7bbeb-1387-41cb-98c2-e1a169ef9009",
   "metadata": {},
   "outputs": [],
   "source": [
    "# Should fill 4 null values in the Bus500 Competencies with \"complete\"\n",
    "# Columns to fill with \"complete\"\n",
    "fill_complete_cols = [\n",
    "    \"DATA ANALYSIS: Terminology\",\n",
    "    \"DATA ANALYSIS: Spreadsheets\",\n",
    "    \"DATA ANALYSIS: Basic SQL Queries\",\n",
    "    \"DATA ANALYSIS: Presentation Skills\",\n",
    "    \"DATA ANALYSIS: Research\",\n",
    "    \"DATA ANALYSIS: Data Validity\",\n",
    "    \"DATA ANALYSIS: Mathematical Principles\"\n",
    "]\n",
    "\n",
    "# Should fill 2142 null values in the Bus501 Competencies with \"incomplete\"\n",
    "# Columns to fill with \"incomplete\"\n",
    "fill_incomplete_cols = [\n",
    "    \"DATA ANALYSIS: Intermediate SQL Queries\",\n",
    "    \"DATA ANALYSIS: Data Ethics\",\n",
    "    \"DATA ANALYSIS: Data Presentation Skills\",\n",
    "    \"DATA ANALYSIS: Professional Learning\",\n",
    "    \"DATA ANALYSIS: Durable Skills\"\n",
    "]\n",
    "\n",
    "## Fill specified columns\n",
    "df[fill_complete_cols] = df[fill_complete_cols].fillna(\"Complete\") \n",
    "df[fill_incomplete_cols] = df[fill_incomplete_cols].fillna(\"Incomplete\") "
   ]
  },
  {
   "cell_type": "code",
   "execution_count": null,
   "id": "6716b0e4-d36e-4702-9567-6efeeb4565b8",
   "metadata": {},
   "outputs": [],
   "source": [
    "# Save transformed version safely\n",
    "gb_data_500_501_20250331_noNull = df.copy()\n",
    "gb_data_500_501_20250331_noNull.head()"
   ]
  },
  {
   "cell_type": "code",
   "execution_count": 88,
   "id": "493ff78b-d529-46c9-84ee-8439c1fae88f",
   "metadata": {
    "scrolled": true
   },
   "outputs": [
    {
     "name": "stdout",
     "output_type": "stream",
     "text": [
      "<class 'pandas.core.frame.DataFrame'>\n",
      "Int64Index: 2663 entries, 0 to 2662\n",
      "Data columns (total 13 columns):\n",
      " #   Column                                   Non-Null Count  Dtype \n",
      "---  ------                                   --------------  ----- \n",
      " 0   Learner Identifier                       2663 non-null   object\n",
      " 1   DATA ANALYSIS: Terminology               2663 non-null   object\n",
      " 2   DATA ANALYSIS: Spreadsheets              2663 non-null   object\n",
      " 3   DATA ANALYSIS: Basic SQL Queries         2663 non-null   object\n",
      " 4   DATA ANALYSIS: Presentation Skills       2663 non-null   object\n",
      " 5   DATA ANALYSIS: Research                  2663 non-null   object\n",
      " 6   DATA ANALYSIS: Data Validity             2663 non-null   object\n",
      " 7   DATA ANALYSIS: Mathematical Principles   2663 non-null   object\n",
      " 8   DATA ANALYSIS: Intermediate SQL Queries  2663 non-null   object\n",
      " 9   DATA ANALYSIS: Data Ethics               2663 non-null   object\n",
      " 10  DATA ANALYSIS: Data Presentation Skills  2663 non-null   object\n",
      " 11  DATA ANALYSIS: Professional Learning     2663 non-null   object\n",
      " 12  DATA ANALYSIS: Durable Skills            2663 non-null   object\n",
      "dtypes: object(13)\n",
      "memory usage: 291.3+ KB\n",
      "<class 'pandas.core.frame.DataFrame'>\n",
      "Int64Index: 2663 entries, 0 to 2662\n",
      "Data columns (total 13 columns):\n",
      " #   Column                                   Non-Null Count  Dtype \n",
      "---  ------                                   --------------  ----- \n",
      " 0   Learner Identifier                       2663 non-null   object\n",
      " 1   DATA ANALYSIS: Terminology               2663 non-null   object\n",
      " 2   DATA ANALYSIS: Spreadsheets              2663 non-null   object\n",
      " 3   DATA ANALYSIS: Basic SQL Queries         2663 non-null   object\n",
      " 4   DATA ANALYSIS: Presentation Skills       2663 non-null   object\n",
      " 5   DATA ANALYSIS: Research                  2663 non-null   object\n",
      " 6   DATA ANALYSIS: Data Validity             2663 non-null   object\n",
      " 7   DATA ANALYSIS: Mathematical Principles   2663 non-null   object\n",
      " 8   DATA ANALYSIS: Intermediate SQL Queries  2663 non-null   object\n",
      " 9   DATA ANALYSIS: Data Ethics               2663 non-null   object\n",
      " 10  DATA ANALYSIS: Data Presentation Skills  2663 non-null   object\n",
      " 11  DATA ANALYSIS: Professional Learning     2663 non-null   object\n",
      " 12  DATA ANALYSIS: Durable Skills            2663 non-null   object\n",
      "dtypes: object(13)\n",
      "memory usage: 291.3+ KB\n"
     ]
    }
   ],
   "source": [
    "#Call the info method on the data to see a summary of the data\n",
    "gb_data_500_501_20250101_noNull.info() \n",
    "gb_data_500_501_20250331_noNull.info()"
   ]
  },
  {
   "cell_type": "markdown",
   "id": "89b40595-4896-48dc-8125-e19fee273bcb",
   "metadata": {},
   "source": [
    "#### 1.4.4 Calculate Progress Metrics"
   ]
  },
  {
   "cell_type": "markdown",
   "id": "100c5769-c2d3-4d8a-84ba-6f9357578237",
   "metadata": {},
   "source": [
    "**Progress Metrics**: \"Completion Count\" and \"% Completion\""
   ]
  },
  {
   "cell_type": "code",
   "execution_count": 91,
   "id": "82b18ae0-102e-4929-b13a-b9e1c97fb5a9",
   "metadata": {},
   "outputs": [],
   "source": [
    "# Always copy to avoid modifying original data\n",
    "df = gb_data_500_501_20250101_noNull.copy()"
   ]
  },
  {
   "cell_type": "code",
   "execution_count": 92,
   "id": "2974ffa1-4118-4af0-9c82-bf0c08233afb",
   "metadata": {},
   "outputs": [],
   "source": [
    "# Define assessment columns (excluding Learner Identifier)\n",
    "assessment_cols = df.columns[1:]\n",
    "\n",
    "# Count number of completions per row\n",
    "df['Completion Count'] = df[assessment_cols].apply(\n",
    "    lambda row: sum(str(val).startswith(\"Complete\") for val in row), axis=1\n",
    ")\n",
    "\n",
    "# Calculate percent of completion as whole number\n",
    "df['% Completion'] = (df['Completion Count'] / len(assessment_cols) * 100).round(0).astype(int)\n",
    "# note my current enviroment give astype(int) output int32 and should work with no issues.\n",
    "# optional: astype('int64') will give output int64"
   ]
  },
  {
   "cell_type": "code",
   "execution_count": null,
   "id": "bed25612-ac11-4915-b28d-2e04272bf0cc",
   "metadata": {},
   "outputs": [],
   "source": [
    "# Save transformed version safely\n",
    "gb_data_500_501_20250101_noNull_sum = df.copy()\n",
    "gb_data_500_501_20250101_noNull_sum.head()"
   ]
  },
  {
   "cell_type": "code",
   "execution_count": 94,
   "id": "1969d4e5-b2da-41bc-9a94-8b76bd3a8b33",
   "metadata": {},
   "outputs": [],
   "source": [
    "# Always copy to avoid modifying original data\n",
    "df = gb_data_500_501_20250331_noNull.copy()"
   ]
  },
  {
   "cell_type": "code",
   "execution_count": 95,
   "id": "c13cf9f2-4196-43a7-a925-38d556de7b71",
   "metadata": {},
   "outputs": [],
   "source": [
    "# Define assessment columns (excluding Learner Identifier)\n",
    "assessment_cols = df.columns[1:]\n",
    "\n",
    "# Count number of completions per row\n",
    "df['Completion Count'] = df[assessment_cols].apply(\n",
    "    lambda row: sum(str(val).startswith(\"Complete\") for val in row), axis=1 \n",
    ")\n",
    "\n",
    "# Calculate percent of completion as whole number\n",
    "df['% Completion'] = (df['Completion Count'] / len(assessment_cols) * 100).round(0).astype(int)"
   ]
  },
  {
   "cell_type": "code",
   "execution_count": null,
   "id": "9fb0245b-a305-41b1-a20d-dfda08bd2801",
   "metadata": {},
   "outputs": [],
   "source": [
    "# Save transformed version safely\n",
    "gb_data_500_501_20250331_noNull_sum = df.copy()\n",
    "gb_data_500_501_20250331_noNull_sum.head()"
   ]
  },
  {
   "cell_type": "code",
   "execution_count": 97,
   "id": "bfa379ee-2f6d-4b51-9f10-35732f094377",
   "metadata": {},
   "outputs": [
    {
     "name": "stdout",
     "output_type": "stream",
     "text": [
      "<class 'pandas.core.frame.DataFrame'>\n",
      "Int64Index: 2663 entries, 0 to 2662\n",
      "Data columns (total 15 columns):\n",
      " #   Column                                   Non-Null Count  Dtype \n",
      "---  ------                                   --------------  ----- \n",
      " 0   Learner Identifier                       2663 non-null   object\n",
      " 1   DATA ANALYSIS: Terminology               2663 non-null   object\n",
      " 2   DATA ANALYSIS: Spreadsheets              2663 non-null   object\n",
      " 3   DATA ANALYSIS: Basic SQL Queries         2663 non-null   object\n",
      " 4   DATA ANALYSIS: Presentation Skills       2663 non-null   object\n",
      " 5   DATA ANALYSIS: Research                  2663 non-null   object\n",
      " 6   DATA ANALYSIS: Data Validity             2663 non-null   object\n",
      " 7   DATA ANALYSIS: Mathematical Principles   2663 non-null   object\n",
      " 8   DATA ANALYSIS: Intermediate SQL Queries  2663 non-null   object\n",
      " 9   DATA ANALYSIS: Data Ethics               2663 non-null   object\n",
      " 10  DATA ANALYSIS: Data Presentation Skills  2663 non-null   object\n",
      " 11  DATA ANALYSIS: Professional Learning     2663 non-null   object\n",
      " 12  DATA ANALYSIS: Durable Skills            2663 non-null   object\n",
      " 13  Completion Count                         2663 non-null   int64 \n",
      " 14  % Completion                             2663 non-null   int32 \n",
      "dtypes: int32(1), int64(1), object(13)\n",
      "memory usage: 322.5+ KB\n",
      "<class 'pandas.core.frame.DataFrame'>\n",
      "Int64Index: 2663 entries, 0 to 2662\n",
      "Data columns (total 15 columns):\n",
      " #   Column                                   Non-Null Count  Dtype \n",
      "---  ------                                   --------------  ----- \n",
      " 0   Learner Identifier                       2663 non-null   object\n",
      " 1   DATA ANALYSIS: Terminology               2663 non-null   object\n",
      " 2   DATA ANALYSIS: Spreadsheets              2663 non-null   object\n",
      " 3   DATA ANALYSIS: Basic SQL Queries         2663 non-null   object\n",
      " 4   DATA ANALYSIS: Presentation Skills       2663 non-null   object\n",
      " 5   DATA ANALYSIS: Research                  2663 non-null   object\n",
      " 6   DATA ANALYSIS: Data Validity             2663 non-null   object\n",
      " 7   DATA ANALYSIS: Mathematical Principles   2663 non-null   object\n",
      " 8   DATA ANALYSIS: Intermediate SQL Queries  2663 non-null   object\n",
      " 9   DATA ANALYSIS: Data Ethics               2663 non-null   object\n",
      " 10  DATA ANALYSIS: Data Presentation Skills  2663 non-null   object\n",
      " 11  DATA ANALYSIS: Professional Learning     2663 non-null   object\n",
      " 12  DATA ANALYSIS: Durable Skills            2663 non-null   object\n",
      " 13  Completion Count                         2663 non-null   int64 \n",
      " 14  % Completion                             2663 non-null   int32 \n",
      "dtypes: int32(1), int64(1), object(13)\n",
      "memory usage: 322.5+ KB\n"
     ]
    }
   ],
   "source": [
    "#Call the info method on the data to see a summary of the data\n",
    "gb_data_500_501_20250101_noNull_sum.info() \n",
    "gb_data_500_501_20250331_noNull_sum.info()"
   ]
  },
  {
   "cell_type": "code",
   "execution_count": 98,
   "id": "d2a3c4d3-1bb0-4023-a3d5-a9c2024f1249",
   "metadata": {},
   "outputs": [
    {
     "data": {
      "text/html": [
       "<div>\n",
       "<style scoped>\n",
       "    .dataframe tbody tr th:only-of-type {\n",
       "        vertical-align: middle;\n",
       "    }\n",
       "\n",
       "    .dataframe tbody tr th {\n",
       "        vertical-align: top;\n",
       "    }\n",
       "\n",
       "    .dataframe thead th {\n",
       "        text-align: right;\n",
       "    }\n",
       "</style>\n",
       "<table border=\"1\" class=\"dataframe\">\n",
       "  <thead>\n",
       "    <tr style=\"text-align: right;\">\n",
       "      <th></th>\n",
       "      <th>Completion Count</th>\n",
       "      <th>% Completion</th>\n",
       "    </tr>\n",
       "  </thead>\n",
       "  <tbody>\n",
       "    <tr>\n",
       "      <th>count</th>\n",
       "      <td>2663.00</td>\n",
       "      <td>2663.00</td>\n",
       "    </tr>\n",
       "    <tr>\n",
       "      <th>mean</th>\n",
       "      <td>1.36</td>\n",
       "      <td>11.32</td>\n",
       "    </tr>\n",
       "    <tr>\n",
       "      <th>std</th>\n",
       "      <td>2.64</td>\n",
       "      <td>22.01</td>\n",
       "    </tr>\n",
       "    <tr>\n",
       "      <th>min</th>\n",
       "      <td>0.00</td>\n",
       "      <td>0.00</td>\n",
       "    </tr>\n",
       "    <tr>\n",
       "      <th>25%</th>\n",
       "      <td>0.00</td>\n",
       "      <td>0.00</td>\n",
       "    </tr>\n",
       "    <tr>\n",
       "      <th>50%</th>\n",
       "      <td>0.00</td>\n",
       "      <td>0.00</td>\n",
       "    </tr>\n",
       "    <tr>\n",
       "      <th>75%</th>\n",
       "      <td>1.00</td>\n",
       "      <td>8.00</td>\n",
       "    </tr>\n",
       "    <tr>\n",
       "      <th>max</th>\n",
       "      <td>12.00</td>\n",
       "      <td>100.00</td>\n",
       "    </tr>\n",
       "  </tbody>\n",
       "</table>\n",
       "</div>"
      ],
      "text/plain": [
       "       Completion Count  % Completion\n",
       "count           2663.00       2663.00\n",
       "mean               1.36         11.32\n",
       "std                2.64         22.01\n",
       "min                0.00          0.00\n",
       "25%                0.00          0.00\n",
       "50%                0.00          0.00\n",
       "75%                1.00          8.00\n",
       "max               12.00        100.00"
      ]
     },
     "execution_count": 98,
     "metadata": {},
     "output_type": "execute_result"
    }
   ],
   "source": [
    "# Call df.describe() to get a statistical summary of the numerical columns.\n",
    "gb_data_500_501_20250101_noNull_sum.describe().round(2)"
   ]
  },
  {
   "cell_type": "code",
   "execution_count": 99,
   "id": "9f72883c-8e0a-4fdc-8ace-a46a0dc8e2ac",
   "metadata": {},
   "outputs": [
    {
     "data": {
      "text/html": [
       "<div>\n",
       "<style scoped>\n",
       "    .dataframe tbody tr th:only-of-type {\n",
       "        vertical-align: middle;\n",
       "    }\n",
       "\n",
       "    .dataframe tbody tr th {\n",
       "        vertical-align: top;\n",
       "    }\n",
       "\n",
       "    .dataframe thead th {\n",
       "        text-align: right;\n",
       "    }\n",
       "</style>\n",
       "<table border=\"1\" class=\"dataframe\">\n",
       "  <thead>\n",
       "    <tr style=\"text-align: right;\">\n",
       "      <th></th>\n",
       "      <th>Completion Count</th>\n",
       "      <th>% Completion</th>\n",
       "    </tr>\n",
       "  </thead>\n",
       "  <tbody>\n",
       "    <tr>\n",
       "      <th>count</th>\n",
       "      <td>2663.00</td>\n",
       "      <td>2663.00</td>\n",
       "    </tr>\n",
       "    <tr>\n",
       "      <th>mean</th>\n",
       "      <td>1.95</td>\n",
       "      <td>16.20</td>\n",
       "    </tr>\n",
       "    <tr>\n",
       "      <th>std</th>\n",
       "      <td>3.09</td>\n",
       "      <td>25.79</td>\n",
       "    </tr>\n",
       "    <tr>\n",
       "      <th>min</th>\n",
       "      <td>0.00</td>\n",
       "      <td>0.00</td>\n",
       "    </tr>\n",
       "    <tr>\n",
       "      <th>25%</th>\n",
       "      <td>0.00</td>\n",
       "      <td>0.00</td>\n",
       "    </tr>\n",
       "    <tr>\n",
       "      <th>50%</th>\n",
       "      <td>1.00</td>\n",
       "      <td>8.00</td>\n",
       "    </tr>\n",
       "    <tr>\n",
       "      <th>75%</th>\n",
       "      <td>2.00</td>\n",
       "      <td>17.00</td>\n",
       "    </tr>\n",
       "    <tr>\n",
       "      <th>max</th>\n",
       "      <td>12.00</td>\n",
       "      <td>100.00</td>\n",
       "    </tr>\n",
       "  </tbody>\n",
       "</table>\n",
       "</div>"
      ],
      "text/plain": [
       "       Completion Count  % Completion\n",
       "count           2663.00       2663.00\n",
       "mean               1.95         16.20\n",
       "std                3.09         25.79\n",
       "min                0.00          0.00\n",
       "25%                0.00          0.00\n",
       "50%                1.00          8.00\n",
       "75%                2.00         17.00\n",
       "max               12.00        100.00"
      ]
     },
     "execution_count": 99,
     "metadata": {},
     "output_type": "execute_result"
    }
   ],
   "source": [
    "# Call df.describe() to get a statistical summary of the numerical columns.\n",
    "gb_data_500_501_20250331_noNull_sum.describe().round(2)"
   ]
  },
  {
   "cell_type": "markdown",
   "id": "96dac172-5686-4f77-90c2-e961866e6d6d",
   "metadata": {},
   "source": [
    "---\n",
    "## 2 Exploratory Data Analysis: Progress Distribution"
   ]
  },
  {
   "cell_type": "markdown",
   "id": "e167f1b9-7c72-4fe7-8fb9-9abe9f4e7d49",
   "metadata": {},
   "source": [
    "### 2.1 Progress Analysis: At Start and End of Quarter "
   ]
  },
  {
   "cell_type": "markdown",
   "id": "1cb6caf0-470c-4222-bd57-4a3c9eaf73a3",
   "metadata": {},
   "source": [
    "#### 2.1.1 Entire Student Population"
   ]
  },
  {
   "cell_type": "code",
   "execution_count": 103,
   "id": "0e8395ea-4383-4a33-baca-f450c898cacd",
   "metadata": {},
   "outputs": [
    {
     "data": {
      "image/png": "[encoded data removed]",
      "text/plain": [
       "<Figure size 800x400 with 2 Axes>"
      ]
     },
     "metadata": {},
     "output_type": "display_data"
    }
   ],
   "source": [
    "# Set up bins once\n",
    "bins = [i - 0.5 for i in range(14)]  # bins to center on 0–12\n",
    "\n",
    "# Prepare data\n",
    "df1 = gb_data_500_501_20250101_noNull_sum.copy()\n",
    "df2 = gb_data_500_501_20250331_noNull_sum.copy()\n",
    "\n",
    "# Create side-by-side plots\n",
    "fig, axes = plt.subplots(nrows=1, ncols=2, figsize=(8, 4), sharey=True)\n",
    "\n",
    "# Plot for Dataset 500\n",
    "df1['Completion Count'].hist(bins=bins, edgecolor='black', ax=axes[0])\n",
    "axes[0].set_xticks(range(13))\n",
    "axes[0].set_xlabel(\"Number of Completions\")\n",
    "axes[0].set_ylabel(\"Number of Students\")\n",
    "axes[0].set_title(\"20250101\")\n",
    "\n",
    "# Plot for Dataset 501\n",
    "df2['Completion Count'].hist(bins=bins, edgecolor='black', ax=axes[1])\n",
    "axes[1].set_xticks(range(13))\n",
    "axes[1].set_xlabel(\"Number of Completions\")\n",
    "axes[1].set_title(\"20250331\")\n",
    "\n",
    "# Tidy layout\n",
    "plt.tight_layout()\n",
    "plt.show()"
   ]
  },
  {
   "cell_type": "markdown",
   "id": "0a80e6a6-7410-4e95-869b-02b2bfb592f1",
   "metadata": {},
   "source": [
    "#### 2.1.2 Tutored vs Untutored Populations"
   ]
  },
  {
   "cell_type": "markdown",
   "id": "b5c10e71-7ccb-403a-8f19-e2a383a1abc3",
   "metadata": {},
   "source": [
    "##### 2.1.2.1 Prepare Data by Tutoring Status"
   ]
  },
  {
   "cell_type": "markdown",
   "id": "8c088d33-d9d5-40d9-89f6-427ceef0ba80",
   "metadata": {},
   "source": [
    "##### Import Data: Cleaned Post Tutor Form"
   ]
  },
  {
   "cell_type": "code",
   "execution_count": null,
   "id": "3295d2fb-219f-4a5c-81d7-4dc520ce749c",
   "metadata": {},
   "outputs": [],
   "source": [
    "# the supplied CSV data file is the raw_data directory\n",
    "ptf_data_clean = pd.read_csv('../data_wrangling_ouput/PTF_2025Q1_id_clean.csv') \n",
    "ptf_data_clean.head()"
   ]
  },
  {
   "cell_type": "code",
   "execution_count": 108,
   "id": "ef357c0e-d057-4372-b2bc-e584eef8870e",
   "metadata": {},
   "outputs": [],
   "source": [
    "# Always copy to avoid modifying original data\n",
    "df1 = gb_data_500_501_20250101_noNull_sum.copy()\n",
    "df2 = ptf_data_clean.copy()"
   ]
  },
  {
   "cell_type": "code",
   "execution_count": 109,
   "id": "9e969959-865f-42d0-8deb-de8eb5e8f0ee",
   "metadata": {},
   "outputs": [],
   "source": [
    "# Ensure both columns are of the same type (usually string)\n",
    "df1['Learner Identifier'] = df1['Learner Identifier'].astype(str)\n",
    "df2['Student Email'] = df2['Student Email'].astype(str)\n",
    "\n",
    "# Extract matching rows (in df1 where \"Learner Identifier\" exists in df2[\"Student Email\"])\n",
    "df1_matched = df1[df1['Learner Identifier'].isin(df2['Student Email'])]\n",
    "\n",
    "# Extract non-matching rows (in df1 where \"Learner Identifier\" does NOT exist in df2[\"Student Email\"])\n",
    "df1_unmatched = df1[~df1['Learner Identifier'].isin(df2['Student Email'])]"
   ]
  },
  {
   "cell_type": "code",
   "execution_count": null,
   "id": "ab7c06ae-ef47-4649-b98d-b8ff9f2cbaf5",
   "metadata": {},
   "outputs": [],
   "source": [
    "# Save transformed version safely\n",
    "gb_data_500_501_20250101_noNull_sum_Tutor = df1_matched.copy()\n",
    "gb_data_500_501_20250101_noNull_sum_Tutor.head()"
   ]
  },
  {
   "cell_type": "code",
   "execution_count": null,
   "id": "bda97788-7d03-40fd-9bf4-2e5d005e9783",
   "metadata": {},
   "outputs": [],
   "source": [
    "# Save transformed version safely\n",
    "gb_data_500_501_20250101_noNull_sum_noTutor = df1_unmatched.copy()\n",
    "gb_data_500_501_20250101_noNull_sum_noTutor.head()"
   ]
  },
  {
   "cell_type": "code",
   "execution_count": 112,
   "id": "e5d38413-c349-48e0-bdf7-19096a7425e2",
   "metadata": {},
   "outputs": [
    {
     "data": {
      "text/plain": [
       "((2663, 15), (137, 15), (2526, 15))"
      ]
     },
     "execution_count": 112,
     "metadata": {},
     "output_type": "execute_result"
    }
   ],
   "source": [
    "# check the size of dataset\n",
    "gb_data_500_501_20250101_noNull_sum.shape, gb_data_500_501_20250101_noNull_sum_Tutor.shape, gb_data_500_501_20250101_noNull_sum_noTutor.shape"
   ]
  },
  {
   "cell_type": "code",
   "execution_count": 113,
   "id": "5c14c9af-a4a9-40d4-af0b-70046aa0b43f",
   "metadata": {},
   "outputs": [
    {
     "data": {
      "text/plain": [
       "(137, 5)"
      ]
     },
     "execution_count": 113,
     "metadata": {},
     "output_type": "execute_result"
    }
   ],
   "source": [
    "# check the size of dataset\n",
    "ptf_data_clean.shape"
   ]
  },
  {
   "cell_type": "markdown",
   "id": "8b1c0422-b55a-4cb7-b165-6f2f8e31ed1a",
   "metadata": {},
   "source": [
    "**Checkpoint**: Double-check that all unique \"Student Email\" entries from the Post Tutor Form match the \"Learner Identifier\" in the GradeBook. That is, the number of rows in the Tutored Student Group should match the number of rows in the Post Tutor Form data."
   ]
  },
  {
   "cell_type": "markdown",
   "id": "568d0e29-0c0f-4e5d-bfc9-8f86f01bfd68",
   "metadata": {},
   "source": [
    "##### 2.1.2.2 Visualize Progress Distributions by Tutoring Status"
   ]
  },
  {
   "cell_type": "code",
   "execution_count": 116,
   "id": "4efa671f-fef7-4490-89dc-62b7fc4c1b82",
   "metadata": {},
   "outputs": [
    {
     "data": {
      "image/png": "[encoded data removed]",
      "text/plain": [
       "<Figure size 800x400 with 2 Axes>"
      ]
     },
     "metadata": {},
     "output_type": "display_data"
    }
   ],
   "source": [
    "# Set up bins once\n",
    "bins = [i - 0.5 for i in range(14)]  # bins to center on 0–12\n",
    "\n",
    "# Prepare data\n",
    "df1 = gb_data_500_501_20250101_noNull_sum_Tutor.copy()\n",
    "df2 = gb_data_500_501_20250101_noNull_sum_noTutor.copy()\n",
    "\n",
    "# Create side-by-side plots\n",
    "fig, axes = plt.subplots(nrows=1, ncols=2, figsize=(8, 4), sharey=True)\n",
    "\n",
    "# Plot for Dataset1\n",
    "df1['Completion Count'].hist(bins=bins, edgecolor='black', ax=axes[0])\n",
    "axes[0].set_xticks(range(13))\n",
    "axes[0].set_xlabel(\"Number of Completions\")\n",
    "axes[0].set_ylabel(\"Number of Students\")\n",
    "axes[0].set_title(\"20250101: Tutored\")\n",
    "\n",
    "# Plot for Dataset2\n",
    "df2['Completion Count'].hist(bins=bins, edgecolor='black', ax=axes[1])\n",
    "axes[1].set_xticks(range(13))\n",
    "axes[1].set_xlabel(\"Number of Completions\")\n",
    "axes[1].set_title(\"20250101: Untutored\")\n",
    "\n",
    "# Tidy layout\n",
    "plt.tight_layout()\n",
    "plt.show()"
   ]
  },
  {
   "cell_type": "markdown",
   "id": "b756aaa3-f3d3-4411-9a11-055e67c7b22d",
   "metadata": {},
   "source": [
    "### 2.2 Progress Analysis: Quarterly"
   ]
  },
  {
   "cell_type": "markdown",
   "id": "350a6d4a-e4db-4920-8d64-b69f795ec4a8",
   "metadata": {},
   "source": [
    "#### 2.2.1 Calculate Quarterly Progress: Entire Student Population"
   ]
  },
  {
   "cell_type": "code",
   "execution_count": 119,
   "id": "7fad539d-550f-41ff-9e9c-305abdd000f1",
   "metadata": {},
   "outputs": [],
   "source": [
    "# Always copy to avoid modifying original data\n",
    "df1 = gb_data_500_501_20250101_noNull_sum.copy()\n",
    "df2 = gb_data_500_501_20250331_noNull_sum.copy()"
   ]
  },
  {
   "cell_type": "code",
   "execution_count": 120,
   "id": "08838d0a-8f71-4e7d-bda7-dcdd02452f85",
   "metadata": {},
   "outputs": [],
   "source": [
    "# Compute the difference between timepoints\n",
    "completion_progress = df2['Completion Count'] - df1['Completion Count']\n",
    "percent_progress = df2['% Completion'] - df1['% Completion']\n",
    "\n",
    "# Construct the result DataFrame\n",
    "progress_df = pd.DataFrame({\n",
    "    'Learner Identifier': df1['Learner Identifier'],\n",
    "    'Completion Count Progress': completion_progress,\n",
    "    '% Completion Progress': percent_progress\n",
    "})"
   ]
  },
  {
   "cell_type": "code",
   "execution_count": null,
   "id": "1149eeb2-fd30-42dd-916e-309e18f17978",
   "metadata": {},
   "outputs": [],
   "source": [
    "# Save transformed version safely\n",
    "gb_data_500_501_2025Q1 = progress_df.copy()\n",
    "gb_data_500_501_2025Q1.head()"
   ]
  },
  {
   "cell_type": "code",
   "execution_count": 122,
   "id": "b6807daa-d992-4275-9572-c1dcf2fe3254",
   "metadata": {},
   "outputs": [
    {
     "name": "stdout",
     "output_type": "stream",
     "text": [
      "<class 'pandas.core.frame.DataFrame'>\n",
      "Int64Index: 2663 entries, 0 to 2662\n",
      "Data columns (total 3 columns):\n",
      " #   Column                     Non-Null Count  Dtype \n",
      "---  ------                     --------------  ----- \n",
      " 0   Learner Identifier         2663 non-null   object\n",
      " 1   Completion Count Progress  2663 non-null   int64 \n",
      " 2   % Completion Progress      2663 non-null   int32 \n",
      "dtypes: int32(1), int64(1), object(1)\n",
      "memory usage: 72.8+ KB\n"
     ]
    }
   ],
   "source": [
    "#Call the info method on the data to see a summary of the data\n",
    "gb_data_500_501_2025Q1.info() "
   ]
  },
  {
   "cell_type": "markdown",
   "id": "c0edb5c1-8afa-42d6-8829-3546bcfa3f2b",
   "metadata": {},
   "source": [
    "#### 2.2.2 Calculate Quarterly Progress: Tutored vs. Untutored Populations"
   ]
  },
  {
   "cell_type": "markdown",
   "id": "84b1185e-96f8-4992-9717-52df774eebdc",
   "metadata": {},
   "source": [
    "##### 2.2.2.1 Segment Student Population by Tutoring Status"
   ]
  },
  {
   "cell_type": "code",
   "execution_count": 125,
   "id": "fcd93377-dd79-48fa-b9f0-f3c53f1ceca2",
   "metadata": {},
   "outputs": [],
   "source": [
    "# Always copy to avoid modifying original data\n",
    "df1 = gb_data_500_501_2025Q1.copy()\n",
    "df2 = ptf_data_clean.copy()"
   ]
  },
  {
   "cell_type": "code",
   "execution_count": 126,
   "id": "d30cba01-6770-46b8-8e6e-2312bb6928ea",
   "metadata": {},
   "outputs": [],
   "source": [
    "# Ensure both columns are of the same type (usually string)\n",
    "df1['Learner Identifier'] = df1['Learner Identifier'].astype(str)\n",
    "df2['Student Email'] = df2['Student Email'].astype(str)\n",
    "\n",
    "# Extract matching rows (in df1 where \"Learner Identifier\" exists in df2[\"Student Email\"])\n",
    "df1_matched = df1[df1['Learner Identifier'].isin(df2['Student Email'])]\n",
    "\n",
    "# Extract non-matching rows (in df1 where \"Learner Identifier\" does NOT exist in df2[\"Student Email\"])\n",
    "df1_unmatched = df1[~df1['Learner Identifier'].isin(df2['Student Email'])]"
   ]
  },
  {
   "cell_type": "code",
   "execution_count": null,
   "id": "27cd91f7-9e8d-4f32-a335-e935ce6eb3f2",
   "metadata": {},
   "outputs": [],
   "source": [
    "# Save transformed version safely\n",
    "gb_data_500_501_2025Q1_Tutor = df1_matched.copy()\n",
    "gb_data_500_501_2025Q1_Tutor.head()"
   ]
  },
  {
   "cell_type": "code",
   "execution_count": null,
   "id": "f9810a0f-3809-420a-b95d-8d5c055f1927",
   "metadata": {},
   "outputs": [],
   "source": [
    "# Save transformed version safely\n",
    "gb_data_500_501_2025Q1_noTutor = df1_unmatched.copy()\n",
    "gb_data_500_501_2025Q1_noTutor.head()"
   ]
  },
  {
   "cell_type": "markdown",
   "id": "d460498a-83f7-4fd3-b13a-052e98676787",
   "metadata": {},
   "source": [
    "##### 2.2.2.2 Visualize Progress Distributions by Tutoring Status"
   ]
  },
  {
   "cell_type": "code",
   "execution_count": 130,
   "id": "65a1360c-0515-4c7a-86c1-5404262f8d1e",
   "metadata": {},
   "outputs": [
    {
     "data": {
      "image/png": "[encoded data removed]",
      "text/plain": [
       "<Figure size 1500x400 with 3 Axes>"
      ]
     },
     "metadata": {},
     "output_type": "display_data"
    }
   ],
   "source": [
    "# Set up bins once\n",
    "bins = [i - 0.5 for i in range(14)]  # bins to center on 0–12\n",
    "\n",
    "# Prepare data\n",
    "df1 = gb_data_500_501_2025Q1_Tutor.copy()\n",
    "df2 = gb_data_500_501_2025Q1_noTutor.copy()\n",
    "df3 = gb_data_500_501_2025Q1.copy()  # Entire student population\n",
    "\n",
    "# Create side-by-side plots (3 plots in a row)\n",
    "fig, axes = plt.subplots(nrows=1, ncols=3, figsize=(15, 4), sharey=True)\n",
    "\n",
    "# Plot for Tutored Students\n",
    "df1['Completion Count Progress'].hist(bins=bins, edgecolor='black', ax=axes[0])\n",
    "axes[0].set_xticks(range(13))\n",
    "axes[0].set_xlabel(\"Progress in Number of Completions\")\n",
    "axes[0].set_ylabel(\"Number of Students\")\n",
    "axes[0].set_title(\"Tutored Student Population\") \n",
    "\n",
    "# Plot for Untutored Students\n",
    "df2['Completion Count Progress'].hist(bins=bins, edgecolor='black', ax=axes[1])\n",
    "axes[1].set_xticks(range(13))\n",
    "axes[1].set_xlabel(\"Progress in Number of Completions\")\n",
    "axes[1].set_title(\"Untutored Student Population\")\n",
    "\n",
    "# Plot for Entire Population\n",
    "df3['Completion Count Progress'].hist(bins=bins, edgecolor='black', ax=axes[2])\n",
    "axes[2].set_xticks(range(13))\n",
    "axes[2].set_xlabel(\"Progress in Number of Completions\")\n",
    "axes[2].set_title(\"Entire Student Population\") \n",
    "# Tidy layout\n",
    "plt.tight_layout()\n",
    "plt.show()"
   ]
  },
  {
   "cell_type": "markdown",
   "id": "939032ab-7a26-49f7-b57c-5c69597b1389",
   "metadata": {},
   "source": [
    "##### 2.2.2.3 Remove Graduated Students and Final Visualization"
   ]
  },
  {
   "cell_type": "markdown",
   "id": "80fb5992-bca1-4370-9c3e-4f8d406bf18b",
   "metadata": {},
   "source": [
    "**Note**: Removing `105` graduated students  (those with 0% progress in both the BUS500 and BUS501 courses at baseline), as identified in section **1.3.4 Identify Previously Graduated Students**."
   ]
  },
  {
   "cell_type": "code",
   "execution_count": 133,
   "id": "31013e84-1aa9-49da-b133-d904c7c160af",
   "metadata": {},
   "outputs": [
    {
     "data": {
      "text/plain": [
       "(105, 19)"
      ]
     },
     "execution_count": 133,
     "metadata": {},
     "output_type": "execute_result"
    }
   ],
   "source": [
    "# dataset represents the students who completed the program previously.\n",
    "zero_both.shape"
   ]
  },
  {
   "cell_type": "markdown",
   "id": "71773948-3d77-4fa3-8904-5a8e58292c97",
   "metadata": {},
   "source": [
    "**Step 1**: Check if All Students in zero_both  Are Also Present in gb_data_500_501_2025Q1_noTutor."
   ]
  },
  {
   "cell_type": "code",
   "execution_count": 135,
   "id": "60b9031c-bfb2-432a-888e-b201cb71ada2",
   "metadata": {},
   "outputs": [
    {
     "name": "stdout",
     "output_type": "stream",
     "text": [
      "All learners in zero_both are in gb_data_500_501_2025Q1_noTutor: True\n"
     ]
    }
   ],
   "source": [
    "# To check whether all students in zero_both are also present in gb_data_500_501_2025Q1_noTutor, based on the \"Learner Identifier\" column\n",
    "# Check if all Learner Identifiers in zero_both exist in gb_data_500_501_2025Q1_noTutor\n",
    "all_in_noTutor = zero_both[\"Learner Identifier\"].isin(gb_data_500_501_2025Q1_noTutor[\"Learner Identifier\"])\n",
    "\n",
    "# Are all students in zero_both also in the noTutor dataset?\n",
    "all_present_in_noTutor = all_in_noTutor.all()\n",
    "\n",
    "print(\"All learners in zero_both are in gb_data_500_501_2025Q1_noTutor:\", all_present_in_noTutor)"
   ]
  },
  {
   "cell_type": "code",
   "execution_count": 136,
   "id": "907b2576-6de9-44d7-beff-e7eb887504bd",
   "metadata": {},
   "outputs": [
    {
     "name": "stdout",
     "output_type": "stream",
     "text": [
      "Learners in zero_both NOT in gb_data_500_501_2025Q1_noTutor:\n",
      "Empty DataFrame\n",
      "Columns: [Learner Last Name_500, Learner First Name_500, Learner Identifier, DATA ANALYSIS: Terminology, DATA ANALYSIS: Spreadsheets, DATA ANALYSIS: Basic SQL Queries, DATA ANALYSIS: Presentation Skills, DATA ANALYSIS: Research, DATA ANALYSIS: Data Validity, DATA ANALYSIS: Mathematical Principles, Introduction to Data Analysis Program_500, Learner Last Name_501, Learner First Name_501, DATA ANALYSIS: Intermediate SQL Queries, DATA ANALYSIS: Data Ethics, DATA ANALYSIS: Data Presentation Skills, DATA ANALYSIS: Professional Learning, DATA ANALYSIS: Durable Skills, Introduction to Data Analysis Program_501]\n",
      "Index: []\n"
     ]
    }
   ],
   "source": [
    "# Show any missing students\n",
    "missing_learners_noTutor = zero_both[~all_in_noTutor]\n",
    "print(\"Learners in zero_both NOT in gb_data_500_501_2025Q1_noTutor:\")\n",
    "print(missing_learners_noTutor)"
   ]
  },
  {
   "cell_type": "markdown",
   "id": "425176ab-bfd6-4bd2-b228-e75f2025a801",
   "metadata": {},
   "source": [
    "**Step 2**: Since the Tutor and noTutor dataset does not overlap, zero_both should not present in gb_data_500_501_2025Q1_Tutor."
   ]
  },
  {
   "cell_type": "code",
   "execution_count": 138,
   "id": "0ea4877c-a6f6-440b-b5c0-736516a08b58",
   "metadata": {},
   "outputs": [
    {
     "name": "stdout",
     "output_type": "stream",
     "text": [
      "All learners in zero_both are NOT in gb_data_500_501_2025Q1_Tutor: True\n"
     ]
    }
   ],
   "source": [
    "# Check if any Learner Identifiers in zero_both exist in gb_data_500_501_2025Q1_Tutor\n",
    "in_Tutor = zero_both[\"Learner Identifier\"].isin(gb_data_500_501_2025Q1_Tutor[\"Learner Identifier\"])\n",
    "\n",
    "# Are all students in zero_both NOT in the Tutor dataset?\n",
    "none_in_Tutor = (~in_Tutor).all()\n",
    "\n",
    "print(\"All learners in zero_both are NOT in gb_data_500_501_2025Q1_Tutor:\", none_in_Tutor)"
   ]
  },
  {
   "cell_type": "code",
   "execution_count": 139,
   "id": "96006e98-b8dd-4eca-9585-e587a7941b9a",
   "metadata": {},
   "outputs": [
    {
     "name": "stdout",
     "output_type": "stream",
     "text": [
      "Learners in zero_both that ARE in gb_data_500_501_2025Q1_Tutor (should not be):\n",
      "Empty DataFrame\n",
      "Columns: [Learner Last Name_500, Learner First Name_500, Learner Identifier, DATA ANALYSIS: Terminology, DATA ANALYSIS: Spreadsheets, DATA ANALYSIS: Basic SQL Queries, DATA ANALYSIS: Presentation Skills, DATA ANALYSIS: Research, DATA ANALYSIS: Data Validity, DATA ANALYSIS: Mathematical Principles, Introduction to Data Analysis Program_500, Learner Last Name_501, Learner First Name_501, DATA ANALYSIS: Intermediate SQL Queries, DATA ANALYSIS: Data Ethics, DATA ANALYSIS: Data Presentation Skills, DATA ANALYSIS: Professional Learning, DATA ANALYSIS: Durable Skills, Introduction to Data Analysis Program_501]\n",
      "Index: []\n"
     ]
    }
   ],
   "source": [
    "# Show any learners who ARE in the Tutor dataset (i.e., unexpected)\n",
    "present_in_Tutor = zero_both[in_Tutor]\n",
    "print(\"Learners in zero_both that ARE in gb_data_500_501_2025Q1_Tutor (should not be):\")\n",
    "print(present_in_Tutor)"
   ]
  },
  {
   "cell_type": "markdown",
   "id": "0dee1d01-30bd-4c22-b397-7f6e3d92da0d",
   "metadata": {},
   "source": [
    "**Step 3**: Removing students in zero_both from gb_data_500_501_2025Q1 and gb_data_500_501_2025Q1_noTutor"
   ]
  },
  {
   "cell_type": "code",
   "execution_count": 141,
   "id": "33b335e5-b7ae-4784-9d55-2d71e45b9683",
   "metadata": {},
   "outputs": [
    {
     "name": "stdout",
     "output_type": "stream",
     "text": [
      "Original row count: 2663\n",
      "Remaining row count after removal: 2558\n",
      "Number of students removed: 105\n"
     ]
    }
   ],
   "source": [
    "# Remove students in zero_both from gb_data_500_501_2025Q1\n",
    "gb_data_500_501_2025Q1_noGraduate = gb_data_500_501_2025Q1[~gb_data_500_501_2025Q1[\"Learner Identifier\"].isin(zero_both[\"Learner Identifier\"])]\n",
    "\n",
    "# Optional: Check how many rows were removed\n",
    "print(f\"Original row count: {gb_data_500_501_2025Q1.shape[0]}\")\n",
    "print(f\"Remaining row count after removal: {gb_data_500_501_2025Q1_noGraduate.shape[0]}\")\n",
    "print(f\"Number of students removed: {gb_data_500_501_2025Q1.shape[0] - gb_data_500_501_2025Q1_noGraduate.shape[0]}\")"
   ]
  },
  {
   "cell_type": "code",
   "execution_count": 142,
   "id": "abdd13c1-fb3d-44d6-b63e-449e66d99edd",
   "metadata": {},
   "outputs": [
    {
     "name": "stdout",
     "output_type": "stream",
     "text": [
      "Original row count (noTutor): 2526\n",
      "Remaining row count after removal: 2421\n",
      "Number of students removed: 105\n"
     ]
    }
   ],
   "source": [
    "# Remove students in zero_both from gb_data_500_501_2025Q1_noTutor\n",
    "gb_data_500_501_2025Q1_noTutor_noGraduate = gb_data_500_501_2025Q1_noTutor[~gb_data_500_501_2025Q1_noTutor[\"Learner Identifier\"].isin(zero_both[\"Learner Identifier\"])]\n",
    "\n",
    "# Optional: Report summary\n",
    "print(f\"Original row count (noTutor): {gb_data_500_501_2025Q1_noTutor.shape[0]}\")\n",
    "print(f\"Remaining row count after removal: {gb_data_500_501_2025Q1_noTutor_noGraduate.shape[0]}\")\n",
    "print(f\"Number of students removed: {gb_data_500_501_2025Q1_noTutor.shape[0] - gb_data_500_501_2025Q1_noTutor_noGraduate.shape[0]}\")"
   ]
  },
  {
   "cell_type": "code",
   "execution_count": 143,
   "id": "9eceb641-77f0-40e0-9ed3-b1f2e07a1957",
   "metadata": {},
   "outputs": [
    {
     "data": {
      "text/plain": [
       "((2558, 3), (137, 3), (2421, 3))"
      ]
     },
     "execution_count": 143,
     "metadata": {},
     "output_type": "execute_result"
    }
   ],
   "source": [
    "# check the size of dataset\n",
    "gb_data_500_501_2025Q1_noGraduate.shape, gb_data_500_501_2025Q1_Tutor.shape, gb_data_500_501_2025Q1_noTutor_noGraduate.shape"
   ]
  },
  {
   "cell_type": "markdown",
   "id": "e5213001-e2a6-4008-87b1-62c110f964fe",
   "metadata": {},
   "source": [
    "**Checkpont**: Entire Population (2558) = Tutor Population (137) + noTutor Population (2421)"
   ]
  },
  {
   "cell_type": "code",
   "execution_count": 145,
   "id": "83b3a2ef-457c-48b3-9966-358517e01c4d",
   "metadata": {},
   "outputs": [
    {
     "data": {
      "image/png": "[encoded data removed]",
      "text/plain": [
       "<Figure size 1500x400 with 3 Axes>"
      ]
     },
     "metadata": {},
     "output_type": "display_data"
    }
   ],
   "source": [
    "# Set up bins once\n",
    "bins = [i - 0.5 for i in range(14)]  # bins to center on 0–12\n",
    "\n",
    "# Prepare data\n",
    "df1 = gb_data_500_501_2025Q1_Tutor.copy()\n",
    "df2 = gb_data_500_501_2025Q1_noTutor_noGraduate.copy()\n",
    "df3 = gb_data_500_501_2025Q1_noGraduate.copy()  # Entire student population\n",
    "\n",
    "# Create side-by-side plots (3 plots in a row)\n",
    "fig, axes = plt.subplots(nrows=1, ncols=3, figsize=(15, 4), sharey=True)\n",
    "\n",
    "# Plot for Tutored Students\n",
    "df1['Completion Count Progress'].hist(bins=bins, edgecolor='black', ax=axes[0])\n",
    "axes[0].set_xticks(range(13))\n",
    "axes[0].set_xlabel(\"Progress in Number of Completions\")\n",
    "axes[0].set_ylabel(\"Number of Students\")\n",
    "axes[0].set_title(\"Tutored Student Population\") \n",
    "\n",
    "# Plot for Untutored Students\n",
    "df2['Completion Count Progress'].hist(bins=bins, edgecolor='black', ax=axes[1])\n",
    "axes[1].set_xticks(range(13))\n",
    "axes[1].set_xlabel(\"Progress in Number of Completions\")\n",
    "axes[1].set_title(\"Untutored Student Population\") \n",
    "\n",
    "# Plot for Entire Population\n",
    "df3['Completion Count Progress'].hist(bins=bins, edgecolor='black', ax=axes[2])\n",
    "axes[2].set_xticks(range(13))\n",
    "axes[2].set_xlabel(\"Progress in Number of Completions\")\n",
    "axes[2].set_title(\"Entire Student Population\") \n",
    "\n",
    "# Tidy layout\n",
    "plt.tight_layout()\n",
    "plt.show()"
   ]
  },
  {
   "cell_type": "markdown",
   "id": "6c2c5d06-f63d-491f-bf1a-69a765a46358",
   "metadata": {},
   "source": [
    "---\n",
    "## 3 Data Export and Summary"
   ]
  },
  {
   "cell_type": "code",
   "execution_count": 147,
   "id": "60b0c3c1-a9a2-4124-a65b-2de559e12009",
   "metadata": {},
   "outputs": [
    {
     "name": "stdout",
     "output_type": "stream",
     "text": [
      "All files saved successfully to data_wrangling_output folder\n"
     ]
    }
   ],
   "source": [
    "# Save to a specific folder\n",
    "gb_data_500_501_2025Q1_noGraduate.to_csv(\"../data_wrangling_ouput/BUS500-501_2025Q1.csv\", index=False)\n",
    "gb_data_500_501_2025Q1_Tutor.to_csv(\"../data_wrangling_ouput/BUS500-501_2025Q1_Tutor.csv\", index=False)\n",
    "gb_data_500_501_2025Q1_noTutor_noGraduate.to_csv(\"../data_wrangling_ouput/BUS500-501_2025Q1_noTutor.csv\", index=False)\n",
    "print(\"All files saved successfully to data_wrangling_output folder\")"
   ]
  },
  {
   "cell_type": "markdown",
   "id": "be7613cb-ee8a-4c1f-9251-dfef43dbd0a2",
   "metadata": {},
   "source": [
    "### 3.1 Summary\n",
    "- Total students analyzed: `2,558` (after removing `105` graduated students)\n",
    "- Tutored students: `137 (5.4%)`\n",
    "- Untutored students: `2,421 (94.6%)`\n",
    "- Data exported for statistical modeling in Notebook 2\n",
    "\n",
    "### 3.2 Summary of Outputs:\n",
    "- `BUS500-501_2025Q1_v3.csv`: Progress for all currently enrolled students (n=`2,558`)\n",
    "- `BUS500-501_Tutor_v3.csv`: Progress for tutored students only (n=`137`)\n",
    "- `BUS500-501_2025Q1_noTutor_v3.csv`: Progress for untutored students only (n=`2,421`)\n",
    "- All datasets show completion count progress (0-12 scale) and percentage progress for `Q1 2025`."
   ]
  }
 ],
 "metadata": {
  "kernelspec": {
   "display_name": "Python 3 (ipykernel)",
   "language": "python",
   "name": "python3"
  },
  "language_info": {
   "codemirror_mode": {
    "name": "ipython",
    "version": 3
   },
   "file_extension": ".py",
   "mimetype": "text/x-python",
   "name": "python",
   "nbconvert_exporter": "python",
   "pygments_lexer": "ipython3",
   "version": "3.8.20"
  }
 },
 "nbformat": 4,
 "nbformat_minor": 5
}
