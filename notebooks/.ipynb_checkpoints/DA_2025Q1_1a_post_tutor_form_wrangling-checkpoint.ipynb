{
 "cells": [
  {
   "cell_type": "markdown",
   "id": "76b39d5d-bcae-45b7-8c9f-5cddd7deec6e",
   "metadata": {},
   "source": [
    "# Notebook 1a: Post Tutor Form Data Wrangling\n",
    "## Calbright Data Analysis Program (2025 Q1)\n",
    "\n",
    "## Description\n",
    "This notebook processes Post Tutor Form (aka. Post Session Support Form) entries to identify unique students who received tutoring.\n",
    "\n",
    "**Input:** Raw Post Tutor Form submissions with potential duplicates and data quality issues <br>\n",
    "**Process:** Data cleaning, deduplication, validation against gradebook, and manual correction <br>\n",
    "**Output:** Clean dataset of unique students who received tutoring <br>"
   ]
  },
  {
   "cell_type": "markdown",
   "id": "7ea8522f-c425-4f2d-8baa-760c101e134c",
   "metadata": {},
   "source": [
    "## 1 Data Wrangling"
   ]
  },
  {
   "cell_type": "markdown",
   "id": "4c84fdc7-bcb6-44de-9a11-716206ac8567",
   "metadata": {},
   "source": [
    "### 1.1 Setup and Imports"
   ]
  },
  {
   "cell_type": "code",
   "execution_count": 4,
   "id": "1556b94f-0be3-40f4-9cec-9937c90471c6",
   "metadata": {},
   "outputs": [],
   "source": [
    "#Import necessary modules\n",
    "import pandas as pd\n",
    "import numpy as np\n",
    "import matplotlib.pyplot as plt\n",
    "import seaborn as sns"
   ]
  },
  {
   "cell_type": "markdown",
   "id": "7af4ed04-2b66-45cb-82cd-71406ad90881",
   "metadata": {},
   "source": [
    "### 1.2 Load Data: Post Tutor Form"
   ]
  },
  {
   "cell_type": "code",
   "execution_count": 6,
   "id": "cfcb915c-09ec-4167-afec-5b41cee10ff2",
   "metadata": {},
   "outputs": [
    {
     "data": {
      "text/html": [
       "<div>\n",
       "<style scoped>\n",
       "    .dataframe tbody tr th:only-of-type {\n",
       "        vertical-align: middle;\n",
       "    }\n",
       "\n",
       "    .dataframe tbody tr th {\n",
       "        vertical-align: top;\n",
       "    }\n",
       "\n",
       "    .dataframe thead th {\n",
       "        text-align: right;\n",
       "    }\n",
       "</style>\n",
       "<table border=\"1\" class=\"dataframe\">\n",
       "  <thead>\n",
       "    <tr style=\"text-align: right;\">\n",
       "      <th></th>\n",
       "      <th>Date</th>\n",
       "      <th>Time</th>\n",
       "      <th>Student First Name</th>\n",
       "      <th>Student Last Name</th>\n",
       "      <th>Student Email</th>\n",
       "    </tr>\n",
       "  </thead>\n",
       "  <tbody>\n",
       "    <tr>\n",
       "      <th>0</th>\n",
       "      <td>1/15/2025</td>\n",
       "      <td>18:00</td>\n",
       "      <td>Sufian</td>\n",
       "      <td>Saiqat</td>\n",
       "      <td>sufian.saiqat@calbrightcollege.org</td>\n",
       "    </tr>\n",
       "    <tr>\n",
       "      <th>1</th>\n",
       "      <td>01/17/2025</td>\n",
       "      <td>18:30</td>\n",
       "      <td>Scot</td>\n",
       "      <td>Goode</td>\n",
       "      <td>scot.goode@calbrightcollege.org</td>\n",
       "    </tr>\n",
       "    <tr>\n",
       "      <th>2</th>\n",
       "      <td>01/19/2025</td>\n",
       "      <td>12:00</td>\n",
       "      <td>AnnElyse</td>\n",
       "      <td>Hays</td>\n",
       "      <td>ann.hays@calbrightcollege.org</td>\n",
       "    </tr>\n",
       "    <tr>\n",
       "      <th>3</th>\n",
       "      <td>01/22/2025</td>\n",
       "      <td>18:30</td>\n",
       "      <td>Scot</td>\n",
       "      <td>Goode</td>\n",
       "      <td>scot.goode@calbrightcollege.org</td>\n",
       "    </tr>\n",
       "    <tr>\n",
       "      <th>4</th>\n",
       "      <td>01/23/2025</td>\n",
       "      <td>18:00</td>\n",
       "      <td>Scot</td>\n",
       "      <td>Goode</td>\n",
       "      <td>scot.goode@calbrightcollege.org</td>\n",
       "    </tr>\n",
       "  </tbody>\n",
       "</table>\n",
       "</div>"
      ],
      "text/plain": [
       "         Date   Time Student First Name Student Last Name  \\\n",
       "0   1/15/2025  18:00             Sufian            Saiqat   \n",
       "1  01/17/2025  18:30               Scot             Goode   \n",
       "2  01/19/2025  12:00           AnnElyse              Hays   \n",
       "3  01/22/2025  18:30               Scot             Goode   \n",
       "4  01/23/2025  18:00               Scot             Goode   \n",
       "\n",
       "                        Student Email  \n",
       "0  sufian.saiqat@calbrightcollege.org  \n",
       "1     scot.goode@calbrightcollege.org  \n",
       "2       ann.hays@calbrightcollege.org  \n",
       "3     scot.goode@calbrightcollege.org  \n",
       "4     scot.goode@calbrightcollege.org  "
      ]
     },
     "execution_count": 6,
     "metadata": {},
     "output_type": "execute_result"
    }
   ],
   "source": [
    "# the supplied CSV data file is the raw_data directory\n",
    "ptf_data = pd.read_csv('../raw_data/PTF_2025Q1_id.csv') \n",
    "ptf_data.head()"
   ]
  },
  {
   "cell_type": "code",
   "execution_count": 7,
   "id": "2f9d2158-7aba-45c5-8080-c9e160405d11",
   "metadata": {
    "scrolled": true
   },
   "outputs": [
    {
     "name": "stdout",
     "output_type": "stream",
     "text": [
      "<class 'pandas.core.frame.DataFrame'>\n",
      "RangeIndex: 449 entries, 0 to 448\n",
      "Data columns (total 5 columns):\n",
      " #   Column              Non-Null Count  Dtype \n",
      "---  ------              --------------  ----- \n",
      " 0   Date                449 non-null    object\n",
      " 1   Time                447 non-null    object\n",
      " 2   Student First Name  447 non-null    object\n",
      " 3   Student Last Name   369 non-null    object\n",
      " 4   Student Email       435 non-null    object\n",
      "dtypes: object(5)\n",
      "memory usage: 17.7+ KB\n"
     ]
    }
   ],
   "source": [
    "#Call the info method on the data to see a summary of the data\n",
    "ptf_data.info() "
   ]
  },
  {
   "cell_type": "code",
   "execution_count": 8,
   "id": "f44edd3c-b720-43dc-9a73-8557e83f1b2e",
   "metadata": {},
   "outputs": [
    {
     "data": {
      "text/plain": [
       "(449, 5)"
      ]
     },
     "execution_count": 8,
     "metadata": {},
     "output_type": "execute_result"
    }
   ],
   "source": [
    "# check the size of dataset\n",
    "ptf_data.shape"
   ]
  },
  {
   "cell_type": "markdown",
   "id": "7aecfb13-e929-42d6-a0fe-eaa4496787b8",
   "metadata": {},
   "source": [
    "**Note:** The Post Tutor Form contains `449` entries representing individual tutoring sessions, not unique students. Multiple sessions per student are expected."
   ]
  },
  {
   "cell_type": "markdown",
   "id": "5283c1e1-f1ec-413a-9d99-166600cefbf4",
   "metadata": {},
   "source": [
    "### 1.3 Initial Data Quality Check"
   ]
  },
  {
   "cell_type": "markdown",
   "id": "c9e46c2e-d3ec-449a-b47f-271e611d7ee4",
   "metadata": {},
   "source": [
    "#### 1.3.1 Check for Null Values"
   ]
  },
  {
   "cell_type": "code",
   "execution_count": 12,
   "id": "61e96054-c859-4c9e-b51f-3df27c7544c7",
   "metadata": {},
   "outputs": [
    {
     "name": "stdout",
     "output_type": "stream",
     "text": [
      "Total number of null entries: 98\n",
      "Null entries per column:\n",
      "Date                   0\n",
      "Time                   2\n",
      "Student First Name     2\n",
      "Student Last Name     80\n",
      "Student Email         14\n",
      "dtype: int64\n"
     ]
    }
   ],
   "source": [
    "# Total number of null values in the whole DataFrame\n",
    "total_nulls = ptf_data.isnull().sum().sum()\n",
    "print(f\"Total number of null entries: {total_nulls}\")\n",
    "\n",
    "# Number of nulls per column\n",
    "nulls_per_column = ptf_data.isnull().sum()\n",
    "print(\"Null entries per column:\")\n",
    "print(nulls_per_column)"
   ]
  },
  {
   "cell_type": "markdown",
   "id": "cde5a3ef-30e9-4f53-b5b6-00a7c06adb8a",
   "metadata": {},
   "source": [
    "#### 1.3.2 Check for Duplicates"
   ]
  },
  {
   "cell_type": "code",
   "execution_count": 14,
   "id": "a5d85345-7e39-4fe4-9e71-36c6e3a8c175",
   "metadata": {},
   "outputs": [
    {
     "name": "stdout",
     "output_type": "stream",
     "text": [
      "Number of duplicate rows: 41\n"
     ]
    }
   ],
   "source": [
    "# Check for duplicate rows\n",
    "duplicate_rows = ptf_data[ptf_data.duplicated()]\n",
    "\n",
    "# Print number of duplicates\n",
    "print(f\"Number of duplicate rows: {duplicate_rows.shape[0]}\")\n",
    "\n",
    "# Optionally, display the duplicate rows\n",
    "# print(\"Duplicate rows:\")\n",
    "# print(duplicate_rows)"
   ]
  },
  {
   "cell_type": "code",
   "execution_count": 15,
   "id": "368d1ac3-632f-46a8-bbc8-adbc4024ec70",
   "metadata": {},
   "outputs": [
    {
     "data": {
      "text/plain": [
       "(292, 5)"
      ]
     },
     "execution_count": 15,
     "metadata": {},
     "output_type": "execute_result"
    }
   ],
   "source": [
    "# Check duplicates based on a specific column (e.g., 'Student Email')\n",
    "duplicates_by_LID = ptf_data[ptf_data.duplicated(subset='Student Email')]\n",
    "\n",
    "# Optionally, display the duplicate rows\n",
    "# print(duplicates_by_LID)\n",
    "duplicates_by_LID.shape"
   ]
  },
  {
   "cell_type": "code",
   "execution_count": 16,
   "id": "0cfcbf85-3d34-4466-90dc-af3afd4e1209",
   "metadata": {},
   "outputs": [
    {
     "data": {
      "text/plain": [
       "lynn.deng@calbrightcollege.org         44\n",
       "scot.goode@calbrightcollege.org        35\n",
       "jyoti.dhar@calbrightcollege.org        17\n",
       "beatrice.tah@calbrightcollege.org      14\n",
       "johan.sendjaja@calbrightcollege.org    11\n",
       "Name: Student Email, dtype: int64"
      ]
     },
     "execution_count": 16,
     "metadata": {},
     "output_type": "execute_result"
    }
   ],
   "source": [
    "# Use pandas' Series method `value_counts` to find any duplicated Student Email\n",
    "ptf_data['Student Email'].value_counts().head()"
   ]
  },
  {
   "cell_type": "code",
   "execution_count": 17,
   "id": "b3c3cbe5-59b4-4ade-a6bd-c329a578b286",
   "metadata": {},
   "outputs": [
    {
     "data": {
      "text/plain": [
       "156"
      ]
     },
     "execution_count": 17,
     "metadata": {},
     "output_type": "execute_result"
    }
   ],
   "source": [
    "# use the `nunique` method to calculate the number of unique values in Student Email\n",
    "ptf_data['Student Email'].nunique()"
   ]
  },
  {
   "cell_type": "markdown",
   "id": "3567c106-5c0d-4aff-9032-7cde32131448",
   "metadata": {},
   "source": [
    "### 1.4 Data Cleaning"
   ]
  },
  {
   "cell_type": "markdown",
   "id": "f99f0d4c-509e-42e2-a799-8abba6bd4237",
   "metadata": {},
   "source": [
    "#### 1.4.1 Standardize Email to Lowercase"
   ]
  },
  {
   "cell_type": "code",
   "execution_count": 20,
   "id": "43932772-917b-4a2a-b529-9dca23f6f45e",
   "metadata": {},
   "outputs": [
    {
     "data": {
      "text/html": [
       "<div>\n",
       "<style scoped>\n",
       "    .dataframe tbody tr th:only-of-type {\n",
       "        vertical-align: middle;\n",
       "    }\n",
       "\n",
       "    .dataframe tbody tr th {\n",
       "        vertical-align: top;\n",
       "    }\n",
       "\n",
       "    .dataframe thead th {\n",
       "        text-align: right;\n",
       "    }\n",
       "</style>\n",
       "<table border=\"1\" class=\"dataframe\">\n",
       "  <thead>\n",
       "    <tr style=\"text-align: right;\">\n",
       "      <th></th>\n",
       "      <th>Date</th>\n",
       "      <th>Time</th>\n",
       "      <th>Student First Name</th>\n",
       "      <th>Student Last Name</th>\n",
       "      <th>Student Email</th>\n",
       "    </tr>\n",
       "  </thead>\n",
       "  <tbody>\n",
       "    <tr>\n",
       "      <th>0</th>\n",
       "      <td>1/15/2025</td>\n",
       "      <td>18:00</td>\n",
       "      <td>Sufian</td>\n",
       "      <td>Saiqat</td>\n",
       "      <td>sufian.saiqat@calbrightcollege.org</td>\n",
       "    </tr>\n",
       "    <tr>\n",
       "      <th>1</th>\n",
       "      <td>01/17/2025</td>\n",
       "      <td>18:30</td>\n",
       "      <td>Scot</td>\n",
       "      <td>Goode</td>\n",
       "      <td>scot.goode@calbrightcollege.org</td>\n",
       "    </tr>\n",
       "    <tr>\n",
       "      <th>2</th>\n",
       "      <td>01/19/2025</td>\n",
       "      <td>12:00</td>\n",
       "      <td>AnnElyse</td>\n",
       "      <td>Hays</td>\n",
       "      <td>ann.hays@calbrightcollege.org</td>\n",
       "    </tr>\n",
       "    <tr>\n",
       "      <th>3</th>\n",
       "      <td>01/22/2025</td>\n",
       "      <td>18:30</td>\n",
       "      <td>Scot</td>\n",
       "      <td>Goode</td>\n",
       "      <td>scot.goode@calbrightcollege.org</td>\n",
       "    </tr>\n",
       "    <tr>\n",
       "      <th>4</th>\n",
       "      <td>01/23/2025</td>\n",
       "      <td>18:00</td>\n",
       "      <td>Scot</td>\n",
       "      <td>Goode</td>\n",
       "      <td>scot.goode@calbrightcollege.org</td>\n",
       "    </tr>\n",
       "  </tbody>\n",
       "</table>\n",
       "</div>"
      ],
      "text/plain": [
       "         Date   Time Student First Name Student Last Name  \\\n",
       "0   1/15/2025  18:00             Sufian            Saiqat   \n",
       "1  01/17/2025  18:30               Scot             Goode   \n",
       "2  01/19/2025  12:00           AnnElyse              Hays   \n",
       "3  01/22/2025  18:30               Scot             Goode   \n",
       "4  01/23/2025  18:00               Scot             Goode   \n",
       "\n",
       "                        Student Email  \n",
       "0  sufian.saiqat@calbrightcollege.org  \n",
       "1     scot.goode@calbrightcollege.org  \n",
       "2       ann.hays@calbrightcollege.org  \n",
       "3     scot.goode@calbrightcollege.org  \n",
       "4     scot.goode@calbrightcollege.org  "
      ]
     },
     "execution_count": 20,
     "metadata": {},
     "output_type": "execute_result"
    }
   ],
   "source": [
    "# Standardize the \"Student Email\" column entries to lowercase\n",
    "ptf_data_lower = ptf_data.copy()\n",
    "ptf_data_lower['Student Email'] = ptf_data_lower['Student Email'].str.lower()\n",
    "ptf_data_lower.head()"
   ]
  },
  {
   "cell_type": "code",
   "execution_count": 21,
   "id": "b86b01c4-b929-471a-bd82-8ec3d4fe7b07",
   "metadata": {},
   "outputs": [
    {
     "name": "stdout",
     "output_type": "stream",
     "text": [
      "<class 'pandas.core.frame.DataFrame'>\n",
      "RangeIndex: 449 entries, 0 to 448\n",
      "Data columns (total 5 columns):\n",
      " #   Column              Non-Null Count  Dtype \n",
      "---  ------              --------------  ----- \n",
      " 0   Date                449 non-null    object\n",
      " 1   Time                447 non-null    object\n",
      " 2   Student First Name  447 non-null    object\n",
      " 3   Student Last Name   369 non-null    object\n",
      " 4   Student Email       435 non-null    object\n",
      "dtypes: object(5)\n",
      "memory usage: 17.7+ KB\n"
     ]
    }
   ],
   "source": [
    "#Call the info method on the data to see a summary of the data\n",
    "ptf_data_lower.info() "
   ]
  },
  {
   "cell_type": "code",
   "execution_count": 22,
   "id": "e2d1fe41-2312-488f-98bc-a6c3b0c43ac9",
   "metadata": {},
   "outputs": [
    {
     "data": {
      "text/plain": [
       "(449, 5)"
      ]
     },
     "execution_count": 22,
     "metadata": {},
     "output_type": "execute_result"
    }
   ],
   "source": [
    "# check the size of dataset\n",
    "ptf_data_lower.shape"
   ]
  },
  {
   "cell_type": "code",
   "execution_count": 23,
   "id": "f9432958-6df1-4e62-a4e1-d84e1c2a3995",
   "metadata": {},
   "outputs": [
    {
     "name": "stdout",
     "output_type": "stream",
     "text": [
      "Number of duplicate rows: 41\n"
     ]
    }
   ],
   "source": [
    "# Check for duplicate rows\n",
    "duplicate_rows = ptf_data_lower[ptf_data_lower.duplicated()]\n",
    "\n",
    "# Print number of duplicates\n",
    "print(f\"Number of duplicate rows: {duplicate_rows.shape[0]}\")\n",
    "\n",
    "# Optionally, display the duplicate rows\n",
    "# print(\"Duplicate rows:\")\n",
    "# print(duplicate_rows)"
   ]
  },
  {
   "cell_type": "code",
   "execution_count": 24,
   "id": "01589e38-6fe8-4a41-9fb3-6d84edf897c9",
   "metadata": {},
   "outputs": [
    {
     "data": {
      "text/plain": [
       "(300, 5)"
      ]
     },
     "execution_count": 24,
     "metadata": {},
     "output_type": "execute_result"
    }
   ],
   "source": [
    "# Check duplicates based on a specific column (e.g., 'Student Email')\n",
    "duplicates_by_LID = ptf_data_lower[ptf_data_lower.duplicated(subset='Student Email')]\n",
    "\n",
    "# Optionally, display the duplicate rows\n",
    "# print(duplicates_by_LID)\n",
    "duplicates_by_LID.shape"
   ]
  },
  {
   "cell_type": "code",
   "execution_count": 25,
   "id": "6ed43104-a77f-40fc-a0a6-58cd9054df3b",
   "metadata": {},
   "outputs": [
    {
     "data": {
      "text/plain": [
       "lynn.deng@calbrightcollege.org                 44\n",
       "scot.goode@calbrightcollege.org                35\n",
       "johan.sendjaja@calbrightcollege.org            21\n",
       "jyoti.dhar@calbrightcollege.org                17\n",
       "jocelyn.tabula-maminta@calbrightcollege.org    15\n",
       "Name: Student Email, dtype: int64"
      ]
     },
     "execution_count": 25,
     "metadata": {},
     "output_type": "execute_result"
    }
   ],
   "source": [
    "# Use pandas' Series method `value_counts` to find any duplicated Student Email\n",
    "ptf_data_lower['Student Email'].value_counts().head()"
   ]
  },
  {
   "cell_type": "code",
   "execution_count": 26,
   "id": "770e32fd-f6ff-4b07-9f5c-c3d63dde2214",
   "metadata": {},
   "outputs": [
    {
     "data": {
      "text/plain": [
       "148"
      ]
     },
     "execution_count": 26,
     "metadata": {},
     "output_type": "execute_result"
    }
   ],
   "source": [
    "# use the `nunique` method to calculate the number of unique values in Student Email\n",
    "ptf_data_lower['Student Email'].nunique()"
   ]
  },
  {
   "cell_type": "markdown",
   "id": "b52c4337-51b7-4071-89a8-125bd9d93c60",
   "metadata": {},
   "source": [
    "#### 1.4.2 Remove Duplicates: Student Email"
   ]
  },
  {
   "cell_type": "code",
   "execution_count": 28,
   "id": "1c7d1205-9b06-4b0f-95c9-cc5aefc8a7a8",
   "metadata": {},
   "outputs": [
    {
     "data": {
      "text/html": [
       "<div>\n",
       "<style scoped>\n",
       "    .dataframe tbody tr th:only-of-type {\n",
       "        vertical-align: middle;\n",
       "    }\n",
       "\n",
       "    .dataframe tbody tr th {\n",
       "        vertical-align: top;\n",
       "    }\n",
       "\n",
       "    .dataframe thead th {\n",
       "        text-align: right;\n",
       "    }\n",
       "</style>\n",
       "<table border=\"1\" class=\"dataframe\">\n",
       "  <thead>\n",
       "    <tr style=\"text-align: right;\">\n",
       "      <th></th>\n",
       "      <th>Date</th>\n",
       "      <th>Time</th>\n",
       "      <th>Student First Name</th>\n",
       "      <th>Student Last Name</th>\n",
       "      <th>Student Email</th>\n",
       "    </tr>\n",
       "  </thead>\n",
       "  <tbody>\n",
       "    <tr>\n",
       "      <th>0</th>\n",
       "      <td>1/15/2025</td>\n",
       "      <td>18:00</td>\n",
       "      <td>Sufian</td>\n",
       "      <td>Saiqat</td>\n",
       "      <td>sufian.saiqat@calbrightcollege.org</td>\n",
       "    </tr>\n",
       "    <tr>\n",
       "      <th>1</th>\n",
       "      <td>01/17/2025</td>\n",
       "      <td>18:30</td>\n",
       "      <td>Scot</td>\n",
       "      <td>Goode</td>\n",
       "      <td>scot.goode@calbrightcollege.org</td>\n",
       "    </tr>\n",
       "    <tr>\n",
       "      <th>2</th>\n",
       "      <td>01/19/2025</td>\n",
       "      <td>12:00</td>\n",
       "      <td>AnnElyse</td>\n",
       "      <td>Hays</td>\n",
       "      <td>ann.hays@calbrightcollege.org</td>\n",
       "    </tr>\n",
       "    <tr>\n",
       "      <th>6</th>\n",
       "      <td>01/24/2025</td>\n",
       "      <td>17:00</td>\n",
       "      <td>Berenice</td>\n",
       "      <td>Renteria</td>\n",
       "      <td>berenice.renteria@calbrightcollege.org</td>\n",
       "    </tr>\n",
       "    <tr>\n",
       "      <th>8</th>\n",
       "      <td>01/24/2025</td>\n",
       "      <td>18:00</td>\n",
       "      <td>Natsnet</td>\n",
       "      <td>Gebrhiwet</td>\n",
       "      <td>natsnet.gebrhiwet@calbrightcollege.org</td>\n",
       "    </tr>\n",
       "  </tbody>\n",
       "</table>\n",
       "</div>"
      ],
      "text/plain": [
       "         Date   Time Student First Name Student Last Name  \\\n",
       "0   1/15/2025  18:00             Sufian            Saiqat   \n",
       "1  01/17/2025  18:30               Scot             Goode   \n",
       "2  01/19/2025  12:00           AnnElyse              Hays   \n",
       "6  01/24/2025  17:00           Berenice          Renteria   \n",
       "8  01/24/2025  18:00            Natsnet         Gebrhiwet   \n",
       "\n",
       "                            Student Email  \n",
       "0      sufian.saiqat@calbrightcollege.org  \n",
       "1         scot.goode@calbrightcollege.org  \n",
       "2           ann.hays@calbrightcollege.org  \n",
       "6  berenice.renteria@calbrightcollege.org  \n",
       "8  natsnet.gebrhiwet@calbrightcollege.org  "
      ]
     },
     "execution_count": 28,
     "metadata": {},
     "output_type": "execute_result"
    }
   ],
   "source": [
    "# Drop duplicate rows based on the \"student email\" column\n",
    "ptf_data_unique = ptf_data_lower.drop_duplicates(subset='Student Email')\n",
    "ptf_data_unique.head()"
   ]
  },
  {
   "cell_type": "code",
   "execution_count": 29,
   "id": "27a6ddfd-1074-4c62-ace2-d5f6b6ac1a76",
   "metadata": {},
   "outputs": [
    {
     "data": {
      "text/html": [
       "<div>\n",
       "<style scoped>\n",
       "    .dataframe tbody tr th:only-of-type {\n",
       "        vertical-align: middle;\n",
       "    }\n",
       "\n",
       "    .dataframe tbody tr th {\n",
       "        vertical-align: top;\n",
       "    }\n",
       "\n",
       "    .dataframe thead th {\n",
       "        text-align: right;\n",
       "    }\n",
       "</style>\n",
       "<table border=\"1\" class=\"dataframe\">\n",
       "  <thead>\n",
       "    <tr style=\"text-align: right;\">\n",
       "      <th></th>\n",
       "      <th>Date</th>\n",
       "      <th>Time</th>\n",
       "      <th>Student First Name</th>\n",
       "      <th>Student Last Name</th>\n",
       "      <th>Student Email</th>\n",
       "    </tr>\n",
       "  </thead>\n",
       "  <tbody>\n",
       "    <tr>\n",
       "      <th>0</th>\n",
       "      <td>1/15/2025</td>\n",
       "      <td>18:00</td>\n",
       "      <td>Sufian</td>\n",
       "      <td>Saiqat</td>\n",
       "      <td>sufian.saiqat@calbrightcollege.org</td>\n",
       "    </tr>\n",
       "    <tr>\n",
       "      <th>1</th>\n",
       "      <td>01/17/2025</td>\n",
       "      <td>18:30</td>\n",
       "      <td>Scot</td>\n",
       "      <td>Goode</td>\n",
       "      <td>scot.goode@calbrightcollege.org</td>\n",
       "    </tr>\n",
       "    <tr>\n",
       "      <th>2</th>\n",
       "      <td>01/19/2025</td>\n",
       "      <td>12:00</td>\n",
       "      <td>AnnElyse</td>\n",
       "      <td>Hays</td>\n",
       "      <td>ann.hays@calbrightcollege.org</td>\n",
       "    </tr>\n",
       "    <tr>\n",
       "      <th>3</th>\n",
       "      <td>01/24/2025</td>\n",
       "      <td>17:00</td>\n",
       "      <td>Berenice</td>\n",
       "      <td>Renteria</td>\n",
       "      <td>berenice.renteria@calbrightcollege.org</td>\n",
       "    </tr>\n",
       "    <tr>\n",
       "      <th>4</th>\n",
       "      <td>01/24/2025</td>\n",
       "      <td>18:00</td>\n",
       "      <td>Natsnet</td>\n",
       "      <td>Gebrhiwet</td>\n",
       "      <td>natsnet.gebrhiwet@calbrightcollege.org</td>\n",
       "    </tr>\n",
       "  </tbody>\n",
       "</table>\n",
       "</div>"
      ],
      "text/plain": [
       "         Date   Time Student First Name Student Last Name  \\\n",
       "0   1/15/2025  18:00             Sufian            Saiqat   \n",
       "1  01/17/2025  18:30               Scot             Goode   \n",
       "2  01/19/2025  12:00           AnnElyse              Hays   \n",
       "3  01/24/2025  17:00           Berenice          Renteria   \n",
       "4  01/24/2025  18:00            Natsnet         Gebrhiwet   \n",
       "\n",
       "                            Student Email  \n",
       "0      sufian.saiqat@calbrightcollege.org  \n",
       "1         scot.goode@calbrightcollege.org  \n",
       "2           ann.hays@calbrightcollege.org  \n",
       "3  berenice.renteria@calbrightcollege.org  \n",
       "4  natsnet.gebrhiwet@calbrightcollege.org  "
      ]
     },
     "execution_count": 29,
     "metadata": {},
     "output_type": "execute_result"
    }
   ],
   "source": [
    "# Optionally, reset the index\n",
    "ptf_data_unique = ptf_data_unique.reset_index(drop=True)\n",
    "ptf_data_unique.head()"
   ]
  },
  {
   "cell_type": "code",
   "execution_count": 30,
   "id": "000d47e7-6ef1-47d5-990d-771e1b857a85",
   "metadata": {},
   "outputs": [
    {
     "name": "stdout",
     "output_type": "stream",
     "text": [
      "<class 'pandas.core.frame.DataFrame'>\n",
      "RangeIndex: 149 entries, 0 to 148\n",
      "Data columns (total 5 columns):\n",
      " #   Column              Non-Null Count  Dtype \n",
      "---  ------              --------------  ----- \n",
      " 0   Date                149 non-null    object\n",
      " 1   Time                149 non-null    object\n",
      " 2   Student First Name  149 non-null    object\n",
      " 3   Student Last Name   115 non-null    object\n",
      " 4   Student Email       148 non-null    object\n",
      "dtypes: object(5)\n",
      "memory usage: 5.9+ KB\n"
     ]
    }
   ],
   "source": [
    "#Call the info method on the data to see a summary of the data\n",
    "ptf_data_unique.info() "
   ]
  },
  {
   "cell_type": "code",
   "execution_count": 31,
   "id": "7d9ccac6-7ec6-483e-8f8d-5d6ed9d1c452",
   "metadata": {},
   "outputs": [
    {
     "data": {
      "text/plain": [
       "(149, 5)"
      ]
     },
     "execution_count": 31,
     "metadata": {},
     "output_type": "execute_result"
    }
   ],
   "source": [
    "# check the size of dataset\n",
    "ptf_data_unique.shape"
   ]
  },
  {
   "cell_type": "code",
   "execution_count": 32,
   "id": "b4f5f27d-e1c7-4df1-81a9-25c55a4411ec",
   "metadata": {},
   "outputs": [
    {
     "name": "stdout",
     "output_type": "stream",
     "text": [
      "Total number of null entries: 35\n",
      "Null entries per column:\n",
      "Date                   0\n",
      "Time                   0\n",
      "Student First Name     0\n",
      "Student Last Name     34\n",
      "Student Email          1\n",
      "dtype: int64\n"
     ]
    }
   ],
   "source": [
    "# Total number of null values in the whole DataFrame\n",
    "total_nulls = ptf_data_unique.isnull().sum().sum()\n",
    "print(f\"Total number of null entries: {total_nulls}\")\n",
    "\n",
    "# Number of nulls per column\n",
    "nulls_per_column = ptf_data_unique.isnull().sum()\n",
    "print(\"Null entries per column:\")\n",
    "print(nulls_per_column)"
   ]
  },
  {
   "cell_type": "code",
   "execution_count": 33,
   "id": "b34381e4-3bb5-4d4a-8628-d1a4a6d4df47",
   "metadata": {},
   "outputs": [
    {
     "name": "stdout",
     "output_type": "stream",
     "text": [
      "          Date   Time Student First Name Student Last Name Student Email\n",
      "12  01/28/2025  14:30             SANDRA    IMERY BONILLA?           NaN\n"
     ]
    }
   ],
   "source": [
    "# Display rows with missing \"Student Email\"\n",
    "missing_email_rows = ptf_data_unique[ptf_data_unique['Student Email'].isnull()]\n",
    "print(missing_email_rows)"
   ]
  },
  {
   "cell_type": "code",
   "execution_count": 34,
   "id": "60020ee4-6c70-4601-8ba8-40f61ff637eb",
   "metadata": {},
   "outputs": [
    {
     "name": "stdout",
     "output_type": "stream",
     "text": [
      "Number of duplicate rows: 0\n",
      "Duplicate rows:\n",
      "Empty DataFrame\n",
      "Columns: [Date, Time, Student First Name, Student Last Name, Student Email]\n",
      "Index: []\n"
     ]
    }
   ],
   "source": [
    "# Check for duplicate rows\n",
    "duplicate_rows = ptf_data_unique[ptf_data_unique.duplicated()]\n",
    "\n",
    "# Print number of duplicates\n",
    "print(f\"Number of duplicate rows: {duplicate_rows.shape[0]}\")\n",
    "\n",
    "# Optionally, display the duplicate rows\n",
    "print(\"Duplicate rows:\")\n",
    "print(duplicate_rows)"
   ]
  },
  {
   "cell_type": "code",
   "execution_count": 35,
   "id": "91453980-6442-4edd-b76e-0f56101a5b06",
   "metadata": {},
   "outputs": [
    {
     "name": "stdout",
     "output_type": "stream",
     "text": [
      "Empty DataFrame\n",
      "Columns: [Date, Time, Student First Name, Student Last Name, Student Email]\n",
      "Index: []\n"
     ]
    }
   ],
   "source": [
    "# Check duplicates based on a specific column (e.g., 'Student Email')\n",
    "duplicates_by_LID = ptf_data_unique[ptf_data_unique.duplicated(subset='Student Email')]\n",
    "print(duplicates_by_LID)"
   ]
  },
  {
   "cell_type": "code",
   "execution_count": 36,
   "id": "ec2d52c0-5f42-4f30-a3b2-ce719c96dd2b",
   "metadata": {},
   "outputs": [
    {
     "data": {
      "text/plain": [
       "sufian.saiqat@calbrightcollege.org       1\n",
       "jessica.melendez@calbrightcollege.org    1\n",
       "yuri.oros@calbrightcollege.org           1\n",
       "ashley.munoz@calbrightcollege.org        1\n",
       "yinfang.luo@calbrightcollege.org         1\n",
       "Name: Student Email, dtype: int64"
      ]
     },
     "execution_count": 36,
     "metadata": {},
     "output_type": "execute_result"
    }
   ],
   "source": [
    "# Use pandas' Series method `value_counts` to find any duplicated Student Email\n",
    "ptf_data_unique['Student Email'].value_counts().head()"
   ]
  },
  {
   "cell_type": "code",
   "execution_count": 37,
   "id": "14655e36-0ac8-4a9b-b9e3-7a16289c2601",
   "metadata": {},
   "outputs": [
    {
     "data": {
      "text/plain": [
       "148"
      ]
     },
     "execution_count": 37,
     "metadata": {},
     "output_type": "execute_result"
    }
   ],
   "source": [
    "# use the `nunique` method to calculate the number of unique values in Student Email\n",
    "ptf_data_unique['Student Email'].nunique()"
   ]
  },
  {
   "cell_type": "markdown",
   "id": "87f5a61f-0b24-4c62-9310-699d0dcc7147",
   "metadata": {},
   "source": [
    "#### 1.4.3 Remove Null Values: Student Email"
   ]
  },
  {
   "cell_type": "code",
   "execution_count": 39,
   "id": "083009fb-3599-4633-ba47-e90e5641428c",
   "metadata": {},
   "outputs": [
    {
     "data": {
      "text/html": [
       "<div>\n",
       "<style scoped>\n",
       "    .dataframe tbody tr th:only-of-type {\n",
       "        vertical-align: middle;\n",
       "    }\n",
       "\n",
       "    .dataframe tbody tr th {\n",
       "        vertical-align: top;\n",
       "    }\n",
       "\n",
       "    .dataframe thead th {\n",
       "        text-align: right;\n",
       "    }\n",
       "</style>\n",
       "<table border=\"1\" class=\"dataframe\">\n",
       "  <thead>\n",
       "    <tr style=\"text-align: right;\">\n",
       "      <th></th>\n",
       "      <th>Date</th>\n",
       "      <th>Time</th>\n",
       "      <th>Student First Name</th>\n",
       "      <th>Student Last Name</th>\n",
       "      <th>Student Email</th>\n",
       "    </tr>\n",
       "  </thead>\n",
       "  <tbody>\n",
       "    <tr>\n",
       "      <th>0</th>\n",
       "      <td>1/15/2025</td>\n",
       "      <td>18:00</td>\n",
       "      <td>Sufian</td>\n",
       "      <td>Saiqat</td>\n",
       "      <td>sufian.saiqat@calbrightcollege.org</td>\n",
       "    </tr>\n",
       "    <tr>\n",
       "      <th>1</th>\n",
       "      <td>01/17/2025</td>\n",
       "      <td>18:30</td>\n",
       "      <td>Scot</td>\n",
       "      <td>Goode</td>\n",
       "      <td>scot.goode@calbrightcollege.org</td>\n",
       "    </tr>\n",
       "    <tr>\n",
       "      <th>2</th>\n",
       "      <td>01/19/2025</td>\n",
       "      <td>12:00</td>\n",
       "      <td>AnnElyse</td>\n",
       "      <td>Hays</td>\n",
       "      <td>ann.hays@calbrightcollege.org</td>\n",
       "    </tr>\n",
       "    <tr>\n",
       "      <th>3</th>\n",
       "      <td>01/24/2025</td>\n",
       "      <td>17:00</td>\n",
       "      <td>Berenice</td>\n",
       "      <td>Renteria</td>\n",
       "      <td>berenice.renteria@calbrightcollege.org</td>\n",
       "    </tr>\n",
       "    <tr>\n",
       "      <th>4</th>\n",
       "      <td>01/24/2025</td>\n",
       "      <td>18:00</td>\n",
       "      <td>Natsnet</td>\n",
       "      <td>Gebrhiwet</td>\n",
       "      <td>natsnet.gebrhiwet@calbrightcollege.org</td>\n",
       "    </tr>\n",
       "  </tbody>\n",
       "</table>\n",
       "</div>"
      ],
      "text/plain": [
       "         Date   Time Student First Name Student Last Name  \\\n",
       "0   1/15/2025  18:00             Sufian            Saiqat   \n",
       "1  01/17/2025  18:30               Scot             Goode   \n",
       "2  01/19/2025  12:00           AnnElyse              Hays   \n",
       "3  01/24/2025  17:00           Berenice          Renteria   \n",
       "4  01/24/2025  18:00            Natsnet         Gebrhiwet   \n",
       "\n",
       "                            Student Email  \n",
       "0      sufian.saiqat@calbrightcollege.org  \n",
       "1         scot.goode@calbrightcollege.org  \n",
       "2           ann.hays@calbrightcollege.org  \n",
       "3  berenice.renteria@calbrightcollege.org  \n",
       "4  natsnet.gebrhiwet@calbrightcollege.org  "
      ]
     },
     "execution_count": 39,
     "metadata": {},
     "output_type": "execute_result"
    }
   ],
   "source": [
    "# Remove rows where 'Student Email' is null\n",
    "ptf_data_unique_noNull = ptf_data_unique.dropna(subset=['Student Email'])\n",
    "ptf_data_unique_noNull.head()"
   ]
  },
  {
   "cell_type": "code",
   "execution_count": 40,
   "id": "59e9db2c-7bf5-4da2-b21c-5011b7beda07",
   "metadata": {},
   "outputs": [
    {
     "name": "stdout",
     "output_type": "stream",
     "text": [
      "<class 'pandas.core.frame.DataFrame'>\n",
      "Int64Index: 148 entries, 0 to 148\n",
      "Data columns (total 5 columns):\n",
      " #   Column              Non-Null Count  Dtype \n",
      "---  ------              --------------  ----- \n",
      " 0   Date                148 non-null    object\n",
      " 1   Time                148 non-null    object\n",
      " 2   Student First Name  148 non-null    object\n",
      " 3   Student Last Name   114 non-null    object\n",
      " 4   Student Email       148 non-null    object\n",
      "dtypes: object(5)\n",
      "memory usage: 6.9+ KB\n"
     ]
    }
   ],
   "source": [
    "#Call the info method on the data to see a summary of the data\n",
    "ptf_data_unique_noNull.info() "
   ]
  },
  {
   "cell_type": "code",
   "execution_count": 41,
   "id": "b9d1167e-0cae-4275-8f28-9d13c2d1394f",
   "metadata": {},
   "outputs": [
    {
     "data": {
      "text/plain": [
       "(148, 5)"
      ]
     },
     "execution_count": 41,
     "metadata": {},
     "output_type": "execute_result"
    }
   ],
   "source": [
    "# check the size of dataset\n",
    "ptf_data_unique_noNull.shape"
   ]
  },
  {
   "cell_type": "code",
   "execution_count": 42,
   "id": "bc439c11-f08b-4716-95b0-ede938986925",
   "metadata": {},
   "outputs": [
    {
     "data": {
      "text/plain": [
       "148"
      ]
     },
     "execution_count": 42,
     "metadata": {},
     "output_type": "execute_result"
    }
   ],
   "source": [
    "# use the `nunique` method to calculate the number of unique values in Student Email\n",
    "ptf_data_unique_noNull['Student Email'].nunique()"
   ]
  },
  {
   "cell_type": "markdown",
   "id": "f20f613b-48df-4080-8693-195beee5bd9d",
   "metadata": {},
   "source": [
    "**Result:** `148` unique students identified from `449` tutoring sessions"
   ]
  },
  {
   "cell_type": "markdown",
   "id": "dad2064c-e10f-4706-b4dd-72dbefc80c91",
   "metadata": {},
   "source": [
    "### 1.5 Data Validation: Student Email Validation Against Gradebook"
   ]
  },
  {
   "cell_type": "markdown",
   "id": "452948cc-27cd-42e2-a236-804d0fe95e79",
   "metadata": {},
   "source": [
    "Validate the Post Tutor Form \"Student Email\" entries by matching them with the GradeBook \"Learner Identifier\" entries. Manually check any unmatched entries for typos, if applicable."
   ]
  },
  {
   "cell_type": "markdown",
   "id": "dea3217e-02d9-4e38-80ed-d25032c589ee",
   "metadata": {},
   "source": [
    "#### 1.5.1 Load Gradebook Data for Validation"
   ]
  },
  {
   "cell_type": "code",
   "execution_count": 47,
   "id": "2f984522-239f-4cad-903e-051c693aa614",
   "metadata": {},
   "outputs": [],
   "source": [
    "# the supplied CSV data file is the raw_data directory\n",
    "gb_data_500 = pd.read_csv('../raw_data/BUS500_2025-04-07 12_10 PM PT.csv') \n",
    "gb_data_501 = pd.read_csv('../raw_data/BUS501_2025-04-07 12_19 PM PT.csv') "
   ]
  },
  {
   "cell_type": "code",
   "execution_count": 48,
   "id": "733a6046-ee3c-43d7-b191-9e90f517da58",
   "metadata": {},
   "outputs": [
    {
     "name": "stdout",
     "output_type": "stream",
     "text": [
      "<class 'pandas.core.frame.DataFrame'>\n",
      "RangeIndex: 2659 entries, 0 to 2658\n",
      "Data columns (total 11 columns):\n",
      " #   Column                                  Non-Null Count  Dtype \n",
      "---  ------                                  --------------  ----- \n",
      " 0   Learner Last Name                       2659 non-null   object\n",
      " 1   Learner First Name                      2656 non-null   object\n",
      " 2   Learner Identifier                      2659 non-null   object\n",
      " 3   DATA ANALYSIS: Terminology              2659 non-null   object\n",
      " 4   DATA ANALYSIS: Spreadsheets             2659 non-null   object\n",
      " 5   DATA ANALYSIS: Basic SQL Queries        2659 non-null   object\n",
      " 6   DATA ANALYSIS: Presentation Skills      2659 non-null   object\n",
      " 7   DATA ANALYSIS: Research                 2659 non-null   object\n",
      " 8   DATA ANALYSIS: Data Validity            2659 non-null   object\n",
      " 9   DATA ANALYSIS: Mathematical Principles  2659 non-null   object\n",
      " 10  Introduction to Data Analysis Program   2659 non-null   object\n",
      "dtypes: object(11)\n",
      "memory usage: 228.6+ KB\n",
      "<class 'pandas.core.frame.DataFrame'>\n",
      "RangeIndex: 521 entries, 0 to 520\n",
      "Data columns (total 9 columns):\n",
      " #   Column                                   Non-Null Count  Dtype \n",
      "---  ------                                   --------------  ----- \n",
      " 0   Learner Last Name                        521 non-null    object\n",
      " 1   Learner First Name                       520 non-null    object\n",
      " 2   Learner Identifier                       521 non-null    object\n",
      " 3   DATA ANALYSIS: Intermediate SQL Queries  521 non-null    object\n",
      " 4   DATA ANALYSIS: Data Ethics               521 non-null    object\n",
      " 5   DATA ANALYSIS: Data Presentation Skills  521 non-null    object\n",
      " 6   DATA ANALYSIS: Professional Learning     521 non-null    object\n",
      " 7   DATA ANALYSIS: Durable Skills            521 non-null    object\n",
      " 8   Introduction to Data Analysis Program    521 non-null    object\n",
      "dtypes: object(9)\n",
      "memory usage: 36.8+ KB\n"
     ]
    }
   ],
   "source": [
    "#Call the info method on the data to see a summary of the data\n",
    "gb_data_500.info() \n",
    "gb_data_501.info()"
   ]
  },
  {
   "cell_type": "code",
   "execution_count": 49,
   "id": "53b1804c-0fbc-4bf5-8464-a1d37aecf45b",
   "metadata": {},
   "outputs": [
    {
     "data": {
      "text/plain": [
       "((2659, 11), (521, 9))"
      ]
     },
     "execution_count": 49,
     "metadata": {},
     "output_type": "execute_result"
    }
   ],
   "source": [
    "# check the size of original dataset\n",
    "gb_data_500.shape, gb_data_501.shape"
   ]
  },
  {
   "cell_type": "markdown",
   "id": "648073aa-36f1-4cb4-b710-7b82a70b8f8c",
   "metadata": {},
   "source": [
    "**Checkpoint**: The \"Learner Identifier\" column in both the 500 and 501 datasets has no null values."
   ]
  },
  {
   "cell_type": "markdown",
   "id": "563a3122-8119-404f-a0e4-b50147e858b9",
   "metadata": {},
   "source": [
    "#### 1.5.2 Merge Gradebook Data"
   ]
  },
  {
   "cell_type": "code",
   "execution_count": 52,
   "id": "6f3a35a3-5211-4496-8561-fbb8dcf5d311",
   "metadata": {},
   "outputs": [
    {
     "data": {
      "text/html": [
       "<div>\n",
       "<style scoped>\n",
       "    .dataframe tbody tr th:only-of-type {\n",
       "        vertical-align: middle;\n",
       "    }\n",
       "\n",
       "    .dataframe tbody tr th {\n",
       "        vertical-align: top;\n",
       "    }\n",
       "\n",
       "    .dataframe thead th {\n",
       "        text-align: right;\n",
       "    }\n",
       "</style>\n",
       "<table border=\"1\" class=\"dataframe\">\n",
       "  <thead>\n",
       "    <tr style=\"text-align: right;\">\n",
       "      <th></th>\n",
       "      <th>Learner Last Name_x</th>\n",
       "      <th>Learner First Name_x</th>\n",
       "      <th>Learner Identifier</th>\n",
       "      <th>DATA ANALYSIS: Terminology</th>\n",
       "      <th>DATA ANALYSIS: Spreadsheets</th>\n",
       "      <th>DATA ANALYSIS: Basic SQL Queries</th>\n",
       "      <th>DATA ANALYSIS: Presentation Skills</th>\n",
       "      <th>DATA ANALYSIS: Research</th>\n",
       "      <th>DATA ANALYSIS: Data Validity</th>\n",
       "      <th>DATA ANALYSIS: Mathematical Principles</th>\n",
       "      <th>Introduction to Data Analysis Program_x</th>\n",
       "      <th>Learner Last Name_y</th>\n",
       "      <th>Learner First Name_y</th>\n",
       "      <th>DATA ANALYSIS: Intermediate SQL Queries</th>\n",
       "      <th>DATA ANALYSIS: Data Ethics</th>\n",
       "      <th>DATA ANALYSIS: Data Presentation Skills</th>\n",
       "      <th>DATA ANALYSIS: Professional Learning</th>\n",
       "      <th>DATA ANALYSIS: Durable Skills</th>\n",
       "      <th>Introduction to Data Analysis Program_y</th>\n",
       "    </tr>\n",
       "  </thead>\n",
       "  <tbody>\n",
       "    <tr>\n",
       "      <th>0</th>\n",
       "      <td>Hawker</td>\n",
       "      <td>SHARI</td>\n",
       "      <td>shari.hawker@calbrightcollege.org</td>\n",
       "      <td>Incomplete</td>\n",
       "      <td>Incomplete</td>\n",
       "      <td>Incomplete</td>\n",
       "      <td>Incomplete</td>\n",
       "      <td>Incomplete</td>\n",
       "      <td>Incomplete</td>\n",
       "      <td>Incomplete</td>\n",
       "      <td>0%</td>\n",
       "      <td>NaN</td>\n",
       "      <td>NaN</td>\n",
       "      <td>NaN</td>\n",
       "      <td>NaN</td>\n",
       "      <td>NaN</td>\n",
       "      <td>NaN</td>\n",
       "      <td>NaN</td>\n",
       "      <td>NaN</td>\n",
       "    </tr>\n",
       "    <tr>\n",
       "      <th>1</th>\n",
       "      <td>KARKI</td>\n",
       "      <td>RISHTA</td>\n",
       "      <td>rishta.karki@calbrightcollege.org</td>\n",
       "      <td>Complete on 2024-08-10T15:43:03.169</td>\n",
       "      <td>Complete on 2024-08-11T22:54:32.014</td>\n",
       "      <td>Incomplete</td>\n",
       "      <td>Incomplete</td>\n",
       "      <td>Incomplete</td>\n",
       "      <td>Incomplete</td>\n",
       "      <td>Incomplete</td>\n",
       "      <td>14%</td>\n",
       "      <td>NaN</td>\n",
       "      <td>NaN</td>\n",
       "      <td>NaN</td>\n",
       "      <td>NaN</td>\n",
       "      <td>NaN</td>\n",
       "      <td>NaN</td>\n",
       "      <td>NaN</td>\n",
       "      <td>NaN</td>\n",
       "    </tr>\n",
       "    <tr>\n",
       "      <th>2</th>\n",
       "      <td>Sandoval</td>\n",
       "      <td>George</td>\n",
       "      <td>george.sandoval@calbrightcollege.org</td>\n",
       "      <td>Complete on 2024-09-02T12:37:20.540</td>\n",
       "      <td>Complete on 2024-10-02T21:05:47.423</td>\n",
       "      <td>Complete on 2024-12-12T19:39:04.199</td>\n",
       "      <td>Complete on 2024-12-21T12:54:03.313</td>\n",
       "      <td>Complete on 2025-02-13T11:20:26.987</td>\n",
       "      <td>Complete on 2025-03-16T10:56:53.575</td>\n",
       "      <td>Complete on 2025-03-18T19:45:36.223</td>\n",
       "      <td>42%</td>\n",
       "      <td>Sandoval</td>\n",
       "      <td>George</td>\n",
       "      <td>Incomplete</td>\n",
       "      <td>Incomplete</td>\n",
       "      <td>Incomplete</td>\n",
       "      <td>Incomplete</td>\n",
       "      <td>Incomplete</td>\n",
       "      <td>42%</td>\n",
       "    </tr>\n",
       "    <tr>\n",
       "      <th>3</th>\n",
       "      <td>Salgado</td>\n",
       "      <td>Jairo Flores</td>\n",
       "      <td>jairo.floressalgado@calbrightcollege.org</td>\n",
       "      <td>Complete on 2024-07-27T13:06:18.921</td>\n",
       "      <td>Complete on 2024-08-07T21:35:59.760</td>\n",
       "      <td>Complete on 2024-07-28T14:04:51.595</td>\n",
       "      <td>Complete on 2024-08-07T22:27:31.467</td>\n",
       "      <td>Complete on 2024-08-25T00:06:59.396</td>\n",
       "      <td>Complete on 2024-08-25T00:15:04.042</td>\n",
       "      <td>Complete on 2024-08-25T00:27:45.474</td>\n",
       "      <td>98%</td>\n",
       "      <td>Salgado</td>\n",
       "      <td>Jairo Flores</td>\n",
       "      <td>Complete on 2024-09-18T08:44:26.195</td>\n",
       "      <td>Complete on 2024-09-18T10:46:37.043</td>\n",
       "      <td>Incomplete</td>\n",
       "      <td>Complete on 2024-09-17T22:58:14.796</td>\n",
       "      <td>Complete on 2024-09-18T11:08:19.710</td>\n",
       "      <td>98%</td>\n",
       "    </tr>\n",
       "    <tr>\n",
       "      <th>4</th>\n",
       "      <td>Massio-Voelkert</td>\n",
       "      <td>Michele</td>\n",
       "      <td>michele.massiovoelkert@calbrightcollege.org</td>\n",
       "      <td>Incomplete</td>\n",
       "      <td>Incomplete</td>\n",
       "      <td>Incomplete</td>\n",
       "      <td>Incomplete</td>\n",
       "      <td>Incomplete</td>\n",
       "      <td>Incomplete</td>\n",
       "      <td>Incomplete</td>\n",
       "      <td>0%</td>\n",
       "      <td>NaN</td>\n",
       "      <td>NaN</td>\n",
       "      <td>NaN</td>\n",
       "      <td>NaN</td>\n",
       "      <td>NaN</td>\n",
       "      <td>NaN</td>\n",
       "      <td>NaN</td>\n",
       "      <td>NaN</td>\n",
       "    </tr>\n",
       "  </tbody>\n",
       "</table>\n",
       "</div>"
      ],
      "text/plain": [
       "  Learner Last Name_x Learner First Name_x  \\\n",
       "0              Hawker                SHARI   \n",
       "1               KARKI               RISHTA   \n",
       "2            Sandoval               George   \n",
       "3             Salgado         Jairo Flores   \n",
       "4     Massio-Voelkert              Michele   \n",
       "\n",
       "                            Learner Identifier  \\\n",
       "0            shari.hawker@calbrightcollege.org   \n",
       "1            rishta.karki@calbrightcollege.org   \n",
       "2         george.sandoval@calbrightcollege.org   \n",
       "3     jairo.floressalgado@calbrightcollege.org   \n",
       "4  michele.massiovoelkert@calbrightcollege.org   \n",
       "\n",
       "            DATA ANALYSIS: Terminology          DATA ANALYSIS: Spreadsheets  \\\n",
       "0                           Incomplete                           Incomplete   \n",
       "1  Complete on 2024-08-10T15:43:03.169  Complete on 2024-08-11T22:54:32.014   \n",
       "2  Complete on 2024-09-02T12:37:20.540  Complete on 2024-10-02T21:05:47.423   \n",
       "3  Complete on 2024-07-27T13:06:18.921  Complete on 2024-08-07T21:35:59.760   \n",
       "4                           Incomplete                           Incomplete   \n",
       "\n",
       "      DATA ANALYSIS: Basic SQL Queries   DATA ANALYSIS: Presentation Skills  \\\n",
       "0                           Incomplete                           Incomplete   \n",
       "1                           Incomplete                           Incomplete   \n",
       "2  Complete on 2024-12-12T19:39:04.199  Complete on 2024-12-21T12:54:03.313   \n",
       "3  Complete on 2024-07-28T14:04:51.595  Complete on 2024-08-07T22:27:31.467   \n",
       "4                           Incomplete                           Incomplete   \n",
       "\n",
       "               DATA ANALYSIS: Research         DATA ANALYSIS: Data Validity  \\\n",
       "0                           Incomplete                           Incomplete   \n",
       "1                           Incomplete                           Incomplete   \n",
       "2  Complete on 2025-02-13T11:20:26.987  Complete on 2025-03-16T10:56:53.575   \n",
       "3  Complete on 2024-08-25T00:06:59.396  Complete on 2024-08-25T00:15:04.042   \n",
       "4                           Incomplete                           Incomplete   \n",
       "\n",
       "  DATA ANALYSIS: Mathematical Principles  \\\n",
       "0                             Incomplete   \n",
       "1                             Incomplete   \n",
       "2    Complete on 2025-03-18T19:45:36.223   \n",
       "3    Complete on 2024-08-25T00:27:45.474   \n",
       "4                             Incomplete   \n",
       "\n",
       "  Introduction to Data Analysis Program_x Learner Last Name_y  \\\n",
       "0                                      0%                 NaN   \n",
       "1                                     14%                 NaN   \n",
       "2                                     42%            Sandoval   \n",
       "3                                     98%             Salgado   \n",
       "4                                      0%                 NaN   \n",
       "\n",
       "  Learner First Name_y DATA ANALYSIS: Intermediate SQL Queries  \\\n",
       "0                  NaN                                     NaN   \n",
       "1                  NaN                                     NaN   \n",
       "2               George                              Incomplete   \n",
       "3         Jairo Flores     Complete on 2024-09-18T08:44:26.195   \n",
       "4                  NaN                                     NaN   \n",
       "\n",
       "            DATA ANALYSIS: Data Ethics  \\\n",
       "0                                  NaN   \n",
       "1                                  NaN   \n",
       "2                           Incomplete   \n",
       "3  Complete on 2024-09-18T10:46:37.043   \n",
       "4                                  NaN   \n",
       "\n",
       "  DATA ANALYSIS: Data Presentation Skills  \\\n",
       "0                                     NaN   \n",
       "1                                     NaN   \n",
       "2                              Incomplete   \n",
       "3                              Incomplete   \n",
       "4                                     NaN   \n",
       "\n",
       "  DATA ANALYSIS: Professional Learning        DATA ANALYSIS: Durable Skills  \\\n",
       "0                                  NaN                                  NaN   \n",
       "1                                  NaN                                  NaN   \n",
       "2                           Incomplete                           Incomplete   \n",
       "3  Complete on 2024-09-17T22:58:14.796  Complete on 2024-09-18T11:08:19.710   \n",
       "4                                  NaN                                  NaN   \n",
       "\n",
       "  Introduction to Data Analysis Program_y  \n",
       "0                                     NaN  \n",
       "1                                     NaN  \n",
       "2                                     42%  \n",
       "3                                     98%  \n",
       "4                                     NaN  "
      ]
     },
     "execution_count": 52,
     "metadata": {},
     "output_type": "execute_result"
    }
   ],
   "source": [
    "# Perform outer join on the 'Learner Identifier' column\n",
    "gb_data_500_501 = pd.merge(gb_data_500, gb_data_501, on='Learner Identifier', how='outer')\n",
    "gb_data_500_501.head()"
   ]
  },
  {
   "cell_type": "code",
   "execution_count": 53,
   "id": "90a24aab-8e14-4596-a47e-3650b291e017",
   "metadata": {},
   "outputs": [
    {
     "name": "stdout",
     "output_type": "stream",
     "text": [
      "<class 'pandas.core.frame.DataFrame'>\n",
      "Int64Index: 2663 entries, 0 to 2662\n",
      "Data columns (total 19 columns):\n",
      " #   Column                                   Non-Null Count  Dtype \n",
      "---  ------                                   --------------  ----- \n",
      " 0   Learner Last Name_x                      2659 non-null   object\n",
      " 1   Learner First Name_x                     2656 non-null   object\n",
      " 2   Learner Identifier                       2663 non-null   object\n",
      " 3   DATA ANALYSIS: Terminology               2659 non-null   object\n",
      " 4   DATA ANALYSIS: Spreadsheets              2659 non-null   object\n",
      " 5   DATA ANALYSIS: Basic SQL Queries         2659 non-null   object\n",
      " 6   DATA ANALYSIS: Presentation Skills       2659 non-null   object\n",
      " 7   DATA ANALYSIS: Research                  2659 non-null   object\n",
      " 8   DATA ANALYSIS: Data Validity             2659 non-null   object\n",
      " 9   DATA ANALYSIS: Mathematical Principles   2659 non-null   object\n",
      " 10  Introduction to Data Analysis Program_x  2659 non-null   object\n",
      " 11  Learner Last Name_y                      521 non-null    object\n",
      " 12  Learner First Name_y                     520 non-null    object\n",
      " 13  DATA ANALYSIS: Intermediate SQL Queries  521 non-null    object\n",
      " 14  DATA ANALYSIS: Data Ethics               521 non-null    object\n",
      " 15  DATA ANALYSIS: Data Presentation Skills  521 non-null    object\n",
      " 16  DATA ANALYSIS: Professional Learning     521 non-null    object\n",
      " 17  DATA ANALYSIS: Durable Skills            521 non-null    object\n",
      " 18  Introduction to Data Analysis Program_y  521 non-null    object\n",
      "dtypes: object(19)\n",
      "memory usage: 416.1+ KB\n"
     ]
    }
   ],
   "source": [
    "#Call the info method on the data to see a summary of the data\n",
    "gb_data_500_501.info() "
   ]
  },
  {
   "cell_type": "code",
   "execution_count": 54,
   "id": "d115ef2d-273e-4cdb-abe0-9c09c7c18209",
   "metadata": {},
   "outputs": [
    {
     "data": {
      "text/plain": [
       "(2663, 19)"
      ]
     },
     "execution_count": 54,
     "metadata": {},
     "output_type": "execute_result"
    }
   ],
   "source": [
    "# check the size of original dataset\n",
    "gb_data_500_501.shape"
   ]
  },
  {
   "cell_type": "code",
   "execution_count": 55,
   "id": "ea657ac0-8e30-4f2f-848c-c76a2eba0c62",
   "metadata": {},
   "outputs": [
    {
     "name": "stdout",
     "output_type": "stream",
     "text": [
      "Total number of null entries: 17180\n",
      "Null entries per column:\n",
      "Learner Last Name_x                           4\n",
      "Learner First Name_x                          7\n",
      "Learner Identifier                            0\n",
      "DATA ANALYSIS: Terminology                    4\n",
      "DATA ANALYSIS: Spreadsheets                   4\n",
      "DATA ANALYSIS: Basic SQL Queries              4\n",
      "DATA ANALYSIS: Presentation Skills            4\n",
      "DATA ANALYSIS: Research                       4\n",
      "DATA ANALYSIS: Data Validity                  4\n",
      "DATA ANALYSIS: Mathematical Principles        4\n",
      "Introduction to Data Analysis Program_x       4\n",
      "Learner Last Name_y                        2142\n",
      "Learner First Name_y                       2143\n",
      "DATA ANALYSIS: Intermediate SQL Queries    2142\n",
      "DATA ANALYSIS: Data Ethics                 2142\n",
      "DATA ANALYSIS: Data Presentation Skills    2142\n",
      "DATA ANALYSIS: Professional Learning       2142\n",
      "DATA ANALYSIS: Durable Skills              2142\n",
      "Introduction to Data Analysis Program_y    2142\n",
      "dtype: int64\n"
     ]
    }
   ],
   "source": [
    "# Total number of null values in the whole DataFrame\n",
    "total_nulls = gb_data_500_501.isnull().sum().sum()\n",
    "print(f\"Total number of null entries: {total_nulls}\")\n",
    "\n",
    "# Number of nulls per column\n",
    "nulls_per_column = gb_data_500_501.isnull().sum()\n",
    "print(\"Null entries per column:\")\n",
    "print(nulls_per_column)"
   ]
  },
  {
   "cell_type": "code",
   "execution_count": 56,
   "id": "f8b4f922-e48c-480b-8b42-ba36ed4b368b",
   "metadata": {},
   "outputs": [
    {
     "data": {
      "text/plain": [
       "2663"
      ]
     },
     "execution_count": 56,
     "metadata": {},
     "output_type": "execute_result"
    }
   ],
   "source": [
    "# use the `nunique` method to calculate the number of unique values in Student Email\n",
    "gb_data_500_501['Learner Identifier'].nunique()"
   ]
  },
  {
   "cell_type": "markdown",
   "id": "3eb2efd7-4c79-46c3-9c52-7a7717a1623d",
   "metadata": {},
   "source": [
    "**Checkpoint**: The \"Learner Identifier\" column in the merged 500 and 501 datasets contains only unique values and no duplicates."
   ]
  },
  {
   "cell_type": "markdown",
   "id": "8c350349-dbf9-44c8-97e2-4bed8c2b39e7",
   "metadata": {},
   "source": [
    "#### 1.5.3 Identify Matched and Unmatched Student Emails"
   ]
  },
  {
   "cell_type": "code",
   "execution_count": 59,
   "id": "15ec5e97-0c80-4978-9155-a8e240506308",
   "metadata": {},
   "outputs": [],
   "source": [
    "# Always copy to avoid modifying original data\n",
    "df1 = ptf_data_unique_noNull.copy()\n",
    "df2 = gb_data_500_501.copy()"
   ]
  },
  {
   "cell_type": "code",
   "execution_count": 60,
   "id": "0c66826f-f675-44f0-84f1-506838333ce0",
   "metadata": {},
   "outputs": [],
   "source": [
    "# Ensure both columns are of the same type (string)\n",
    "df1['Student Email'] = df1['Student Email'].astype(str)\n",
    "df2['Learner Identifier'] = df2['Learner Identifier'].astype(str)\n",
    "\n",
    "# Extract matching rows (in df1 where \"Student Email\" exists in df2[\"Learner Identifier\"])\n",
    "df1_matched = df1[df1['Student Email'].isin(df2['Learner Identifier'])]\n",
    "\n",
    "# Extract non-matching rows (in df1 where \"Student Email\" does NOT exist in df2[\"Learner Identifier\"])\n",
    "df1_unmatched = df1[~df1['Student Email'].isin(df2['Learner Identifier'])]"
   ]
  },
  {
   "cell_type": "code",
   "execution_count": 61,
   "id": "941be121-90ec-4d0e-82c5-4b87d601d635",
   "metadata": {},
   "outputs": [
    {
     "data": {
      "text/html": [
       "<div>\n",
       "<style scoped>\n",
       "    .dataframe tbody tr th:only-of-type {\n",
       "        vertical-align: middle;\n",
       "    }\n",
       "\n",
       "    .dataframe tbody tr th {\n",
       "        vertical-align: top;\n",
       "    }\n",
       "\n",
       "    .dataframe thead th {\n",
       "        text-align: right;\n",
       "    }\n",
       "</style>\n",
       "<table border=\"1\" class=\"dataframe\">\n",
       "  <thead>\n",
       "    <tr style=\"text-align: right;\">\n",
       "      <th></th>\n",
       "      <th>Date</th>\n",
       "      <th>Time</th>\n",
       "      <th>Student First Name</th>\n",
       "      <th>Student Last Name</th>\n",
       "      <th>Student Email</th>\n",
       "    </tr>\n",
       "  </thead>\n",
       "  <tbody>\n",
       "    <tr>\n",
       "      <th>0</th>\n",
       "      <td>1/15/2025</td>\n",
       "      <td>18:00</td>\n",
       "      <td>Sufian</td>\n",
       "      <td>Saiqat</td>\n",
       "      <td>sufian.saiqat@calbrightcollege.org</td>\n",
       "    </tr>\n",
       "    <tr>\n",
       "      <th>1</th>\n",
       "      <td>01/17/2025</td>\n",
       "      <td>18:30</td>\n",
       "      <td>Scot</td>\n",
       "      <td>Goode</td>\n",
       "      <td>scot.goode@calbrightcollege.org</td>\n",
       "    </tr>\n",
       "    <tr>\n",
       "      <th>2</th>\n",
       "      <td>01/19/2025</td>\n",
       "      <td>12:00</td>\n",
       "      <td>AnnElyse</td>\n",
       "      <td>Hays</td>\n",
       "      <td>ann.hays@calbrightcollege.org</td>\n",
       "    </tr>\n",
       "    <tr>\n",
       "      <th>3</th>\n",
       "      <td>01/24/2025</td>\n",
       "      <td>17:00</td>\n",
       "      <td>Berenice</td>\n",
       "      <td>Renteria</td>\n",
       "      <td>berenice.renteria@calbrightcollege.org</td>\n",
       "    </tr>\n",
       "    <tr>\n",
       "      <th>4</th>\n",
       "      <td>01/24/2025</td>\n",
       "      <td>18:00</td>\n",
       "      <td>Natsnet</td>\n",
       "      <td>Gebrhiwet</td>\n",
       "      <td>natsnet.gebrhiwet@calbrightcollege.org</td>\n",
       "    </tr>\n",
       "  </tbody>\n",
       "</table>\n",
       "</div>"
      ],
      "text/plain": [
       "         Date   Time Student First Name Student Last Name  \\\n",
       "0   1/15/2025  18:00             Sufian            Saiqat   \n",
       "1  01/17/2025  18:30               Scot             Goode   \n",
       "2  01/19/2025  12:00           AnnElyse              Hays   \n",
       "3  01/24/2025  17:00           Berenice          Renteria   \n",
       "4  01/24/2025  18:00            Natsnet         Gebrhiwet   \n",
       "\n",
       "                            Student Email  \n",
       "0      sufian.saiqat@calbrightcollege.org  \n",
       "1         scot.goode@calbrightcollege.org  \n",
       "2           ann.hays@calbrightcollege.org  \n",
       "3  berenice.renteria@calbrightcollege.org  \n",
       "4  natsnet.gebrhiwet@calbrightcollege.org  "
      ]
     },
     "execution_count": 61,
     "metadata": {},
     "output_type": "execute_result"
    }
   ],
   "source": [
    "# Save transformed version safely\n",
    "ptf_data_unique_noNull_matched= df1_matched.copy()\n",
    "ptf_data_unique_noNull_matched.head()"
   ]
  },
  {
   "cell_type": "code",
   "execution_count": 62,
   "id": "96dee0f0-f751-4259-9a38-03da141e1e00",
   "metadata": {},
   "outputs": [
    {
     "data": {
      "text/html": [
       "<div>\n",
       "<style scoped>\n",
       "    .dataframe tbody tr th:only-of-type {\n",
       "        vertical-align: middle;\n",
       "    }\n",
       "\n",
       "    .dataframe tbody tr th {\n",
       "        vertical-align: top;\n",
       "    }\n",
       "\n",
       "    .dataframe thead th {\n",
       "        text-align: right;\n",
       "    }\n",
       "</style>\n",
       "<table border=\"1\" class=\"dataframe\">\n",
       "  <thead>\n",
       "    <tr style=\"text-align: right;\">\n",
       "      <th></th>\n",
       "      <th>Date</th>\n",
       "      <th>Time</th>\n",
       "      <th>Student First Name</th>\n",
       "      <th>Student Last Name</th>\n",
       "      <th>Student Email</th>\n",
       "    </tr>\n",
       "  </thead>\n",
       "  <tbody>\n",
       "    <tr>\n",
       "      <th>11</th>\n",
       "      <td>01/27/2025</td>\n",
       "      <td>18:00</td>\n",
       "      <td>Jocelyn</td>\n",
       "      <td>Tabula Maminta?</td>\n",
       "      <td>jocelyn.tabula-maminta@calbrightcollege.org</td>\n",
       "    </tr>\n",
       "    <tr>\n",
       "      <th>28</th>\n",
       "      <td>2/21/2025</td>\n",
       "      <td>17:30</td>\n",
       "      <td>Brenda</td>\n",
       "      <td>Mullins</td>\n",
       "      <td>brenda.mullins73@calbrightcollege.org</td>\n",
       "    </tr>\n",
       "    <tr>\n",
       "      <th>30</th>\n",
       "      <td>02/24/2025</td>\n",
       "      <td>18:00</td>\n",
       "      <td>Djenane</td>\n",
       "      <td>Louis-Jacques</td>\n",
       "      <td>d.louis-jacques@calbrightcollege.org</td>\n",
       "    </tr>\n",
       "    <tr>\n",
       "      <th>34</th>\n",
       "      <td>02/28/2025</td>\n",
       "      <td>17:30</td>\n",
       "      <td>Simon</td>\n",
       "      <td>Tan</td>\n",
       "      <td>simon.tan@calbrightcollege.org</td>\n",
       "    </tr>\n",
       "    <tr>\n",
       "      <th>35</th>\n",
       "      <td>1/2/2025</td>\n",
       "      <td>10:00</td>\n",
       "      <td>Michael</td>\n",
       "      <td>Cabradilla</td>\n",
       "      <td>michael.cabradilla@calbrightcollege.org</td>\n",
       "    </tr>\n",
       "  </tbody>\n",
       "</table>\n",
       "</div>"
      ],
      "text/plain": [
       "          Date   Time Student First Name Student Last Name  \\\n",
       "11  01/27/2025  18:00            Jocelyn   Tabula Maminta?   \n",
       "28   2/21/2025  17:30            Brenda            Mullins   \n",
       "30  02/24/2025  18:00           Djenane      Louis-Jacques   \n",
       "34  02/28/2025  17:30              Simon               Tan   \n",
       "35    1/2/2025  10:00            Michael        Cabradilla   \n",
       "\n",
       "                                   Student Email  \n",
       "11   jocelyn.tabula-maminta@calbrightcollege.org  \n",
       "28         brenda.mullins73@calbrightcollege.org  \n",
       "30          d.louis-jacques@calbrightcollege.org  \n",
       "34               simon.tan@calbrightcollege.org   \n",
       "35       michael.cabradilla@calbrightcollege.org  "
      ]
     },
     "execution_count": 62,
     "metadata": {},
     "output_type": "execute_result"
    }
   ],
   "source": [
    "# Save transformed version safely\n",
    "ptf_data_unique_noNull_unmatched= df1_unmatched.copy()\n",
    "ptf_data_unique_noNull_unmatched.head()"
   ]
  },
  {
   "cell_type": "code",
   "execution_count": 63,
   "id": "cb083003-9191-4c41-84c9-3df9b89a0829",
   "metadata": {},
   "outputs": [
    {
     "data": {
      "text/plain": [
       "((148, 5), (135, 5), (13, 5))"
      ]
     },
     "execution_count": 63,
     "metadata": {},
     "output_type": "execute_result"
    }
   ],
   "source": [
    "# check the size of dataset\n",
    "ptf_data_unique_noNull.shape, ptf_data_unique_noNull_matched.shape, ptf_data_unique_noNull_unmatched.shape"
   ]
  },
  {
   "attachments": {},
   "cell_type": "markdown",
   "id": "7e94f0d8-36b4-4046-b28d-06b09e2b1a26",
   "metadata": {},
   "source": [
    "**Result:** \n",
    "- `135` students matched with gradebook (valid student emails)\n",
    "- `13` students unmatched (require manual verification)\n",
    "\n",
    "**Note:** Unmatched entries were primarily due to:\n",
    "- Students not in gradebook system\n",
    "- Personal emails (non-Calbright student emails)\n",
    "- Email typos (e.g., missing letters)"
   ]
  },
  {
   "cell_type": "markdown",
   "id": "05a1058e-dbed-4c45-8314-a721ebacb0ca",
   "metadata": {},
   "source": [
    "#### 1.5.4 Export Data for Manual Validation"
   ]
  },
  {
   "cell_type": "code",
   "execution_count": 66,
   "id": "f9dc30d6-dd8d-4b7a-aa64-804a24a2fd54",
   "metadata": {},
   "outputs": [],
   "source": [
    "# Save to a specific folder\n",
    "ptf_data_unique_noNull.to_csv(\"../data_wrangling_ouput/ptf_2025Q1_unique_noNull.csv\", index=False)\n",
    "ptf_data_unique_noNull_matched.to_csv(\"../data_wrangling_ouput/ptf_2025Q1_unique_noNull_matched.csv\", index=False)\n",
    "ptf_data_unique_noNull_unmatched.to_csv(\"../data_wrangling_ouput/ptf_2025Q1_unique_noNull_unmatched.csv\", index=False)"
   ]
  },
  {
   "cell_type": "markdown",
   "id": "a6ec3ff6-3157-454c-bef8-d0816d06df02",
   "metadata": {},
   "source": [
    "**Note:** The unmatched emails were exported to CSV, manually reviewed against the gradebook, and corrected where possible."
   ]
  },
  {
   "cell_type": "markdown",
   "id": "a5621ff5-135b-43d9-84b1-7756fa941535",
   "metadata": {},
   "source": [
    "### 1.6 Reconstruct Final Post Tutor Form Dataset with Corrected Student Emails"
   ]
  },
  {
   "cell_type": "markdown",
   "id": "674dd193-4607-4277-b6b6-aa0721f3abac",
   "metadata": {},
   "source": [
    "#### 1.6.1 Import Manually Corrected Post Tutor Form Data"
   ]
  },
  {
   "cell_type": "code",
   "execution_count": 70,
   "id": "545648d7-03fe-4ae0-9d95-b6cb12cf7e69",
   "metadata": {},
   "outputs": [
    {
     "data": {
      "text/html": [
       "<div>\n",
       "<style scoped>\n",
       "    .dataframe tbody tr th:only-of-type {\n",
       "        vertical-align: middle;\n",
       "    }\n",
       "\n",
       "    .dataframe tbody tr th {\n",
       "        vertical-align: top;\n",
       "    }\n",
       "\n",
       "    .dataframe thead th {\n",
       "        text-align: right;\n",
       "    }\n",
       "</style>\n",
       "<table border=\"1\" class=\"dataframe\">\n",
       "  <thead>\n",
       "    <tr style=\"text-align: right;\">\n",
       "      <th></th>\n",
       "      <th>Date</th>\n",
       "      <th>Time</th>\n",
       "      <th>Student First Name</th>\n",
       "      <th>Student Last Name</th>\n",
       "      <th>Student Email</th>\n",
       "    </tr>\n",
       "  </thead>\n",
       "  <tbody>\n",
       "    <tr>\n",
       "      <th>0</th>\n",
       "      <td>01/27/2025</td>\n",
       "      <td>18:00</td>\n",
       "      <td>Jocelyn</td>\n",
       "      <td>Tabula Maminta?</td>\n",
       "      <td>jocelyn.tabula-maminta@calbrightcollege.org</td>\n",
       "    </tr>\n",
       "    <tr>\n",
       "      <th>1</th>\n",
       "      <td>2/21/2025</td>\n",
       "      <td>17:30</td>\n",
       "      <td>Brenda</td>\n",
       "      <td>Mullins</td>\n",
       "      <td>NaN</td>\n",
       "    </tr>\n",
       "    <tr>\n",
       "      <th>2</th>\n",
       "      <td>02/24/2025</td>\n",
       "      <td>18:00</td>\n",
       "      <td>Djenane</td>\n",
       "      <td>Louis-Jacques</td>\n",
       "      <td>NaN</td>\n",
       "    </tr>\n",
       "    <tr>\n",
       "      <th>3</th>\n",
       "      <td>02/28/2025</td>\n",
       "      <td>17:30</td>\n",
       "      <td>Simon</td>\n",
       "      <td>Tan</td>\n",
       "      <td>simon.tan@calbrightcollege.org</td>\n",
       "    </tr>\n",
       "    <tr>\n",
       "      <th>4</th>\n",
       "      <td>1/2/2025</td>\n",
       "      <td>10:00</td>\n",
       "      <td>Michael</td>\n",
       "      <td>Cabradilla</td>\n",
       "      <td>NaN</td>\n",
       "    </tr>\n",
       "  </tbody>\n",
       "</table>\n",
       "</div>"
      ],
      "text/plain": [
       "         Date   Time Student First Name Student Last Name  \\\n",
       "0  01/27/2025  18:00            Jocelyn   Tabula Maminta?   \n",
       "1   2/21/2025  17:30             Brenda           Mullins   \n",
       "2  02/24/2025  18:00            Djenane     Louis-Jacques   \n",
       "3  02/28/2025  17:30              Simon               Tan   \n",
       "4    1/2/2025  10:00            Michael        Cabradilla   \n",
       "\n",
       "                                 Student Email  \n",
       "0  jocelyn.tabula-maminta@calbrightcollege.org  \n",
       "1                                          NaN  \n",
       "2                                          NaN  \n",
       "3               simon.tan@calbrightcollege.org  \n",
       "4                                          NaN  "
      ]
     },
     "execution_count": 70,
     "metadata": {},
     "output_type": "execute_result"
    }
   ],
   "source": [
    "# the supplied CSV data file is the raw_data directory\n",
    "ptf_data_unique_unmatched_corrected = pd.read_csv('../data_wrangling_ouput/ptf_2025Q1_unique_unmatched_corrected.csv') \n",
    "ptf_data_unique_unmatched_corrected.head()"
   ]
  },
  {
   "cell_type": "code",
   "execution_count": 71,
   "id": "03ad376f-a0b6-4c7b-9d9f-3413ecaedcff",
   "metadata": {},
   "outputs": [
    {
     "data": {
      "text/plain": [
       "(13, 5)"
      ]
     },
     "execution_count": 71,
     "metadata": {},
     "output_type": "execute_result"
    }
   ],
   "source": [
    "# check the size of dataset\n",
    "ptf_data_unique_unmatched_corrected.shape"
   ]
  },
  {
   "cell_type": "code",
   "execution_count": 72,
   "id": "be3986c6-94d7-4d4a-9d89-ef07360907fa",
   "metadata": {},
   "outputs": [
    {
     "name": "stdout",
     "output_type": "stream",
     "text": [
      "<class 'pandas.core.frame.DataFrame'>\n",
      "RangeIndex: 13 entries, 0 to 12\n",
      "Data columns (total 5 columns):\n",
      " #   Column              Non-Null Count  Dtype \n",
      "---  ------              --------------  ----- \n",
      " 0   Date                13 non-null     object\n",
      " 1   Time                13 non-null     object\n",
      " 2   Student First Name  13 non-null     object\n",
      " 3   Student Last Name   11 non-null     object\n",
      " 4   Student Email       8 non-null      object\n",
      "dtypes: object(5)\n",
      "memory usage: 648.0+ bytes\n"
     ]
    }
   ],
   "source": [
    "#Call the info method on the data to see a summary of the data\n",
    "ptf_data_unique_unmatched_corrected.info() "
   ]
  },
  {
   "cell_type": "code",
   "execution_count": 73,
   "id": "eb7dfa4c-facc-46ed-a40c-0786736e7ce5",
   "metadata": {},
   "outputs": [
    {
     "data": {
      "text/plain": [
       "8"
      ]
     },
     "execution_count": 73,
     "metadata": {},
     "output_type": "execute_result"
    }
   ],
   "source": [
    "# use the `nunique` method to calculate the number of unique values in Student Email\n",
    "ptf_data_unique_unmatched_corrected['Student Email'].nunique()"
   ]
  },
  {
   "cell_type": "code",
   "execution_count": 74,
   "id": "719d1b82-ecce-4c59-80e4-325c45d64e35",
   "metadata": {},
   "outputs": [
    {
     "name": "stdout",
     "output_type": "stream",
     "text": [
      "Total number of null entries: 7\n",
      "Null entries per column:\n",
      "Date                  0\n",
      "Time                  0\n",
      "Student First Name    0\n",
      "Student Last Name     2\n",
      "Student Email         5\n",
      "dtype: int64\n"
     ]
    }
   ],
   "source": [
    "# Total number of null values in the whole DataFrame\n",
    "total_nulls = ptf_data_unique_unmatched_corrected.isnull().sum().sum()\n",
    "print(f\"Total number of null entries: {total_nulls}\")\n",
    "\n",
    "# Number of nulls per column\n",
    "nulls_per_column = ptf_data_unique_unmatched_corrected.isnull().sum()\n",
    "print(\"Null entries per column:\")\n",
    "print(nulls_per_column)"
   ]
  },
  {
   "cell_type": "code",
   "execution_count": 75,
   "id": "bf05435e-4666-4b0d-9dc3-30516f5d1641",
   "metadata": {},
   "outputs": [
    {
     "name": "stdout",
     "output_type": "stream",
     "text": [
      "          Date   Time Student First Name Student Last Name Student Email\n",
      "1    2/21/2025  17:30             Brenda           Mullins           NaN\n",
      "2   02/24/2025  18:00            Djenane     Louis-Jacques           NaN\n",
      "4     1/2/2025  10:00            Michael        Cabradilla           NaN\n",
      "11   3/30/2025  19:00             Romina            Martin           NaN\n",
      "12  03/22/2025  13:30   Cristaldo Campos               NaN           NaN\n"
     ]
    }
   ],
   "source": [
    "# Display rows with missing \"Student Email\"\n",
    "missing_email_rows = ptf_data_unique_unmatched_corrected[ptf_data_unique_unmatched_corrected['Student Email'].isnull()]\n",
    "print(missing_email_rows)"
   ]
  },
  {
   "attachments": {},
   "cell_type": "markdown",
   "id": "eba9624a-53f9-452d-a506-dc72567e4518",
   "metadata": {},
   "source": [
    "**Note:** The `13` unmatched student emails were manually reviewed and corrected where possible against gradebook student emails. During the process, `5` students were found to not exist in the gradebook system and were manually marked as Null, and were excluded in the next section **1.6.2 Remove Invalid Students**."
   ]
  },
  {
   "cell_type": "markdown",
   "id": "4411b65a-acf1-42ac-8bca-713d72575e28",
   "metadata": {},
   "source": [
    "#### 1.6.2 Remove Invalid Students"
   ]
  },
  {
   "cell_type": "code",
   "execution_count": 78,
   "id": "cb746573-6586-4405-80dc-f9d9ac667247",
   "metadata": {},
   "outputs": [
    {
     "data": {
      "text/html": [
       "<div>\n",
       "<style scoped>\n",
       "    .dataframe tbody tr th:only-of-type {\n",
       "        vertical-align: middle;\n",
       "    }\n",
       "\n",
       "    .dataframe tbody tr th {\n",
       "        vertical-align: top;\n",
       "    }\n",
       "\n",
       "    .dataframe thead th {\n",
       "        text-align: right;\n",
       "    }\n",
       "</style>\n",
       "<table border=\"1\" class=\"dataframe\">\n",
       "  <thead>\n",
       "    <tr style=\"text-align: right;\">\n",
       "      <th></th>\n",
       "      <th>Date</th>\n",
       "      <th>Time</th>\n",
       "      <th>Student First Name</th>\n",
       "      <th>Student Last Name</th>\n",
       "      <th>Student Email</th>\n",
       "    </tr>\n",
       "  </thead>\n",
       "  <tbody>\n",
       "    <tr>\n",
       "      <th>0</th>\n",
       "      <td>01/27/2025</td>\n",
       "      <td>18:00</td>\n",
       "      <td>Jocelyn</td>\n",
       "      <td>Tabula Maminta?</td>\n",
       "      <td>jocelyn.tabula-maminta@calbrightcollege.org</td>\n",
       "    </tr>\n",
       "    <tr>\n",
       "      <th>3</th>\n",
       "      <td>02/28/2025</td>\n",
       "      <td>17:30</td>\n",
       "      <td>Simon</td>\n",
       "      <td>Tan</td>\n",
       "      <td>simon.tan@calbrightcollege.org</td>\n",
       "    </tr>\n",
       "    <tr>\n",
       "      <th>5</th>\n",
       "      <td>1/2/2025</td>\n",
       "      <td>10:30</td>\n",
       "      <td>Priti</td>\n",
       "      <td>Burnman</td>\n",
       "      <td>priti.burman@calbrightcollege.org</td>\n",
       "    </tr>\n",
       "    <tr>\n",
       "      <th>6</th>\n",
       "      <td>1/28/2025</td>\n",
       "      <td>10:00</td>\n",
       "      <td>Natsnet Mulubrhan</td>\n",
       "      <td>Gebrhiwet</td>\n",
       "      <td>natsnet.gebrhiwet@calbrightcollege.org</td>\n",
       "    </tr>\n",
       "    <tr>\n",
       "      <th>7</th>\n",
       "      <td>01/16/2025</td>\n",
       "      <td>21:00</td>\n",
       "      <td>Janita Digins</td>\n",
       "      <td>NaN</td>\n",
       "      <td>janita.diggins@calbrightcollege.org</td>\n",
       "    </tr>\n",
       "  </tbody>\n",
       "</table>\n",
       "</div>"
      ],
      "text/plain": [
       "         Date   Time Student First Name Student Last Name  \\\n",
       "0  01/27/2025  18:00            Jocelyn   Tabula Maminta?   \n",
       "3  02/28/2025  17:30              Simon               Tan   \n",
       "5    1/2/2025  10:30              Priti           Burnman   \n",
       "6   1/28/2025  10:00  Natsnet Mulubrhan         Gebrhiwet   \n",
       "7  01/16/2025  21:00      Janita Digins               NaN   \n",
       "\n",
       "                                 Student Email  \n",
       "0  jocelyn.tabula-maminta@calbrightcollege.org  \n",
       "3               simon.tan@calbrightcollege.org  \n",
       "5            priti.burman@calbrightcollege.org  \n",
       "6       natsnet.gebrhiwet@calbrightcollege.org  \n",
       "7          janita.diggins@calbrightcollege.org  "
      ]
     },
     "execution_count": 78,
     "metadata": {},
     "output_type": "execute_result"
    }
   ],
   "source": [
    "# Remove rows where 'Student Email' is null\n",
    "ptf_data_unique_unmatched_corrected_noNull = ptf_data_unique_unmatched_corrected.dropna(subset=['Student Email'])\n",
    "ptf_data_unique_unmatched_corrected_noNull.head()"
   ]
  },
  {
   "cell_type": "code",
   "execution_count": 79,
   "id": "e108d465-6572-4935-9706-bb213b7f4b2d",
   "metadata": {},
   "outputs": [
    {
     "name": "stdout",
     "output_type": "stream",
     "text": [
      "<class 'pandas.core.frame.DataFrame'>\n",
      "Int64Index: 8 entries, 0 to 10\n",
      "Data columns (total 5 columns):\n",
      " #   Column              Non-Null Count  Dtype \n",
      "---  ------              --------------  ----- \n",
      " 0   Date                8 non-null      object\n",
      " 1   Time                8 non-null      object\n",
      " 2   Student First Name  8 non-null      object\n",
      " 3   Student Last Name   7 non-null      object\n",
      " 4   Student Email       8 non-null      object\n",
      "dtypes: object(5)\n",
      "memory usage: 384.0+ bytes\n"
     ]
    }
   ],
   "source": [
    "#Call the info method on the data to see a summary of the data\n",
    "ptf_data_unique_unmatched_corrected_noNull.info() "
   ]
  },
  {
   "cell_type": "code",
   "execution_count": 80,
   "id": "96ad9125-a8e9-43d1-823d-cd8a65a4e0ca",
   "metadata": {},
   "outputs": [
    {
     "data": {
      "text/plain": [
       "(8, 5)"
      ]
     },
     "execution_count": 80,
     "metadata": {},
     "output_type": "execute_result"
    }
   ],
   "source": [
    "# check the size of dataset\n",
    "ptf_data_unique_unmatched_corrected_noNull.shape"
   ]
  },
  {
   "cell_type": "code",
   "execution_count": 81,
   "id": "0a16eb64-eef9-4650-a546-d8e5adbccfd4",
   "metadata": {},
   "outputs": [
    {
     "data": {
      "text/plain": [
       "8"
      ]
     },
     "execution_count": 81,
     "metadata": {},
     "output_type": "execute_result"
    }
   ],
   "source": [
    "# use the `nunique` method to calculate the number of unique values in Student Email\n",
    "ptf_data_unique_unmatched_corrected_noNull['Student Email'].nunique()"
   ]
  },
  {
   "cell_type": "markdown",
   "id": "c58fed6d-24c0-4afd-9ac0-3fd9ce13b773",
   "metadata": {},
   "source": [
    "#### 1.6.3 Combine Matched and Corrected Post Tutor Form Data"
   ]
  },
  {
   "cell_type": "code",
   "execution_count": 83,
   "id": "b2f6f291-1903-4d41-a647-fd568e407d0d",
   "metadata": {},
   "outputs": [
    {
     "data": {
      "text/html": [
       "<div>\n",
       "<style scoped>\n",
       "    .dataframe tbody tr th:only-of-type {\n",
       "        vertical-align: middle;\n",
       "    }\n",
       "\n",
       "    .dataframe tbody tr th {\n",
       "        vertical-align: top;\n",
       "    }\n",
       "\n",
       "    .dataframe thead th {\n",
       "        text-align: right;\n",
       "    }\n",
       "</style>\n",
       "<table border=\"1\" class=\"dataframe\">\n",
       "  <thead>\n",
       "    <tr style=\"text-align: right;\">\n",
       "      <th></th>\n",
       "      <th>Date</th>\n",
       "      <th>Time</th>\n",
       "      <th>Student First Name</th>\n",
       "      <th>Student Last Name</th>\n",
       "      <th>Student Email</th>\n",
       "    </tr>\n",
       "  </thead>\n",
       "  <tbody>\n",
       "    <tr>\n",
       "      <th>0</th>\n",
       "      <td>1/15/2025</td>\n",
       "      <td>18:00</td>\n",
       "      <td>Sufian</td>\n",
       "      <td>Saiqat</td>\n",
       "      <td>sufian.saiqat@calbrightcollege.org</td>\n",
       "    </tr>\n",
       "    <tr>\n",
       "      <th>1</th>\n",
       "      <td>01/17/2025</td>\n",
       "      <td>18:30</td>\n",
       "      <td>Scot</td>\n",
       "      <td>Goode</td>\n",
       "      <td>scot.goode@calbrightcollege.org</td>\n",
       "    </tr>\n",
       "    <tr>\n",
       "      <th>2</th>\n",
       "      <td>01/19/2025</td>\n",
       "      <td>12:00</td>\n",
       "      <td>AnnElyse</td>\n",
       "      <td>Hays</td>\n",
       "      <td>ann.hays@calbrightcollege.org</td>\n",
       "    </tr>\n",
       "    <tr>\n",
       "      <th>3</th>\n",
       "      <td>01/24/2025</td>\n",
       "      <td>17:00</td>\n",
       "      <td>Berenice</td>\n",
       "      <td>Renteria</td>\n",
       "      <td>berenice.renteria@calbrightcollege.org</td>\n",
       "    </tr>\n",
       "    <tr>\n",
       "      <th>4</th>\n",
       "      <td>01/24/2025</td>\n",
       "      <td>18:00</td>\n",
       "      <td>Natsnet</td>\n",
       "      <td>Gebrhiwet</td>\n",
       "      <td>natsnet.gebrhiwet@calbrightcollege.org</td>\n",
       "    </tr>\n",
       "  </tbody>\n",
       "</table>\n",
       "</div>"
      ],
      "text/plain": [
       "         Date   Time Student First Name Student Last Name  \\\n",
       "0   1/15/2025  18:00             Sufian            Saiqat   \n",
       "1  01/17/2025  18:30               Scot             Goode   \n",
       "2  01/19/2025  12:00           AnnElyse              Hays   \n",
       "3  01/24/2025  17:00           Berenice          Renteria   \n",
       "4  01/24/2025  18:00            Natsnet         Gebrhiwet   \n",
       "\n",
       "                            Student Email  \n",
       "0      sufian.saiqat@calbrightcollege.org  \n",
       "1         scot.goode@calbrightcollege.org  \n",
       "2           ann.hays@calbrightcollege.org  \n",
       "3  berenice.renteria@calbrightcollege.org  \n",
       "4  natsnet.gebrhiwet@calbrightcollege.org  "
      ]
     },
     "execution_count": 83,
     "metadata": {},
     "output_type": "execute_result"
    }
   ],
   "source": [
    "# Combine matched and unmached data by stacking rows (same columns)\n",
    "ptf_data_combined = pd.concat([ptf_data_unique_noNull_matched, ptf_data_unique_unmatched_corrected_noNull], ignore_index=True)\n",
    "ptf_data_combined.head()"
   ]
  },
  {
   "cell_type": "code",
   "execution_count": 84,
   "id": "777b3bc3-38b8-4edc-8ffd-9d7b8428cead",
   "metadata": {},
   "outputs": [
    {
     "name": "stdout",
     "output_type": "stream",
     "text": [
      "<class 'pandas.core.frame.DataFrame'>\n",
      "RangeIndex: 143 entries, 0 to 142\n",
      "Data columns (total 5 columns):\n",
      " #   Column              Non-Null Count  Dtype \n",
      "---  ------              --------------  ----- \n",
      " 0   Date                143 non-null    object\n",
      " 1   Time                143 non-null    object\n",
      " 2   Student First Name  143 non-null    object\n",
      " 3   Student Last Name   110 non-null    object\n",
      " 4   Student Email       143 non-null    object\n",
      "dtypes: object(5)\n",
      "memory usage: 5.7+ KB\n"
     ]
    }
   ],
   "source": [
    "#Call the info method on the data to see a summary of the data\n",
    "ptf_data_combined.info() "
   ]
  },
  {
   "cell_type": "code",
   "execution_count": 85,
   "id": "ce722efc-fe2e-44aa-a655-e2cd47ac721d",
   "metadata": {},
   "outputs": [
    {
     "data": {
      "text/plain": [
       "(143, 5)"
      ]
     },
     "execution_count": 85,
     "metadata": {},
     "output_type": "execute_result"
    }
   ],
   "source": [
    "# check the size of dataset\n",
    "ptf_data_combined.shape"
   ]
  },
  {
   "cell_type": "code",
   "execution_count": 86,
   "id": "58dedb2b-a29a-4476-b530-75d64b918575",
   "metadata": {},
   "outputs": [
    {
     "data": {
      "text/plain": [
       "137"
      ]
     },
     "execution_count": 86,
     "metadata": {},
     "output_type": "execute_result"
    }
   ],
   "source": [
    "# use the `nunique` method to calculate the number of unique values in Student Email\n",
    "ptf_data_combined['Student Email'].nunique()"
   ]
  },
  {
   "attachments": {},
   "cell_type": "markdown",
   "id": "e2bc11b9-0e26-4b6e-8b7e-afc9dd3e5043",
   "metadata": {},
   "source": [
    "**Note:** The corrected, unmatched data may contain duplicates when combined with the matched data (e.g., if student email typos were corrected to match gradebook entries)."
   ]
  },
  {
   "cell_type": "markdown",
   "id": "5bdd5a55-936c-4edc-8ce8-700827902b7a",
   "metadata": {},
   "source": [
    "#### 1.6.4 Final Deduplication: Student Email"
   ]
  },
  {
   "cell_type": "code",
   "execution_count": 89,
   "id": "caa5fa5d-0ce8-4ce6-955b-66d021bf4c76",
   "metadata": {},
   "outputs": [
    {
     "data": {
      "text/html": [
       "<div>\n",
       "<style scoped>\n",
       "    .dataframe tbody tr th:only-of-type {\n",
       "        vertical-align: middle;\n",
       "    }\n",
       "\n",
       "    .dataframe tbody tr th {\n",
       "        vertical-align: top;\n",
       "    }\n",
       "\n",
       "    .dataframe thead th {\n",
       "        text-align: right;\n",
       "    }\n",
       "</style>\n",
       "<table border=\"1\" class=\"dataframe\">\n",
       "  <thead>\n",
       "    <tr style=\"text-align: right;\">\n",
       "      <th></th>\n",
       "      <th>Date</th>\n",
       "      <th>Time</th>\n",
       "      <th>Student First Name</th>\n",
       "      <th>Student Last Name</th>\n",
       "      <th>Student Email</th>\n",
       "    </tr>\n",
       "  </thead>\n",
       "  <tbody>\n",
       "    <tr>\n",
       "      <th>0</th>\n",
       "      <td>1/15/2025</td>\n",
       "      <td>18:00</td>\n",
       "      <td>Sufian</td>\n",
       "      <td>Saiqat</td>\n",
       "      <td>sufian.saiqat@calbrightcollege.org</td>\n",
       "    </tr>\n",
       "    <tr>\n",
       "      <th>1</th>\n",
       "      <td>01/17/2025</td>\n",
       "      <td>18:30</td>\n",
       "      <td>Scot</td>\n",
       "      <td>Goode</td>\n",
       "      <td>scot.goode@calbrightcollege.org</td>\n",
       "    </tr>\n",
       "    <tr>\n",
       "      <th>2</th>\n",
       "      <td>01/19/2025</td>\n",
       "      <td>12:00</td>\n",
       "      <td>AnnElyse</td>\n",
       "      <td>Hays</td>\n",
       "      <td>ann.hays@calbrightcollege.org</td>\n",
       "    </tr>\n",
       "    <tr>\n",
       "      <th>3</th>\n",
       "      <td>01/24/2025</td>\n",
       "      <td>17:00</td>\n",
       "      <td>Berenice</td>\n",
       "      <td>Renteria</td>\n",
       "      <td>berenice.renteria@calbrightcollege.org</td>\n",
       "    </tr>\n",
       "    <tr>\n",
       "      <th>4</th>\n",
       "      <td>01/24/2025</td>\n",
       "      <td>18:00</td>\n",
       "      <td>Natsnet</td>\n",
       "      <td>Gebrhiwet</td>\n",
       "      <td>natsnet.gebrhiwet@calbrightcollege.org</td>\n",
       "    </tr>\n",
       "  </tbody>\n",
       "</table>\n",
       "</div>"
      ],
      "text/plain": [
       "         Date   Time Student First Name Student Last Name  \\\n",
       "0   1/15/2025  18:00             Sufian            Saiqat   \n",
       "1  01/17/2025  18:30               Scot             Goode   \n",
       "2  01/19/2025  12:00           AnnElyse              Hays   \n",
       "3  01/24/2025  17:00           Berenice          Renteria   \n",
       "4  01/24/2025  18:00            Natsnet         Gebrhiwet   \n",
       "\n",
       "                            Student Email  \n",
       "0      sufian.saiqat@calbrightcollege.org  \n",
       "1         scot.goode@calbrightcollege.org  \n",
       "2           ann.hays@calbrightcollege.org  \n",
       "3  berenice.renteria@calbrightcollege.org  \n",
       "4  natsnet.gebrhiwet@calbrightcollege.org  "
      ]
     },
     "execution_count": 89,
     "metadata": {},
     "output_type": "execute_result"
    }
   ],
   "source": [
    "# Drop duplicate rows based on the \"student email\" column\n",
    "ptf_data_clean = ptf_data_combined.drop_duplicates(subset='Student Email')\n",
    "ptf_data_clean.head()"
   ]
  },
  {
   "cell_type": "code",
   "execution_count": 90,
   "id": "cd000199-c61a-4df5-8306-320e2c513408",
   "metadata": {},
   "outputs": [
    {
     "data": {
      "text/html": [
       "<div>\n",
       "<style scoped>\n",
       "    .dataframe tbody tr th:only-of-type {\n",
       "        vertical-align: middle;\n",
       "    }\n",
       "\n",
       "    .dataframe tbody tr th {\n",
       "        vertical-align: top;\n",
       "    }\n",
       "\n",
       "    .dataframe thead th {\n",
       "        text-align: right;\n",
       "    }\n",
       "</style>\n",
       "<table border=\"1\" class=\"dataframe\">\n",
       "  <thead>\n",
       "    <tr style=\"text-align: right;\">\n",
       "      <th></th>\n",
       "      <th>Date</th>\n",
       "      <th>Time</th>\n",
       "      <th>Student First Name</th>\n",
       "      <th>Student Last Name</th>\n",
       "      <th>Student Email</th>\n",
       "    </tr>\n",
       "  </thead>\n",
       "  <tbody>\n",
       "    <tr>\n",
       "      <th>0</th>\n",
       "      <td>1/15/2025</td>\n",
       "      <td>18:00</td>\n",
       "      <td>Sufian</td>\n",
       "      <td>Saiqat</td>\n",
       "      <td>sufian.saiqat@calbrightcollege.org</td>\n",
       "    </tr>\n",
       "    <tr>\n",
       "      <th>1</th>\n",
       "      <td>01/17/2025</td>\n",
       "      <td>18:30</td>\n",
       "      <td>Scot</td>\n",
       "      <td>Goode</td>\n",
       "      <td>scot.goode@calbrightcollege.org</td>\n",
       "    </tr>\n",
       "    <tr>\n",
       "      <th>2</th>\n",
       "      <td>01/19/2025</td>\n",
       "      <td>12:00</td>\n",
       "      <td>AnnElyse</td>\n",
       "      <td>Hays</td>\n",
       "      <td>ann.hays@calbrightcollege.org</td>\n",
       "    </tr>\n",
       "    <tr>\n",
       "      <th>3</th>\n",
       "      <td>01/24/2025</td>\n",
       "      <td>17:00</td>\n",
       "      <td>Berenice</td>\n",
       "      <td>Renteria</td>\n",
       "      <td>berenice.renteria@calbrightcollege.org</td>\n",
       "    </tr>\n",
       "    <tr>\n",
       "      <th>4</th>\n",
       "      <td>01/24/2025</td>\n",
       "      <td>18:00</td>\n",
       "      <td>Natsnet</td>\n",
       "      <td>Gebrhiwet</td>\n",
       "      <td>natsnet.gebrhiwet@calbrightcollege.org</td>\n",
       "    </tr>\n",
       "  </tbody>\n",
       "</table>\n",
       "</div>"
      ],
      "text/plain": [
       "         Date   Time Student First Name Student Last Name  \\\n",
       "0   1/15/2025  18:00             Sufian            Saiqat   \n",
       "1  01/17/2025  18:30               Scot             Goode   \n",
       "2  01/19/2025  12:00           AnnElyse              Hays   \n",
       "3  01/24/2025  17:00           Berenice          Renteria   \n",
       "4  01/24/2025  18:00            Natsnet         Gebrhiwet   \n",
       "\n",
       "                            Student Email  \n",
       "0      sufian.saiqat@calbrightcollege.org  \n",
       "1         scot.goode@calbrightcollege.org  \n",
       "2           ann.hays@calbrightcollege.org  \n",
       "3  berenice.renteria@calbrightcollege.org  \n",
       "4  natsnet.gebrhiwet@calbrightcollege.org  "
      ]
     },
     "execution_count": 90,
     "metadata": {},
     "output_type": "execute_result"
    }
   ],
   "source": [
    "# Optionally, reset the index\n",
    "ptf_data_clean = ptf_data_clean.reset_index(drop=True)\n",
    "ptf_data_clean.head()"
   ]
  },
  {
   "cell_type": "code",
   "execution_count": 91,
   "id": "71d05fbe-1eed-48e4-8446-735064c8f91c",
   "metadata": {},
   "outputs": [
    {
     "name": "stdout",
     "output_type": "stream",
     "text": [
      "<class 'pandas.core.frame.DataFrame'>\n",
      "RangeIndex: 137 entries, 0 to 136\n",
      "Data columns (total 5 columns):\n",
      " #   Column              Non-Null Count  Dtype \n",
      "---  ------              --------------  ----- \n",
      " 0   Date                137 non-null    object\n",
      " 1   Time                137 non-null    object\n",
      " 2   Student First Name  137 non-null    object\n",
      " 3   Student Last Name   105 non-null    object\n",
      " 4   Student Email       137 non-null    object\n",
      "dtypes: object(5)\n",
      "memory usage: 5.5+ KB\n"
     ]
    }
   ],
   "source": [
    "#Call the info method on the data to see a summary of the data\n",
    "ptf_data_clean.info() "
   ]
  },
  {
   "cell_type": "code",
   "execution_count": 92,
   "id": "bb430851-2c3c-4612-9223-d53ce6f8487d",
   "metadata": {},
   "outputs": [
    {
     "data": {
      "text/plain": [
       "(137, 5)"
      ]
     },
     "execution_count": 92,
     "metadata": {},
     "output_type": "execute_result"
    }
   ],
   "source": [
    "# check the size of dataset\n",
    "ptf_data_clean.shape"
   ]
  },
  {
   "cell_type": "code",
   "execution_count": 93,
   "id": "fbc310e8-6675-4bdf-a4b8-e62141728529",
   "metadata": {},
   "outputs": [
    {
     "data": {
      "text/plain": [
       "137"
      ]
     },
     "execution_count": 93,
     "metadata": {},
     "output_type": "execute_result"
    }
   ],
   "source": [
    "# use the `nunique` method to calculate the number of unique values in Student Email\n",
    "ptf_data_clean['Student Email'].nunique()"
   ]
  },
  {
   "cell_type": "markdown",
   "id": "f09655b2-2295-4cfa-8b8a-b7d14c850faa",
   "metadata": {},
   "source": [
    "---\n",
    "## 2 Data Export and Summary"
   ]
  },
  {
   "cell_type": "code",
   "execution_count": 95,
   "id": "12c5a58f-a030-4ac0-b677-eb690281be29",
   "metadata": {},
   "outputs": [],
   "source": [
    "# Save to a specific folder\n",
    "ptf_data_clean.to_csv(\"../data_wrangling_ouput/PTF_2025Q1_id_clean.csv\", index=False)"
   ]
  },
  {
   "cell_type": "markdown",
   "id": "d69f6c9b-0e58-4f0b-a01c-43d84e9e98df",
   "metadata": {},
   "source": [
    "### 2.1 Summary\n",
    "- **Total tutoring sessions recorded:** `449`\n",
    "- **Unique students identified:** `148` (before validation)\n",
    "- **Students validated against gradebook:** `137`\n",
    "- **Final dataset:** `137` unique students with valid emails\n",
    "\n",
    "### 2.2 Summary of Outputs:\n",
    "- `PTF_2025Q1_id_clean.csv`: Date, Time, Student First Name, Student Last Name, and Student Email for each unique student who received tutoring.\n",
    "- **Note:** This file is used in Notebook 1b to identify tutored students in the gradebook data."
   ]
  }
 ],
 "metadata": {
  "kernelspec": {
   "display_name": "Python 3 (ipykernel)",
   "language": "python",
   "name": "python3"
  },
  "language_info": {
   "codemirror_mode": {
    "name": "ipython",
    "version": 3
   },
   "file_extension": ".py",
   "mimetype": "text/x-python",
   "name": "python",
   "nbconvert_exporter": "python",
   "pygments_lexer": "ipython3",
   "version": "3.8.20"
  }
 },
 "nbformat": 4,
 "nbformat_minor": 5
}
