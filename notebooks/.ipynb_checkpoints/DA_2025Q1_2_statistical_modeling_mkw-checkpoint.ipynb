{
 "cells": [
  {
   "cell_type": "markdown",
   "id": "5500588e-e725-4db2-9067-133cbf43eaf1",
   "metadata": {},
   "source": [
    "# Notebook 2: Statistical Modeling - Peer Tutoring Effectiveness Analysis\n",
    "## Calbright Data Analysis Program (2025 Q1)\n",
    "\n",
    "## Description\n",
    "This notebook performs statistical modeling to evaluate the effect of peer tutoring on student competency completion in the Calbright Data Analysis Program. \n",
    "- **Input:** Cleaned gradebook and tutoring data from Notebook 1\n",
    "- **Analysis:** Exploratory data analysis, statistical testing, and Zero-Inflated Negative Binomial (ZINB) modeling\n",
    "- **Output:** Statistical evidence of tutoring effectiveness with actionable insights"
   ]
  },
  {
   "cell_type": "markdown",
   "id": "653ed784-7f22-49e7-8bca-98e45596c5bd",
   "metadata": {},
   "source": [
    "---\n",
    "## 1 Exploratory Data Analysis"
   ]
  },
  {
   "cell_type": "markdown",
   "id": "8c3a45c6-4ae9-4695-ba90-398a9e097583",
   "metadata": {},
   "source": [
    "### 1.1 Setup and Imports\n",
    "#### Required Libraries"
   ]
  },
  {
   "cell_type": "code",
   "execution_count": 4,
   "id": "30740bfd-f979-40f1-aec1-d409319cb8f6",
   "metadata": {},
   "outputs": [],
   "source": [
    "#Import necessary modules\n",
    "import pandas as pd\n",
    "import numpy as np\n",
    "import matplotlib.pyplot as plt\n",
    "import seaborn as sns\n",
    "import pickle\n",
    "\n",
    "# for statsmodel\n",
    "import statsmodels.api as sm\n",
    "from statsmodels.distributions.empirical_distribution import ECDF\n",
    "from statsmodels.discrete.count_model import ZeroInflatedNegativeBinomialP\n",
    "from statsmodels.discrete.discrete_model import NegativeBinomial\n",
    "from statsmodels.tools.tools import add_constant\n",
    "\n",
    "# for scipy and sklearn\n",
    "from scipy import stats\n",
    "from scipy.stats import mannwhitneyu"
   ]
  },
  {
   "cell_type": "markdown",
   "id": "71d0d7fd-827a-4778-86d8-5004e93a47b9",
   "metadata": {},
   "source": [
    "### 1.2 Load Cleaned Data\n",
    "#### Loading preprocessed datasets from Notebook 1"
   ]
  },
  {
   "cell_type": "code",
   "execution_count": 6,
   "id": "21add4bc-5fd9-4de8-8114-5d1d79ce6b27",
   "metadata": {},
   "outputs": [],
   "source": [
    "# the Cleaned CSV data file is the \"data_wrangling_ouput\" directory\n",
    "gb_data_500_501_2025Q1 = pd.read_csv(\"../data_wrangling_ouput/BUS500-501_2025Q1.csv\") \n",
    "gb_data_500_501_2025Q1_Tutor = pd.read_csv(\"../data_wrangling_ouput/BUS500-501_2025Q1_Tutor.csv\") \n",
    "gb_data_500_501_2025Q1_noTutor = pd.read_csv(\"../data_wrangling_ouput/BUS500-501_2025Q1_noTutor.csv\")"
   ]
  },
  {
   "cell_type": "code",
   "execution_count": 7,
   "id": "0e2afd0a-5f61-4f04-b9dc-4c2d1364b0fd",
   "metadata": {},
   "outputs": [
    {
     "data": {
      "text/plain": [
       "((2558, 3), (137, 3), (2421, 3))"
      ]
     },
     "execution_count": 7,
     "metadata": {},
     "output_type": "execute_result"
    }
   ],
   "source": [
    "# check the size of dataset\n",
    "gb_data_500_501_2025Q1.shape, gb_data_500_501_2025Q1_Tutor.shape, gb_data_500_501_2025Q1_noTutor.shape"
   ]
  },
  {
   "cell_type": "code",
   "execution_count": 8,
   "id": "03460b71-85db-4c15-b27a-7023a3b45668",
   "metadata": {},
   "outputs": [
    {
     "name": "stdout",
     "output_type": "stream",
     "text": [
      "<class 'pandas.core.frame.DataFrame'>\n",
      "RangeIndex: 2558 entries, 0 to 2557\n",
      "Data columns (total 3 columns):\n",
      " #   Column                     Non-Null Count  Dtype \n",
      "---  ------                     --------------  ----- \n",
      " 0   Learner Identifier         2558 non-null   object\n",
      " 1   Completion Count Progress  2558 non-null   int64 \n",
      " 2   % Completion Progress      2558 non-null   int64 \n",
      "dtypes: int64(2), object(1)\n",
      "memory usage: 60.1+ KB\n",
      "<class 'pandas.core.frame.DataFrame'>\n",
      "RangeIndex: 137 entries, 0 to 136\n",
      "Data columns (total 3 columns):\n",
      " #   Column                     Non-Null Count  Dtype \n",
      "---  ------                     --------------  ----- \n",
      " 0   Learner Identifier         137 non-null    object\n",
      " 1   Completion Count Progress  137 non-null    int64 \n",
      " 2   % Completion Progress      137 non-null    int64 \n",
      "dtypes: int64(2), object(1)\n",
      "memory usage: 3.3+ KB\n",
      "<class 'pandas.core.frame.DataFrame'>\n",
      "RangeIndex: 2421 entries, 0 to 2420\n",
      "Data columns (total 3 columns):\n",
      " #   Column                     Non-Null Count  Dtype \n",
      "---  ------                     --------------  ----- \n",
      " 0   Learner Identifier         2421 non-null   object\n",
      " 1   Completion Count Progress  2421 non-null   int64 \n",
      " 2   % Completion Progress      2421 non-null   int64 \n",
      "dtypes: int64(2), object(1)\n",
      "memory usage: 56.9+ KB\n"
     ]
    }
   ],
   "source": [
    "#Call the info method on the data to see a summary of the data\n",
    "gb_data_500_501_2025Q1.info() \n",
    "gb_data_500_501_2025Q1_Tutor.info()\n",
    "gb_data_500_501_2025Q1_noTutor.info()"
   ]
  },
  {
   "cell_type": "code",
   "execution_count": 9,
   "id": "d98313c5-d7d5-4df1-8e38-cbae1e39d88a",
   "metadata": {},
   "outputs": [
    {
     "data": {
      "text/html": [
       "<div>\n",
       "<style scoped>\n",
       "    .dataframe tbody tr th:only-of-type {\n",
       "        vertical-align: middle;\n",
       "    }\n",
       "\n",
       "    .dataframe tbody tr th {\n",
       "        vertical-align: top;\n",
       "    }\n",
       "\n",
       "    .dataframe thead th {\n",
       "        text-align: right;\n",
       "    }\n",
       "</style>\n",
       "<table border=\"1\" class=\"dataframe\">\n",
       "  <thead>\n",
       "    <tr style=\"text-align: right;\">\n",
       "      <th></th>\n",
       "      <th>Learner Identifier</th>\n",
       "      <th>Completion Count Progress</th>\n",
       "      <th>% Completion Progress</th>\n",
       "    </tr>\n",
       "  </thead>\n",
       "  <tbody>\n",
       "    <tr>\n",
       "      <th>0</th>\n",
       "      <td>aaliyah.lee@calbrightcollege.org</td>\n",
       "      <td>6</td>\n",
       "      <td>50</td>\n",
       "    </tr>\n",
       "    <tr>\n",
       "      <th>1</th>\n",
       "      <td>aamir.ghani86@calbrightcollege.org</td>\n",
       "      <td>0</td>\n",
       "      <td>0</td>\n",
       "    </tr>\n",
       "    <tr>\n",
       "      <th>2</th>\n",
       "      <td>aariya.shrimanker@calbrightcollege.org</td>\n",
       "      <td>2</td>\n",
       "      <td>17</td>\n",
       "    </tr>\n",
       "    <tr>\n",
       "      <th>3</th>\n",
       "      <td>aaron.dangc@calbrightcollege.org</td>\n",
       "      <td>0</td>\n",
       "      <td>0</td>\n",
       "    </tr>\n",
       "    <tr>\n",
       "      <th>4</th>\n",
       "      <td>aaron.gary@calbrightcollege.org</td>\n",
       "      <td>1</td>\n",
       "      <td>8</td>\n",
       "    </tr>\n",
       "  </tbody>\n",
       "</table>\n",
       "</div>"
      ],
      "text/plain": [
       "                       Learner Identifier  Completion Count Progress  \\\n",
       "0        aaliyah.lee@calbrightcollege.org                          6   \n",
       "1      aamir.ghani86@calbrightcollege.org                          0   \n",
       "2  aariya.shrimanker@calbrightcollege.org                          2   \n",
       "3        aaron.dangc@calbrightcollege.org                          0   \n",
       "4         aaron.gary@calbrightcollege.org                          1   \n",
       "\n",
       "   % Completion Progress  \n",
       "0                     50  \n",
       "1                      0  \n",
       "2                     17  \n",
       "3                      0  \n",
       "4                      8  "
      ]
     },
     "execution_count": 9,
     "metadata": {},
     "output_type": "execute_result"
    }
   ],
   "source": [
    "#Call the head method on the data to print the first several rows of the data\n",
    "gb_data_500_501_2025Q1.head()"
   ]
  },
  {
   "cell_type": "code",
   "execution_count": 10,
   "id": "977bb011-86a6-4c62-b9af-3bfd98883cc1",
   "metadata": {},
   "outputs": [
    {
     "data": {
      "text/html": [
       "<div>\n",
       "<style scoped>\n",
       "    .dataframe tbody tr th:only-of-type {\n",
       "        vertical-align: middle;\n",
       "    }\n",
       "\n",
       "    .dataframe tbody tr th {\n",
       "        vertical-align: top;\n",
       "    }\n",
       "\n",
       "    .dataframe thead th {\n",
       "        text-align: right;\n",
       "    }\n",
       "</style>\n",
       "<table border=\"1\" class=\"dataframe\">\n",
       "  <thead>\n",
       "    <tr style=\"text-align: right;\">\n",
       "      <th></th>\n",
       "      <th>Learner Identifier</th>\n",
       "      <th>Completion Count Progress</th>\n",
       "      <th>% Completion Progress</th>\n",
       "    </tr>\n",
       "  </thead>\n",
       "  <tbody>\n",
       "    <tr>\n",
       "      <th>0</th>\n",
       "      <td>abigail.ramirez@calbrightcollege.org</td>\n",
       "      <td>0</td>\n",
       "      <td>0</td>\n",
       "    </tr>\n",
       "    <tr>\n",
       "      <th>1</th>\n",
       "      <td>abirami.rajeshshanmugam@calbrightcollege.org</td>\n",
       "      <td>2</td>\n",
       "      <td>17</td>\n",
       "    </tr>\n",
       "    <tr>\n",
       "      <th>2</th>\n",
       "      <td>adinah.caro-greene@calbrightcollege.org</td>\n",
       "      <td>1</td>\n",
       "      <td>8</td>\n",
       "    </tr>\n",
       "    <tr>\n",
       "      <th>3</th>\n",
       "      <td>adrian.borelli@calbrightcollege.org</td>\n",
       "      <td>0</td>\n",
       "      <td>0</td>\n",
       "    </tr>\n",
       "    <tr>\n",
       "      <th>4</th>\n",
       "      <td>ahmad.sapy@calbrightcollege.org</td>\n",
       "      <td>0</td>\n",
       "      <td>0</td>\n",
       "    </tr>\n",
       "  </tbody>\n",
       "</table>\n",
       "</div>"
      ],
      "text/plain": [
       "                             Learner Identifier  Completion Count Progress  \\\n",
       "0          abigail.ramirez@calbrightcollege.org                          0   \n",
       "1  abirami.rajeshshanmugam@calbrightcollege.org                          2   \n",
       "2       adinah.caro-greene@calbrightcollege.org                          1   \n",
       "3           adrian.borelli@calbrightcollege.org                          0   \n",
       "4               ahmad.sapy@calbrightcollege.org                          0   \n",
       "\n",
       "   % Completion Progress  \n",
       "0                      0  \n",
       "1                     17  \n",
       "2                      8  \n",
       "3                      0  \n",
       "4                      0  "
      ]
     },
     "execution_count": 10,
     "metadata": {},
     "output_type": "execute_result"
    }
   ],
   "source": [
    "#Call the head method on the data to print the first several rows of the data\n",
    "gb_data_500_501_2025Q1_Tutor.head()"
   ]
  },
  {
   "cell_type": "code",
   "execution_count": 11,
   "id": "a1635ea0-e247-465a-984e-88bc04c6fb0d",
   "metadata": {},
   "outputs": [
    {
     "data": {
      "text/html": [
       "<div>\n",
       "<style scoped>\n",
       "    .dataframe tbody tr th:only-of-type {\n",
       "        vertical-align: middle;\n",
       "    }\n",
       "\n",
       "    .dataframe tbody tr th {\n",
       "        vertical-align: top;\n",
       "    }\n",
       "\n",
       "    .dataframe thead th {\n",
       "        text-align: right;\n",
       "    }\n",
       "</style>\n",
       "<table border=\"1\" class=\"dataframe\">\n",
       "  <thead>\n",
       "    <tr style=\"text-align: right;\">\n",
       "      <th></th>\n",
       "      <th>Learner Identifier</th>\n",
       "      <th>Completion Count Progress</th>\n",
       "      <th>% Completion Progress</th>\n",
       "    </tr>\n",
       "  </thead>\n",
       "  <tbody>\n",
       "    <tr>\n",
       "      <th>0</th>\n",
       "      <td>aaliyah.lee@calbrightcollege.org</td>\n",
       "      <td>6</td>\n",
       "      <td>50</td>\n",
       "    </tr>\n",
       "    <tr>\n",
       "      <th>1</th>\n",
       "      <td>aamir.ghani86@calbrightcollege.org</td>\n",
       "      <td>0</td>\n",
       "      <td>0</td>\n",
       "    </tr>\n",
       "    <tr>\n",
       "      <th>2</th>\n",
       "      <td>aariya.shrimanker@calbrightcollege.org</td>\n",
       "      <td>2</td>\n",
       "      <td>17</td>\n",
       "    </tr>\n",
       "    <tr>\n",
       "      <th>3</th>\n",
       "      <td>aaron.dangc@calbrightcollege.org</td>\n",
       "      <td>0</td>\n",
       "      <td>0</td>\n",
       "    </tr>\n",
       "    <tr>\n",
       "      <th>4</th>\n",
       "      <td>aaron.gary@calbrightcollege.org</td>\n",
       "      <td>1</td>\n",
       "      <td>8</td>\n",
       "    </tr>\n",
       "  </tbody>\n",
       "</table>\n",
       "</div>"
      ],
      "text/plain": [
       "                       Learner Identifier  Completion Count Progress  \\\n",
       "0        aaliyah.lee@calbrightcollege.org                          6   \n",
       "1      aamir.ghani86@calbrightcollege.org                          0   \n",
       "2  aariya.shrimanker@calbrightcollege.org                          2   \n",
       "3        aaron.dangc@calbrightcollege.org                          0   \n",
       "4         aaron.gary@calbrightcollege.org                          1   \n",
       "\n",
       "   % Completion Progress  \n",
       "0                     50  \n",
       "1                      0  \n",
       "2                     17  \n",
       "3                      0  \n",
       "4                      8  "
      ]
     },
     "execution_count": 11,
     "metadata": {},
     "output_type": "execute_result"
    }
   ],
   "source": [
    "#Call the head method on the data to print the first several rows of the data\n",
    "gb_data_500_501_2025Q1_noTutor.head()"
   ]
  },
  {
   "cell_type": "markdown",
   "id": "fddd15d1-7346-4286-bc80-f141ef695bb0",
   "metadata": {},
   "source": [
    "### 1.3 Exploratory Data Analysis"
   ]
  },
  {
   "cell_type": "markdown",
   "id": "7ccdcdad-82f1-4502-a342-24a059bccd02",
   "metadata": {},
   "source": [
    "#### 1.3.1 Descriptive Statistics"
   ]
  },
  {
   "cell_type": "code",
   "execution_count": 14,
   "id": "67672eff-0b55-4c6a-a398-364465b57700",
   "metadata": {},
   "outputs": [
    {
     "data": {
      "text/html": [
       "<div>\n",
       "<style scoped>\n",
       "    .dataframe tbody tr th:only-of-type {\n",
       "        vertical-align: middle;\n",
       "    }\n",
       "\n",
       "    .dataframe tbody tr th {\n",
       "        vertical-align: top;\n",
       "    }\n",
       "\n",
       "    .dataframe thead th {\n",
       "        text-align: right;\n",
       "    }\n",
       "</style>\n",
       "<table border=\"1\" class=\"dataframe\">\n",
       "  <thead>\n",
       "    <tr style=\"text-align: right;\">\n",
       "      <th></th>\n",
       "      <th>Completion Count Progress</th>\n",
       "      <th>% Completion Progress</th>\n",
       "    </tr>\n",
       "  </thead>\n",
       "  <tbody>\n",
       "    <tr>\n",
       "      <th>count</th>\n",
       "      <td>2558.000000</td>\n",
       "      <td>2558.000000</td>\n",
       "    </tr>\n",
       "    <tr>\n",
       "      <th>mean</th>\n",
       "      <td>0.612197</td>\n",
       "      <td>5.080532</td>\n",
       "    </tr>\n",
       "    <tr>\n",
       "      <th>std</th>\n",
       "      <td>1.543440</td>\n",
       "      <td>12.860057</td>\n",
       "    </tr>\n",
       "    <tr>\n",
       "      <th>min</th>\n",
       "      <td>0.000000</td>\n",
       "      <td>0.000000</td>\n",
       "    </tr>\n",
       "    <tr>\n",
       "      <th>25%</th>\n",
       "      <td>0.000000</td>\n",
       "      <td>0.000000</td>\n",
       "    </tr>\n",
       "    <tr>\n",
       "      <th>50%</th>\n",
       "      <td>0.000000</td>\n",
       "      <td>0.000000</td>\n",
       "    </tr>\n",
       "    <tr>\n",
       "      <th>75%</th>\n",
       "      <td>1.000000</td>\n",
       "      <td>8.000000</td>\n",
       "    </tr>\n",
       "    <tr>\n",
       "      <th>max</th>\n",
       "      <td>12.000000</td>\n",
       "      <td>100.000000</td>\n",
       "    </tr>\n",
       "  </tbody>\n",
       "</table>\n",
       "</div>"
      ],
      "text/plain": [
       "       Completion Count Progress  % Completion Progress\n",
       "count                2558.000000            2558.000000\n",
       "mean                    0.612197               5.080532\n",
       "std                     1.543440              12.860057\n",
       "min                     0.000000               0.000000\n",
       "25%                     0.000000               0.000000\n",
       "50%                     0.000000               0.000000\n",
       "75%                     1.000000               8.000000\n",
       "max                    12.000000             100.000000"
      ]
     },
     "execution_count": 14,
     "metadata": {},
     "output_type": "execute_result"
    }
   ],
   "source": [
    "# Call the describe method to output descriptive statistics of the data\n",
    "gb_data_500_501_2025Q1.describe()"
   ]
  },
  {
   "cell_type": "code",
   "execution_count": 15,
   "id": "001eb6e2-1a6f-4f85-a434-3ca1aa72b900",
   "metadata": {},
   "outputs": [
    {
     "data": {
      "text/html": [
       "<div>\n",
       "<style scoped>\n",
       "    .dataframe tbody tr th:only-of-type {\n",
       "        vertical-align: middle;\n",
       "    }\n",
       "\n",
       "    .dataframe tbody tr th {\n",
       "        vertical-align: top;\n",
       "    }\n",
       "\n",
       "    .dataframe thead th {\n",
       "        text-align: right;\n",
       "    }\n",
       "</style>\n",
       "<table border=\"1\" class=\"dataframe\">\n",
       "  <thead>\n",
       "    <tr style=\"text-align: right;\">\n",
       "      <th></th>\n",
       "      <th>Completion Count Progress</th>\n",
       "      <th>% Completion Progress</th>\n",
       "    </tr>\n",
       "  </thead>\n",
       "  <tbody>\n",
       "    <tr>\n",
       "      <th>count</th>\n",
       "      <td>137.000000</td>\n",
       "      <td>137.000000</td>\n",
       "    </tr>\n",
       "    <tr>\n",
       "      <th>mean</th>\n",
       "      <td>2.021898</td>\n",
       "      <td>16.795620</td>\n",
       "    </tr>\n",
       "    <tr>\n",
       "      <th>std</th>\n",
       "      <td>2.441875</td>\n",
       "      <td>20.356434</td>\n",
       "    </tr>\n",
       "    <tr>\n",
       "      <th>min</th>\n",
       "      <td>0.000000</td>\n",
       "      <td>0.000000</td>\n",
       "    </tr>\n",
       "    <tr>\n",
       "      <th>25%</th>\n",
       "      <td>0.000000</td>\n",
       "      <td>0.000000</td>\n",
       "    </tr>\n",
       "    <tr>\n",
       "      <th>50%</th>\n",
       "      <td>1.000000</td>\n",
       "      <td>8.000000</td>\n",
       "    </tr>\n",
       "    <tr>\n",
       "      <th>75%</th>\n",
       "      <td>3.000000</td>\n",
       "      <td>25.000000</td>\n",
       "    </tr>\n",
       "    <tr>\n",
       "      <th>max</th>\n",
       "      <td>12.000000</td>\n",
       "      <td>100.000000</td>\n",
       "    </tr>\n",
       "  </tbody>\n",
       "</table>\n",
       "</div>"
      ],
      "text/plain": [
       "       Completion Count Progress  % Completion Progress\n",
       "count                 137.000000             137.000000\n",
       "mean                    2.021898              16.795620\n",
       "std                     2.441875              20.356434\n",
       "min                     0.000000               0.000000\n",
       "25%                     0.000000               0.000000\n",
       "50%                     1.000000               8.000000\n",
       "75%                     3.000000              25.000000\n",
       "max                    12.000000             100.000000"
      ]
     },
     "execution_count": 15,
     "metadata": {},
     "output_type": "execute_result"
    }
   ],
   "source": [
    "# Call the describe method to output descriptive statistics of the data\n",
    "gb_data_500_501_2025Q1_Tutor.describe()"
   ]
  },
  {
   "cell_type": "code",
   "execution_count": 16,
   "id": "204a4b49-8696-4d37-a4fd-c821442b29ce",
   "metadata": {},
   "outputs": [
    {
     "data": {
      "text/html": [
       "<div>\n",
       "<style scoped>\n",
       "    .dataframe tbody tr th:only-of-type {\n",
       "        vertical-align: middle;\n",
       "    }\n",
       "\n",
       "    .dataframe tbody tr th {\n",
       "        vertical-align: top;\n",
       "    }\n",
       "\n",
       "    .dataframe thead th {\n",
       "        text-align: right;\n",
       "    }\n",
       "</style>\n",
       "<table border=\"1\" class=\"dataframe\">\n",
       "  <thead>\n",
       "    <tr style=\"text-align: right;\">\n",
       "      <th></th>\n",
       "      <th>Completion Count Progress</th>\n",
       "      <th>% Completion Progress</th>\n",
       "    </tr>\n",
       "  </thead>\n",
       "  <tbody>\n",
       "    <tr>\n",
       "      <th>count</th>\n",
       "      <td>2421.000000</td>\n",
       "      <td>2421.000000</td>\n",
       "    </tr>\n",
       "    <tr>\n",
       "      <th>mean</th>\n",
       "      <td>0.532425</td>\n",
       "      <td>4.417596</td>\n",
       "    </tr>\n",
       "    <tr>\n",
       "      <th>std</th>\n",
       "      <td>1.436350</td>\n",
       "      <td>11.968568</td>\n",
       "    </tr>\n",
       "    <tr>\n",
       "      <th>min</th>\n",
       "      <td>0.000000</td>\n",
       "      <td>0.000000</td>\n",
       "    </tr>\n",
       "    <tr>\n",
       "      <th>25%</th>\n",
       "      <td>0.000000</td>\n",
       "      <td>0.000000</td>\n",
       "    </tr>\n",
       "    <tr>\n",
       "      <th>50%</th>\n",
       "      <td>0.000000</td>\n",
       "      <td>0.000000</td>\n",
       "    </tr>\n",
       "    <tr>\n",
       "      <th>75%</th>\n",
       "      <td>0.000000</td>\n",
       "      <td>0.000000</td>\n",
       "    </tr>\n",
       "    <tr>\n",
       "      <th>max</th>\n",
       "      <td>12.000000</td>\n",
       "      <td>100.000000</td>\n",
       "    </tr>\n",
       "  </tbody>\n",
       "</table>\n",
       "</div>"
      ],
      "text/plain": [
       "       Completion Count Progress  % Completion Progress\n",
       "count                2421.000000            2421.000000\n",
       "mean                    0.532425               4.417596\n",
       "std                     1.436350              11.968568\n",
       "min                     0.000000               0.000000\n",
       "25%                     0.000000               0.000000\n",
       "50%                     0.000000               0.000000\n",
       "75%                     0.000000               0.000000\n",
       "max                    12.000000             100.000000"
      ]
     },
     "execution_count": 16,
     "metadata": {},
     "output_type": "execute_result"
    }
   ],
   "source": [
    "# Call the describe method to output descriptive statistics of the data\n",
    "gb_data_500_501_2025Q1_noTutor.describe()"
   ]
  },
  {
   "cell_type": "code",
   "execution_count": 17,
   "id": "dc4e0bb0-ef57-4baa-99e3-a7e755a1d8d2",
   "metadata": {},
   "outputs": [
    {
     "name": "stdout",
     "output_type": "stream",
     "text": [
      "       Completion Count Progress  % Completion Progress\n",
      "count                2558.000000            2558.000000\n",
      "mean                    0.612197               5.080532\n",
      "std                     1.543440              12.860057\n",
      "min                     0.000000               0.000000\n",
      "25%                     0.000000               0.000000\n",
      "50%                     0.000000               0.000000\n",
      "75%                     1.000000               8.000000\n",
      "max                    12.000000             100.000000\n",
      "       Completion Count Progress  % Completion Progress\n",
      "count                 137.000000             137.000000\n",
      "mean                    2.021898              16.795620\n",
      "std                     2.441875              20.356434\n",
      "min                     0.000000               0.000000\n",
      "25%                     0.000000               0.000000\n",
      "50%                     1.000000               8.000000\n",
      "75%                     3.000000              25.000000\n",
      "max                    12.000000             100.000000\n",
      "       Completion Count Progress  % Completion Progress\n",
      "count                2421.000000            2421.000000\n",
      "mean                    0.532425               4.417596\n",
      "std                     1.436350              11.968568\n",
      "min                     0.000000               0.000000\n",
      "25%                     0.000000               0.000000\n",
      "50%                     0.000000               0.000000\n",
      "75%                     0.000000               0.000000\n",
      "max                    12.000000             100.000000\n"
     ]
    }
   ],
   "source": [
    "print(gb_data_500_501_2025Q1.describe())\n",
    "print(gb_data_500_501_2025Q1_Tutor.describe())\n",
    "print(gb_data_500_501_2025Q1_noTutor.describe())"
   ]
  },
  {
   "cell_type": "markdown",
   "id": "f3349e79-5d65-4c35-9d18-714f533ad39c",
   "metadata": {},
   "source": [
    "#### Key Observations:\n",
    "- **Tutored students:** Mean completion = 2.02 competencies (median = 1)\n",
    "- **Untutored students:** Mean completion = 0.53 competencies (median = 0)\n",
    "- **Initial finding:** Tutored students show ~4x higher mean completion rate"
   ]
  },
  {
   "cell_type": "markdown",
   "id": "5855d7b0-a20a-4a48-857f-63fdaa16c7e1",
   "metadata": {},
   "source": [
    "---\n",
    "## 2 Statistical Modeling and Inference"
   ]
  },
  {
   "cell_type": "markdown",
   "id": "a9b5844e-eaad-4634-8c33-bf1c0b6f9d98",
   "metadata": {},
   "source": [
    "### 2.1 Wilcoxon Rank-Sum Test (Mann–Whitney U Test)"
   ]
  },
  {
   "cell_type": "markdown",
   "id": "19b43f5e-ea96-48a1-a687-1a2f5360f6a9",
   "metadata": {},
   "source": [
    "#### Statistical significance testing for non-parametric data\n",
    "Given the highly skewed distribution and excess zeros, we use the Wilcoxon Rank-Sum test."
   ]
  },
  {
   "cell_type": "code",
   "execution_count": 22,
   "id": "58ac18b2-b59a-4424-963e-865e87792ef0",
   "metadata": {},
   "outputs": [
    {
     "name": "stdout",
     "output_type": "stream",
     "text": [
      "Wilcoxon Rank-Sum (Mann–Whitney U) Test\n",
      "Statistic: 244099.5\n",
      "P-value: 8.190711159532278e-34\n"
     ]
    }
   ],
   "source": [
    "# Replace with actual column access\n",
    "tutored = gb_data_500_501_2025Q1_Tutor['Completion Count Progress']\n",
    "untutored = gb_data_500_501_2025Q1_noTutor['Completion Count Progress']\n",
    "\n",
    "# Perform the two-sided Mann–Whitney U Test (default is one-sided)\n",
    "stat, p_value = mannwhitneyu(tutored, untutored, alternative='two-sided')\n",
    "\n",
    "print(f\"Wilcoxon Rank-Sum (Mann–Whitney U) Test\")\n",
    "print(f\"Statistic: {stat}\")\n",
    "print(f\"P-value: {p_value}\")"
   ]
  },
  {
   "cell_type": "markdown",
   "id": "3af222f3-7511-441b-a572-95ac31a02a62",
   "metadata": {},
   "source": [
    "#### Interpretation:\n",
    "- The extremely small p-value (< 0.00001) indicates a statistically significant difference between the tutored and untutored groups."
   ]
  },
  {
   "cell_type": "markdown",
   "id": "e7b50b13-c91b-4c17-8eca-ed7f5ba3277d",
   "metadata": {},
   "source": [
    "### 2.2 Data Distribution Analysis"
   ]
  },
  {
   "cell_type": "markdown",
   "id": "b80cb928-7641-4dac-a249-0036d778ebd1",
   "metadata": {},
   "source": [
    "#### 2.2.1 Empirical Cumulative Distribution Function (ECDF) Analysis"
   ]
  },
  {
   "cell_type": "code",
   "execution_count": 26,
   "id": "80ddf081-886d-4f6e-933f-b471bc44dc8a",
   "metadata": {},
   "outputs": [
    {
     "data": {
      "image/png": "[encoded data removed]",
      "text/plain": [
       "<Figure size 800x500 with 1 Axes>"
      ]
     },
     "metadata": {},
     "output_type": "display_data"
    }
   ],
   "source": [
    "# from statsmodels.distributions.empirical_distribution import ECDF\n",
    "\n",
    "# Prepare the data\n",
    "tutored = gb_data_500_501_2025Q1_Tutor['Completion Count Progress']\n",
    "untutored = gb_data_500_501_2025Q1_noTutor['Completion Count Progress']\n",
    "\n",
    "# Compute ECDFs\n",
    "ecdf_tutored = ECDF(tutored)\n",
    "ecdf_untutored = ECDF(untutored)\n",
    "\n",
    "# Create a common set of x values for comparison\n",
    "x_vals = np.linspace(\n",
    "    min(tutored.min(), untutored.min()),\n",
    "    max(tutored.max(), untutored.max()),\n",
    "    1000\n",
    ")\n",
    "\n",
    "# Compute the ECDF values at those x values\n",
    "tutored_vals = ecdf_tutored(x_vals)\n",
    "untutored_vals = ecdf_untutored(x_vals)\n",
    "\n",
    "# Compute vertical differences\n",
    "diffs = np.abs(tutored_vals - untutored_vals)\n",
    "max_diff_idx = np.argmax(diffs)\n",
    "max_diff_x = x_vals[max_diff_idx]\n",
    "max_diff_y1 = tutored_vals[max_diff_idx]\n",
    "max_diff_y2 = untutored_vals[max_diff_idx]\n",
    "\n",
    "# Plot ECDFs\n",
    "plt.figure(figsize=(8, 5))\n",
    "sns.ecdfplot(data=tutored, label='Tutored', color='blue')\n",
    "sns.ecdfplot(data=untutored, label='Untutored', color='orange')\n",
    "\n",
    "# Annotate maximum gap\n",
    "plt.plot([max_diff_x, max_diff_x], [max_diff_y1, max_diff_y2], 'k--', lw=2)\n",
    "plt.text(\n",
    "    max_diff_x, (max_diff_y1 + max_diff_y2) / 2,\n",
    "    f'Max gap = {diffs[max_diff_idx]:.2f}',\n",
    "    ha='left', va='center', fontsize=10, color='black', backgroundcolor='white'\n",
    ")\n",
    "\n",
    "# Formatting\n",
    "plt.xlabel('Completion Count Progress')\n",
    "plt.ylabel('ECDF')\n",
    "plt.title('Empirical Cumulative Distribution of Student Progress by Tutoring Status')\n",
    "plt.legend()\n",
    "plt.grid(True)\n",
    "plt.tight_layout()\n",
    "plt.savefig('../data_modeling_output/ecdf_2025Q1.png', dpi=300, bbox_inches='tight')\n",
    "plt.show()"
   ]
  },
  {
   "cell_type": "code",
   "execution_count": 27,
   "id": "6285183b-af60-4355-92d9-92fea7967c43",
   "metadata": {},
   "outputs": [
    {
     "name": "stdout",
     "output_type": "stream",
     "text": [
      "Max ECDF gap: 0.4365 at x = 0.00\n",
      "Tutored ECDF at x: 0.3285\n",
      "Untutored ECDF at x: 0.7650\n"
     ]
    }
   ],
   "source": [
    "# report the x-value and ECDF percentages at which this maximum difference occurs\n",
    "print(f\"Max ECDF gap: {diffs[max_diff_idx]:.4f} at x = {max_diff_x:.2f}\")\n",
    "print(f\"Tutored ECDF at x: {max_diff_y1:.4f}\")\n",
    "print(f\"Untutored ECDF at x: {max_diff_y2:.4f}\")"
   ]
  },
  {
   "cell_type": "markdown",
   "id": "c8fd22a0-8ee2-4cb5-abd7-988c8437a84b",
   "metadata": {},
   "source": [
    "#### Interpretation:\n",
    "- Maximum gap of 43.65% occurs at zero completions\n",
    "- 76.5% of untutored vs 32.9% of tutored students had zero completions\n",
    "- This substantial difference indicates tutoring's effectiveness in preventing complete disengagement"
   ]
  },
  {
   "cell_type": "markdown",
   "id": "db053646-0707-40bc-a026-cab5a503176e",
   "metadata": {},
   "source": [
    "#### 2.2.2 Box Plot and Violin Plot"
   ]
  },
  {
   "cell_type": "code",
   "execution_count": 30,
   "id": "41c0e8da-02bc-46c1-b1fe-02b8eb098781",
   "metadata": {},
   "outputs": [],
   "source": [
    "# Combine the data into a single DataFrame\n",
    "combined_df = pd.concat([\n",
    "    gb_data_500_501_2025Q1_Tutor[['Completion Count Progress']].assign(Group='Tutored'),\n",
    "    gb_data_500_501_2025Q1_noTutor[['Completion Count Progress']].assign(Group='Untutored')\n",
    "])"
   ]
  },
  {
   "cell_type": "code",
   "execution_count": 31,
   "id": "c5d52a8c-528b-4aab-aee6-2e84f40250d2",
   "metadata": {},
   "outputs": [
    {
     "data": {
      "image/png": "[encoded data removed]",
      "text/plain": [
       "<Figure size 600x500 with 1 Axes>"
      ]
     },
     "metadata": {},
     "output_type": "display_data"
    }
   ],
   "source": [
    "# Define color palette\n",
    "palette = {\"Tutored\": \"skyblue\", \"Untutored\": \"salmon\"}\n",
    "\n",
    "# Plot boxplot (assign hue to match palette mapping)\n",
    "plt.figure(figsize=(6, 5))\n",
    "sns.boxplot(\n",
    "    x='Group',\n",
    "    y='Completion Count Progress',\n",
    "    data=combined_df,\n",
    "    hue='Group',  # explicitly use hue to apply palette\n",
    "    dodge=False,  # ensures no duplication of boxes\n",
    "    palette=palette,\n",
    "    boxprops=dict(edgecolor=\"black\"),\n",
    "    medianprops=dict(color=\"black\", linewidth=2)  # neutral dark line\n",
    ")\n",
    "\n",
    "plt.title('Median and Quartile Distribution of Student Progress by Tutoring Status')\n",
    "plt.grid(True, axis='y', alpha=0.6)\n",
    "plt.tight_layout()\n",
    "plt.savefig('../data_modeling_output/boxplot_2025Q1.png', dpi=300, bbox_inches='tight')\n",
    "plt.show()"
   ]
  },
  {
   "cell_type": "code",
   "execution_count": 32,
   "id": "45e1eec1-3007-42c9-9a85-ee3c17511249",
   "metadata": {},
   "outputs": [
    {
     "data": {
      "image/png": "[encoded data removed]",
      "text/plain": [
       "<Figure size 600x500 with 1 Axes>"
      ]
     },
     "metadata": {},
     "output_type": "display_data"
    }
   ],
   "source": [
    "# Define color palette\n",
    "palette = {\"Tutored\": \"skyblue\", \"Untutored\": \"salmon\"}\n",
    "\n",
    "# Plot violin + stripplot\n",
    "plt.figure(figsize=(6, 5))\n",
    "\n",
    "sns.violinplot(\n",
    "    x='Group',\n",
    "    y='Completion Count Progress',\n",
    "    data=combined_df,\n",
    "    hue='Group',       # explicitly use hue for palette\n",
    "    dodge=False,       # avoid duplicated violins\n",
    "    palette=palette,\n",
    "    inner='box',\n",
    "    cut=0\n",
    ")\n",
    "\n",
    "sns.stripplot(\n",
    "    x='Group',\n",
    "    y='Completion Count Progress',\n",
    "    data=combined_df,\n",
    "    hue='Group',       # explicitly use hue for palette\n",
    "    dodge=False,       # overlay points on same violin\n",
    "    palette={\"Tutored\": \"black\", \"Untutored\": \"black\"},\n",
    "    size=2,\n",
    "    jitter=True,\n",
    "    alpha=0.4,\n",
    "    legend=False       # avoid duplicate legends\n",
    ")\n",
    "\n",
    "plt.title('Median and Quartile Distribution of Student Progress by Tutoring Status')\n",
    "plt.grid(True, axis='y', alpha=0.6)\n",
    "plt.tight_layout()\n",
    "plt.savefig('../data_modeling_output/violin_2025Q1.png', dpi=300, bbox_inches='tight')\n",
    "plt.show()"
   ]
  },
  {
   "cell_type": "markdown",
   "id": "bec4e966-bccc-49d9-9b15-33a2e42e2e37",
   "metadata": {},
   "source": [
    "#### Interpretation:\n",
    "- Tutored group median = 1 vs Untutored median = 0\n",
    "- Greater variability in tutored group indicates heterogeneous response to intervention\n",
    "- Both groups contain high-performing outliers"
   ]
  },
  {
   "cell_type": "markdown",
   "id": "190baa0a-01b5-4434-8ee1-e5b7c4ac7c16",
   "metadata": {},
   "source": [
    "#### 2.2.3 Histogram: Tutored vs. Untutored Overlay"
   ]
  },
  {
   "cell_type": "markdown",
   "id": "da98a320-64f2-46bb-8075-65dc6d8110dd",
   "metadata": {},
   "source": [
    "**Density Histogram**: represents the relative frequency or proportion of data points within each bin (should present this normalized values). "
   ]
  },
  {
   "cell_type": "code",
   "execution_count": 36,
   "id": "2523f3d1-f2d9-427e-890c-d2c4b4aaf39c",
   "metadata": {},
   "outputs": [
    {
     "data": {
      "image/png": "[encoded data removed]",
      "text/plain": [
       "<Figure size 800x600 with 1 Axes>"
      ]
     },
     "metadata": {},
     "output_type": "display_data"
    }
   ],
   "source": [
    "# Set up bins once\n",
    "# Bins to center on 0-12, suitable for integer counts\n",
    "bins = np.arange(0, 14) - 0.5\n",
    "\n",
    "# Prepare data\n",
    "df_tutored = gb_data_500_501_2025Q1_Tutor.copy()\n",
    "df_untutored = gb_data_500_501_2025Q1_noTutor.copy()\n",
    "\n",
    "# Create a single plot for combined histograms\n",
    "plt.figure(figsize=(8, 6))\n",
    "\n",
    "# Plot histogram for Tutored population\n",
    "plt.hist(\n",
    "    df_tutored['Completion Count Progress'],\n",
    "    bins=bins,\n",
    "    alpha=0.6,  # Transparency for overlap\n",
    "    color='skyblue', # Fill color for tutored\n",
    "    edgecolor='darkblue', # Border color for tutored\n",
    "    label='Tutored Student Population',\n",
    "    density=True # Use density to compare distributions even if counts differ\n",
    ")\n",
    "\n",
    "# Plot histogram for Untutored population\n",
    "plt.hist(\n",
    "    df_untutored['Completion Count Progress'],\n",
    "    bins=bins,\n",
    "    alpha=0.6,  # Transparency for overlap\n",
    "    color='salmon', # Fill color for untutored\n",
    "    edgecolor='darkred', # Border color for untutored\n",
    "    label='Untutored Student Population',\n",
    "    density=True # Use density to compare distributions\n",
    ")\n",
    "\n",
    "# Set x-ticks to correspond to integer values 0-12\n",
    "plt.xticks(range(13))\n",
    "\n",
    "# Set labels and title\n",
    "plt.xlabel(\"Progress in Number of Completions\")\n",
    "plt.ylabel(\"Density of Students\") # Changed to Density if density=True is used\n",
    "plt.title('Density Distribution of Student Progress by Tutoring Status')\n",
    "plt.legend() # Show the legend to distinguish populations\n",
    "plt.grid(alpha=0.75) # Add a grid for better readability\n",
    "\n",
    "# Tidy layout\n",
    "plt.tight_layout()\n",
    "plt.savefig('../data_modeling_output/histogram_2025Q1.png', dpi=300, bbox_inches='tight')\n",
    "plt.show()"
   ]
  },
  {
   "cell_type": "code",
   "execution_count": 37,
   "id": "76b4f968-1442-4e6c-a0fe-d29af543d9a3",
   "metadata": {},
   "outputs": [
    {
     "name": "stdout",
     "output_type": "stream",
     "text": [
      "\n",
      "--- Histogram Data Summary ---\n",
      "    Completion Count Progress  Tutored Students (Density)  \\\n",
      "0                           0                      0.3285   \n",
      "1                           1                      0.2482   \n",
      "2                           2                      0.1314   \n",
      "3                           3                      0.0949   \n",
      "4                           4                      0.0511   \n",
      "5                           5                      0.0292   \n",
      "6                           6                      0.0292   \n",
      "7                           7                      0.0438   \n",
      "8                           8                      0.0219   \n",
      "9                           9                      0.0146   \n",
      "10                         10                      0.0000   \n",
      "11                         11                      0.0000   \n",
      "12                         12                      0.0073   \n",
      "\n",
      "    Untutored Students (Density)  \n",
      "0                         0.7650  \n",
      "1                         0.1314  \n",
      "2                         0.0442  \n",
      "3                         0.0227  \n",
      "4                         0.0087  \n",
      "5                         0.0058  \n",
      "6                         0.0050  \n",
      "7                         0.0062  \n",
      "8                         0.0041  \n",
      "9                         0.0008  \n",
      "10                        0.0029  \n",
      "11                        0.0012  \n",
      "12                        0.0021  \n",
      "\n",
      "Note: 'Density' values represent the proportion of students per unit of completion progress.\n"
     ]
    }
   ],
   "source": [
    "# --- Generating the Histogram Data Table ---\n",
    "# Labels for the table rows (0 to 12 completions)\n",
    "completion_labels = np.arange(0, 13) \n",
    "\n",
    "# Calculate histogram densities for Tutored Population\n",
    "hist_density_tutored, _ = np.histogram(df_tutored['Completion Count Progress'], bins=bins, density=True)\n",
    "\n",
    "# Calculate histogram densities for Untutored Population\n",
    "hist_density_untutored, _ = np.histogram(df_untutored['Completion Count Progress'], bins=bins, density=True)\n",
    "\n",
    "# Create a DataFrame to hold the results with only density columns\n",
    "histogram_table_density = pd.DataFrame({\n",
    "    'Completion Count Progress': completion_labels,\n",
    "    'Tutored Students (Density)': hist_density_tutored.round(4), # Round density for readability\n",
    "    'Untutored Students (Density)': hist_density_untutored.round(4) # Round density for readability\n",
    "})\n",
    "\n",
    "# Display the table\n",
    "print(\"\\n--- Histogram Data Summary ---\")\n",
    "print(histogram_table_density)\n",
    "print(\"\\nNote: 'Density' values represent the proportion of students per unit of completion progress.\")\n"
   ]
  },
  {
   "cell_type": "markdown",
   "id": "8e6e5972-e550-4fa7-b1cc-7993dc29cf22",
   "metadata": {},
   "source": [
    "#### Interpretation:\n",
    "- Tutoring reduces zero completions from 77% to 33%\n",
    "- Tutored students show higher engagement across completion levels\n",
    "- Small number of high-performing untutored students (self-motivated learners)"
   ]
  },
  {
   "cell_type": "markdown",
   "id": "dae4e62a-a068-4a04-a833-057fac52cee9",
   "metadata": {},
   "source": [
    "### 2.3 Effect Size Estimation"
   ]
  },
  {
   "cell_type": "markdown",
   "id": "5d7cc8fb-fc08-4231-a291-0a0cfe3329c9",
   "metadata": {},
   "source": [
    "#### 2.3.1 Permutation Test"
   ]
  },
  {
   "cell_type": "markdown",
   "id": "49575304-8287-4908-a8d9-f492775104bd",
   "metadata": {},
   "source": [
    "Testing whether observed differences could occur by chance alone."
   ]
  },
  {
   "cell_type": "code",
   "execution_count": 42,
   "id": "4b03c368-4023-4ae0-b996-2d061a532e6f",
   "metadata": {},
   "outputs": [
    {
     "name": "stdout",
     "output_type": "stream",
     "text": [
      "=== Permutation Test Results ===\n",
      "Observed Mean Difference   : 1.4895\n",
      "95% CI for Mean Difference : [-0.2381, 0.2941]\n",
      "P-value (mean, two-sided)  : 0.000000\n",
      "\n",
      "Observed Median Difference   : 1.0000\n",
      "95% CI for Median Difference : [0.0000, 0.0000]\n",
      "P-value (median, two-sided)  : 0.000000\n"
     ]
    }
   ],
   "source": [
    "# Permutation test using mean and median (output: mean and median differences with associated confidence intervals)\n",
    "# Extract data\n",
    "tutored = gb_data_500_501_2025Q1_Tutor['Completion Count Progress'].values\n",
    "untutored = gb_data_500_501_2025Q1_noTutor['Completion Count Progress'].values\n",
    "\n",
    "# Observed differences\n",
    "obs_mean_diff = np.mean(tutored) - np.mean(untutored)\n",
    "obs_median_diff = np.median(tutored) - np.median(untutored)\n",
    "\n",
    "# Combine data\n",
    "combined = np.concatenate([tutored, untutored])\n",
    "n_tutored = len(tutored)\n",
    "\n",
    "# Permutation test\n",
    "n_permutations = 10000\n",
    "perm_mean_diffs = []\n",
    "perm_median_diffs = []\n",
    "\n",
    "for _ in range(n_permutations):\n",
    "    np.random.shuffle(combined)\n",
    "    perm_tutored = combined[:n_tutored]\n",
    "    perm_untutored = combined[n_tutored:]\n",
    "\n",
    "    mean_diff = np.mean(perm_tutored) - np.mean(perm_untutored)\n",
    "    median_diff = np.median(perm_tutored) - np.median(perm_untutored)\n",
    "\n",
    "    perm_mean_diffs.append(mean_diff)\n",
    "    perm_median_diffs.append(median_diff)\n",
    "\n",
    "# Convert to arrays\n",
    "perm_mean_diffs = np.array(perm_mean_diffs)\n",
    "perm_median_diffs = np.array(perm_median_diffs)\n",
    "\n",
    "# Two-sided p-values\n",
    "p_mean = np.mean(np.abs(perm_mean_diffs) >= np.abs(obs_mean_diff))\n",
    "p_median = np.mean(np.abs(perm_median_diffs) >= np.abs(obs_median_diff))\n",
    "\n",
    "# Confidence Intervals (percentile method)\n",
    "mean_ci = np.percentile(perm_mean_diffs, [2.5, 97.5])\n",
    "median_ci = np.percentile(perm_median_diffs, [2.5, 97.5])\n",
    "\n",
    "# Results\n",
    "print(\"=== Permutation Test Results ===\")\n",
    "print(f\"Observed Mean Difference   : {obs_mean_diff:.4f}\")\n",
    "print(f\"95% CI for Mean Difference : [{mean_ci[0]:.4f}, {mean_ci[1]:.4f}]\")\n",
    "print(f\"P-value (mean, two-sided)  : {p_mean:.6f}\\n\")\n",
    "\n",
    "print(f\"Observed Median Difference   : {obs_median_diff:.4f}\")\n",
    "print(f\"95% CI for Median Difference : [{median_ci[0]:.4f}, {median_ci[1]:.4f}]\")\n",
    "print(f\"P-value (median, two-sided)  : {p_median:.6f}\")"
   ]
  },
  {
   "cell_type": "markdown",
   "id": "65dde718-d57f-41fe-89fe-9614bbcff1eb",
   "metadata": {},
   "source": [
    "#### Permutation Test Results:\n",
    "- Observed mean difference: 1.4895 (p < 0.00001)\n",
    "- Observed median difference: 1.0000 (p < 0.00001)\n",
    "- Both differences are far outside the null distribution ranges from the permutation test\n",
    "     - mean difference null range: [-0.2381, 0.2941]; median difference null range: [0.0, 0.0]\n",
    "- Conclusion: Highly significant evidence that tutoring increases completion rates"
   ]
  },
  {
   "cell_type": "markdown",
   "id": "f6374376-1428-4f96-9177-04fcd83b1118",
   "metadata": {},
   "source": [
    "#### 2.3.2 Bootstrap Analysis"
   ]
  },
  {
   "cell_type": "code",
   "execution_count": 45,
   "id": "c3fe3dde-8a22-406b-b108-69796f96d7d6",
   "metadata": {},
   "outputs": [
    {
     "name": "stdout",
     "output_type": "stream",
     "text": [
      "=== Bootstrap Results ===\n",
      "Observed Mean Difference   : 1.4895\n",
      "95% CI for Mean Difference : [1.0938, 1.9100]\n",
      "\n",
      "Observed Median Difference   : 1.0000\n",
      "95% CI for Median Difference : [1.0000, 2.0000]\n"
     ]
    }
   ],
   "source": [
    "# Example data\n",
    "tutored = gb_data_500_501_2025Q1_Tutor['Completion Count Progress'].values\n",
    "untutored = gb_data_500_501_2025Q1_noTutor['Completion Count Progress'].values\n",
    "\n",
    "# Observed differences\n",
    "obs_mean_diff = np.mean(tutored) - np.mean(untutored)\n",
    "obs_median_diff = np.median(tutored) - np.median(untutored)\n",
    "\n",
    "# Bootstrap settings\n",
    "n_bootstraps = 10000\n",
    "mean_diffs = []\n",
    "median_diffs = []\n",
    "\n",
    "np.random.seed(42)  # For reproducibility\n",
    "\n",
    "for _ in range(n_bootstraps):\n",
    "    tutored_sample = np.random.choice(tutored, size=len(tutored), replace=True)\n",
    "    untutored_sample = np.random.choice(untutored, size=len(untutored), replace=True)\n",
    "\n",
    "    mean_diff = np.mean(tutored_sample) - np.mean(untutored_sample)\n",
    "    median_diff = np.median(tutored_sample) - np.median(untutored_sample)\n",
    "\n",
    "    mean_diffs.append(mean_diff)\n",
    "    median_diffs.append(median_diff)\n",
    "\n",
    "# Convert to numpy array\n",
    "mean_diffs = np.array(mean_diffs)\n",
    "median_diffs = np.array(median_diffs)\n",
    "\n",
    "# Compute 95% Confidence Intervals\n",
    "ci_mean = np.percentile(mean_diffs, [2.5, 97.5])\n",
    "ci_median = np.percentile(median_diffs, [2.5, 97.5])\n",
    "\n",
    "# Output results\n",
    "print(\"=== Bootstrap Results ===\")\n",
    "print(f\"Observed Mean Difference   : {obs_mean_diff:.4f}\")\n",
    "print(f\"95% CI for Mean Difference : [{ci_mean[0]:.4f}, {ci_mean[1]:.4f}]\")\n",
    "\n",
    "print(f\"\\nObserved Median Difference   : {obs_median_diff:.4f}\")\n",
    "print(f\"95% CI for Median Difference : [{ci_median[0]:.4f}, {ci_median[1]:.4f}]\")"
   ]
  },
  {
   "cell_type": "markdown",
   "id": "6c3d6c57-ba1e-4390-9f6b-ce252dc81eed",
   "metadata": {},
   "source": [
    "#### Bootstrap Results:\n",
    "- Observed mean difference: 1.4895 (95% CI: [1.0938, 1.9100])\n",
    "- Observed median difference: 1.0000 (95% CI: [1.0000, 2.0000])\n",
    "- Both confidence intervals exclude zero, confirming statistical significance\n",
    "- Robust evidence that tutoring increases completion rates"
   ]
  },
  {
   "cell_type": "markdown",
   "id": "a29f9840-c568-4a08-afa2-6f7f6db02806",
   "metadata": {},
   "source": [
    "### 2.4 Zero-Inflated Negative Binomial (ZINB) Modeling"
   ]
  },
  {
   "cell_type": "markdown",
   "id": "b8df8770-2cf6-4fdf-9e5b-66a17c900640",
   "metadata": {},
   "source": [
    "#### 2.4.1 Data Preparation for Generalized Linear Model (GLM)"
   ]
  },
  {
   "cell_type": "code",
   "execution_count": 49,
   "id": "3c003d18-e408-423f-923f-c0fa1c34cb42",
   "metadata": {},
   "outputs": [],
   "source": [
    "# Combine your original dataframes with a Tutored column\n",
    "df_tutor = gb_data_500_501_2025Q1_Tutor.copy()\n",
    "df_tutor['Tutored'] = 1\n",
    "\n",
    "df_no_tutor = gb_data_500_501_2025Q1_noTutor.copy()\n",
    "df_no_tutor['Tutored'] = 0\n",
    "\n",
    "df_combined = pd.concat([df_tutor, df_no_tutor], ignore_index=True)"
   ]
  },
  {
   "cell_type": "code",
   "execution_count": 50,
   "id": "9da97af0-0f90-409d-9779-fff2e5a02653",
   "metadata": {},
   "outputs": [],
   "source": [
    "# Save to a specific folder\n",
    "df_combined.to_csv(\"../data_modeling_output/BUS500-501_2025Q1_glm.csv\", index=False)"
   ]
  },
  {
   "cell_type": "code",
   "execution_count": 51,
   "id": "306cd7a5-6963-4f0b-acb8-61452875fd03",
   "metadata": {},
   "outputs": [],
   "source": [
    "# Prepare data\n",
    "df_combined.rename(columns={\n",
    "    'Completion Count Progress': 'completion_count_progress'\n",
    "}, inplace=True)\n",
    "\n",
    "# Define predictors and response\n",
    "X = sm.add_constant(df_combined[['Tutored']])\n",
    "y = df_combined['completion_count_progress']"
   ]
  },
  {
   "cell_type": "code",
   "execution_count": 52,
   "id": "4f51c473-12c5-4b85-b355-a8f11ecdbcc4",
   "metadata": {},
   "outputs": [
    {
     "data": {
      "text/html": [
       "<div>\n",
       "<style scoped>\n",
       "    .dataframe tbody tr th:only-of-type {\n",
       "        vertical-align: middle;\n",
       "    }\n",
       "\n",
       "    .dataframe tbody tr th {\n",
       "        vertical-align: top;\n",
       "    }\n",
       "\n",
       "    .dataframe thead th {\n",
       "        text-align: right;\n",
       "    }\n",
       "</style>\n",
       "<table border=\"1\" class=\"dataframe\">\n",
       "  <thead>\n",
       "    <tr style=\"text-align: right;\">\n",
       "      <th></th>\n",
       "      <th>Learner Identifier</th>\n",
       "      <th>completion_count_progress</th>\n",
       "      <th>% Completion Progress</th>\n",
       "      <th>Tutored</th>\n",
       "    </tr>\n",
       "  </thead>\n",
       "  <tbody>\n",
       "    <tr>\n",
       "      <th>0</th>\n",
       "      <td>abigail.ramirez@calbrightcollege.org</td>\n",
       "      <td>0</td>\n",
       "      <td>0</td>\n",
       "      <td>1</td>\n",
       "    </tr>\n",
       "    <tr>\n",
       "      <th>1</th>\n",
       "      <td>abirami.rajeshshanmugam@calbrightcollege.org</td>\n",
       "      <td>2</td>\n",
       "      <td>17</td>\n",
       "      <td>1</td>\n",
       "    </tr>\n",
       "    <tr>\n",
       "      <th>2</th>\n",
       "      <td>adinah.caro-greene@calbrightcollege.org</td>\n",
       "      <td>1</td>\n",
       "      <td>8</td>\n",
       "      <td>1</td>\n",
       "    </tr>\n",
       "    <tr>\n",
       "      <th>3</th>\n",
       "      <td>adrian.borelli@calbrightcollege.org</td>\n",
       "      <td>0</td>\n",
       "      <td>0</td>\n",
       "      <td>1</td>\n",
       "    </tr>\n",
       "    <tr>\n",
       "      <th>4</th>\n",
       "      <td>ahmad.sapy@calbrightcollege.org</td>\n",
       "      <td>0</td>\n",
       "      <td>0</td>\n",
       "      <td>1</td>\n",
       "    </tr>\n",
       "  </tbody>\n",
       "</table>\n",
       "</div>"
      ],
      "text/plain": [
       "                             Learner Identifier  completion_count_progress  \\\n",
       "0          abigail.ramirez@calbrightcollege.org                          0   \n",
       "1  abirami.rajeshshanmugam@calbrightcollege.org                          2   \n",
       "2       adinah.caro-greene@calbrightcollege.org                          1   \n",
       "3           adrian.borelli@calbrightcollege.org                          0   \n",
       "4               ahmad.sapy@calbrightcollege.org                          0   \n",
       "\n",
       "   % Completion Progress  Tutored  \n",
       "0                      0        1  \n",
       "1                     17        1  \n",
       "2                      8        1  \n",
       "3                      0        1  \n",
       "4                      0        1  "
      ]
     },
     "execution_count": 52,
     "metadata": {},
     "output_type": "execute_result"
    }
   ],
   "source": [
    "#Call the head method on the data to print the first several rows of the data\n",
    "df_combined.head()"
   ]
  },
  {
   "cell_type": "markdown",
   "id": "ab3b4f66-9084-4e09-be97-e667c407c4ed",
   "metadata": {},
   "source": [
    "#### 2.4.2 Systematic Model Selection"
   ]
  },
  {
   "cell_type": "code",
   "execution_count": 54,
   "id": "da5bdc88-8ab1-4191-ab91-aca80a768d6e",
   "metadata": {},
   "outputs": [
    {
     "name": "stderr",
     "output_type": "stream",
     "text": [
      "C:\\Users\\mkoba\\anaconda3\\envs\\py313_core\\Lib\\site-packages\\statsmodels\\base\\model.py:607: ConvergenceWarning: Maximum Likelihood optimization failed to converge. Check mle_retvals\n",
      "  warnings.warn(\"Maximum Likelihood optimization failed to \"\n"
     ]
    },
    {
     "name": "stdout",
     "output_type": "stream",
     "text": [
      "Model Full_Infl_LBFGS_IterDefault failed during fitting: '>=' not supported between instances of 'int' and 'NoneType'\n",
      "Model Intercept_Infl_LBFGS_IterDefault failed during fitting: '>=' not supported between instances of 'int' and 'NoneType'\n"
     ]
    },
    {
     "name": "stderr",
     "output_type": "stream",
     "text": [
      "C:\\Users\\mkoba\\anaconda3\\envs\\py313_core\\Lib\\site-packages\\statsmodels\\base\\model.py:595: HessianInversionWarning: Inverting hessian failed, no bse or cov_params available\n",
      "  warnings.warn('Inverting hessian failed, no bse or cov_params '\n",
      "C:\\Users\\mkoba\\anaconda3\\envs\\py313_core\\Lib\\site-packages\\statsmodels\\base\\model.py:595: HessianInversionWarning: Inverting hessian failed, no bse or cov_params available\n",
      "  warnings.warn('Inverting hessian failed, no bse or cov_params '\n",
      "C:\\Users\\mkoba\\anaconda3\\envs\\py313_core\\Lib\\site-packages\\statsmodels\\base\\model.py:595: HessianInversionWarning: Inverting hessian failed, no bse or cov_params available\n",
      "  warnings.warn('Inverting hessian failed, no bse or cov_params '\n"
     ]
    },
    {
     "name": "stdout",
     "output_type": "stream",
     "text": [
      "Model Full_Infl_NEWTON_IterDefault failed during fitting: '<' not supported between instances of 'int' and 'NoneType'\n"
     ]
    },
    {
     "name": "stderr",
     "output_type": "stream",
     "text": [
      "C:\\Users\\mkoba\\anaconda3\\envs\\py313_core\\Lib\\site-packages\\statsmodels\\discrete\\discrete_model.py:3974: RuntimeWarning: invalid value encountered in log\n",
      "  dgterm = dgpart + np.log(a1 / a2) + 1 - a3 / a2\n",
      "C:\\Users\\mkoba\\anaconda3\\envs\\py313_core\\Lib\\site-packages\\statsmodels\\discrete\\discrete_model.py:3937: RuntimeWarning: invalid value encountered in log\n",
      "  a1 * np.log(a1) + y * np.log(mu) -\n",
      "C:\\Users\\mkoba\\anaconda3\\envs\\py313_core\\Lib\\site-packages\\statsmodels\\discrete\\discrete_model.py:3938: RuntimeWarning: invalid value encountered in log\n",
      "  (y + a1) * np.log(a2))\n",
      "C:\\Users\\mkoba\\anaconda3\\envs\\py313_core\\Lib\\site-packages\\statsmodels\\discrete\\discrete_model.py:3974: RuntimeWarning: invalid value encountered in log\n",
      "  dgterm = dgpart + np.log(a1 / a2) + 1 - a3 / a2\n",
      "C:\\Users\\mkoba\\anaconda3\\envs\\py313_core\\Lib\\site-packages\\statsmodels\\discrete\\discrete_model.py:3937: RuntimeWarning: invalid value encountered in log\n",
      "  a1 * np.log(a1) + y * np.log(mu) -\n",
      "C:\\Users\\mkoba\\anaconda3\\envs\\py313_core\\Lib\\site-packages\\statsmodels\\discrete\\discrete_model.py:3938: RuntimeWarning: invalid value encountered in log\n",
      "  (y + a1) * np.log(a2))\n"
     ]
    },
    {
     "name": "stdout",
     "output_type": "stream",
     "text": [
      "Model Intercept_Infl_NEWTON_IterDefault failed during fitting: '<' not supported between instances of 'int' and 'NoneType'\n"
     ]
    },
    {
     "name": "stderr",
     "output_type": "stream",
     "text": [
      "C:\\Users\\mkoba\\anaconda3\\envs\\py313_core\\Lib\\site-packages\\statsmodels\\discrete\\discrete_model.py:4329: RuntimeWarning: overflow encountered in exp\n",
      "  return np.exp(linpred)\n",
      "C:\\Users\\mkoba\\anaconda3\\envs\\py313_core\\Lib\\site-packages\\statsmodels\\discrete\\discrete_model.py:3974: RuntimeWarning: divide by zero encountered in log\n",
      "  dgterm = dgpart + np.log(a1 / a2) + 1 - a3 / a2\n",
      "C:\\Users\\mkoba\\anaconda3\\envs\\py313_core\\Lib\\site-packages\\statsmodels\\discrete\\discrete_model.py:3977: RuntimeWarning: invalid value encountered in multiply\n",
      "  dparams = (a4 * dgterm -\n",
      "C:\\Users\\mkoba\\anaconda3\\envs\\py313_core\\Lib\\site-packages\\statsmodels\\discrete\\discrete_model.py:3980: RuntimeWarning: invalid value encountered in multiply\n",
      "  dparams = (self.exog.T * mu * dparams).T\n",
      "C:\\Users\\mkoba\\anaconda3\\envs\\py313_core\\Lib\\site-packages\\statsmodels\\discrete\\discrete_model.py:3937: RuntimeWarning: invalid value encountered in multiply\n",
      "  a1 * np.log(a1) + y * np.log(mu) -\n",
      "C:\\Users\\mkoba\\anaconda3\\envs\\py313_core\\Lib\\site-packages\\statsmodels\\discrete\\discrete_model.py:3936: RuntimeWarning: invalid value encountered in subtract\n",
      "  llf = (gammaln(y + a1) - gammaln(y + 1) - gammaln(a1) +\n",
      "C:\\Users\\mkoba\\anaconda3\\envs\\py313_core\\Lib\\site-packages\\statsmodels\\discrete\\discrete_model.py:543: RuntimeWarning: invalid value encountered in dot\n",
      "  linpred = np.dot(exog, params) + offset\n",
      "C:\\Users\\mkoba\\anaconda3\\envs\\py313_core\\Lib\\site-packages\\statsmodels\\discrete\\discrete_model.py:4329: RuntimeWarning: overflow encountered in exp\n",
      "  return np.exp(linpred)\n",
      "C:\\Users\\mkoba\\anaconda3\\envs\\py313_core\\Lib\\site-packages\\statsmodels\\discrete\\discrete_model.py:3974: RuntimeWarning: divide by zero encountered in log\n",
      "  dgterm = dgpart + np.log(a1 / a2) + 1 - a3 / a2\n",
      "C:\\Users\\mkoba\\anaconda3\\envs\\py313_core\\Lib\\site-packages\\statsmodels\\discrete\\discrete_model.py:3977: RuntimeWarning: invalid value encountered in multiply\n",
      "  dparams = (a4 * dgterm -\n",
      "C:\\Users\\mkoba\\anaconda3\\envs\\py313_core\\Lib\\site-packages\\statsmodels\\discrete\\discrete_model.py:3980: RuntimeWarning: invalid value encountered in multiply\n",
      "  dparams = (self.exog.T * mu * dparams).T\n",
      "C:\\Users\\mkoba\\anaconda3\\envs\\py313_core\\Lib\\site-packages\\statsmodels\\discrete\\discrete_model.py:3937: RuntimeWarning: invalid value encountered in multiply\n",
      "  a1 * np.log(a1) + y * np.log(mu) -\n",
      "C:\\Users\\mkoba\\anaconda3\\envs\\py313_core\\Lib\\site-packages\\statsmodels\\discrete\\discrete_model.py:3936: RuntimeWarning: invalid value encountered in subtract\n",
      "  llf = (gammaln(y + a1) - gammaln(y + 1) - gammaln(a1) +\n",
      "C:\\Users\\mkoba\\anaconda3\\envs\\py313_core\\Lib\\site-packages\\statsmodels\\discrete\\discrete_model.py:543: RuntimeWarning: invalid value encountered in dot\n",
      "  linpred = np.dot(exog, params) + offset\n"
     ]
    }
   ],
   "source": [
    "# Assume df_combined is already cleaned and has 'completion_count_progress' and 'Tutored'\n",
    "y = df_combined['completion_count_progress']\n",
    "X_main = sm.add_constant(df_combined[['Tutored']])\n",
    "X_intercept_only = sm.add_constant(np.ones(len(X_main)))  # Intercept-only for inflation\n",
    "\n",
    "# Define model configurations\n",
    "optimizers = [\"lbfgs\", \"bfgs\", \"newton\"]\n",
    "inflation_specs = [(\"Full\", X_main), (\"Intercept\", X_intercept_only)]\n",
    "iterations = [None, 100, 1000]  # None = use default maxiter\n",
    "\n",
    "model_specs = []\n",
    "\n",
    "# Generate model spec combinations\n",
    "for opt in optimizers:\n",
    "    for infl_label, infl_exog in inflation_specs:\n",
    "        for maxit in iterations:\n",
    "            name = f\"{infl_label}_Infl_{opt.upper()}_Iter{maxit if maxit is not None else 'Default'}\"\n",
    "            model_specs.append({\n",
    "                \"name\": name,\n",
    "                \"exog\": X_main,\n",
    "                \"exog_infl\": infl_exog,\n",
    "                \"method\": opt,\n",
    "                \"maxiter\": maxit\n",
    "            })\n",
    "\n",
    "results = []\n",
    "\n",
    "# Fit null model for Pseudo R² calculation\n",
    "null_model = ZeroInflatedNegativeBinomialP(\n",
    "    endog=y,\n",
    "    exog=X_intercept_only,\n",
    "    exog_infl=X_intercept_only,\n",
    "    inflation='logit'\n",
    ").fit(disp=False)\n",
    "\n",
    "ll_null = null_model.llf\n",
    "\n",
    "# Loop through model configurations\n",
    "for spec in model_specs:\n",
    "    try:\n",
    "        model = ZeroInflatedNegativeBinomialP(\n",
    "            endog=y,\n",
    "            exog=spec[\"exog\"],\n",
    "            exog_infl=spec[\"exog_infl\"],\n",
    "            inflation='logit'\n",
    "        ).fit(\n",
    "            disp=False,\n",
    "            method=spec[\"method\"],\n",
    "            maxiter=spec[\"maxiter\"]\n",
    "        )\n",
    "\n",
    "        # Basic stats\n",
    "        ll_full = model.llf\n",
    "        aic = model.aic\n",
    "        bic = model.bic\n",
    "        converged = model.mle_retvals.get(\"converged\", False)\n",
    "        pseudo_r2 = 1 - (ll_full / ll_null) if ll_null != 0 else np.nan\n",
    "\n",
    "        # Additional diagnostics\n",
    "        has_nan_se = np.any(np.isnan(model.bse))\n",
    "        has_extreme_coef = np.any(np.abs(model.params) > 100)\n",
    "        valid = converged and not has_nan_se and not has_extreme_coef\n",
    "\n",
    "    except Exception as e:\n",
    "        print(f\"Model {spec['name']} failed during fitting: {e}\")\n",
    "        ll_full = np.nan\n",
    "        aic = np.nan\n",
    "        bic = np.nan\n",
    "        pseudo_r2 = np.nan\n",
    "        converged = False\n",
    "        valid = False\n",
    "\n",
    "    results.append({\n",
    "        \"name\": spec[\"name\"],\n",
    "        \"log_likelihood\": ll_full,\n",
    "        \"AIC\": aic,\n",
    "        \"BIC\": bic,\n",
    "        \"Pseudo_R2\": pseudo_r2,\n",
    "        \"converged\": converged,\n",
    "        \"valid\": valid\n",
    "    })\n",
    "\n",
    "# Create final results DataFrame\n",
    "results_df = pd.DataFrame(results)\n",
    "\n",
    "# Show only valid models sorted by log-likelihood\n",
    "valid_models_df = results_df[results_df[\"valid\"]].sort_values(\"log_likelihood\", ascending=False)"
   ]
  },
  {
   "cell_type": "code",
   "execution_count": 55,
   "id": "75f8f0c3-ba6b-4165-b9b7-3db19006c576",
   "metadata": {},
   "outputs": [
    {
     "name": "stdout",
     "output_type": "stream",
     "text": [
      "Top valid models:\n",
      "                               name  log_likelihood          AIC          BIC  \\\n",
      "1           Full_Infl_LBFGS_Iter100    -2456.786760  4923.573521  4952.808426   \n",
      "2          Full_Infl_LBFGS_Iter1000    -2456.786760  4923.573521  4952.808426   \n",
      "9   Intercept_Infl_BFGS_IterDefault    -2470.257824  4948.515648  4971.903572   \n",
      "11     Intercept_Infl_BFGS_Iter1000    -2470.257824  4948.515648  4971.903572   \n",
      "10      Intercept_Infl_BFGS_Iter100    -2470.257824  4948.515648  4971.903572   \n",
      "4      Intercept_Infl_LBFGS_Iter100    -2470.258487  4948.516975  4971.904898   \n",
      "5     Intercept_Infl_LBFGS_Iter1000    -2470.258487  4948.516975  4971.904898   \n",
      "\n",
      "    Pseudo_R2  converged  valid  \n",
      "1    0.018151       True   True  \n",
      "2    0.018151       True   True  \n",
      "9    0.012767       True   True  \n",
      "11   0.012767       True   True  \n",
      "10   0.012767       True   True  \n",
      "4    0.012767       True   True  \n",
      "5    0.012767       True   True  \n"
     ]
    }
   ],
   "source": [
    "# Print or return the top models\n",
    "print(\"Top valid models:\")\n",
    "print(valid_models_df)"
   ]
  },
  {
   "cell_type": "code",
   "execution_count": 56,
   "id": "75623afd-7bcd-4d2c-a47f-df1c8320fd67",
   "metadata": {},
   "outputs": [
    {
     "name": "stdout",
     "output_type": "stream",
     "text": [
      "\n",
      "Models that failed diagnostics:\n",
      "                                 name  converged\n",
      "0         Full_Infl_LBFGS_IterDefault      False\n",
      "3    Intercept_Infl_LBFGS_IterDefault      False\n",
      "6          Full_Infl_BFGS_IterDefault       True\n",
      "7              Full_Infl_BFGS_Iter100       True\n",
      "8             Full_Infl_BFGS_Iter1000       True\n",
      "12       Full_Infl_NEWTON_IterDefault      False\n",
      "13           Full_Infl_NEWTON_Iter100       True\n",
      "14          Full_Infl_NEWTON_Iter1000       True\n",
      "15  Intercept_Infl_NEWTON_IterDefault      False\n",
      "16      Intercept_Infl_NEWTON_Iter100       True\n",
      "17     Intercept_Infl_NEWTON_Iter1000       True\n"
     ]
    }
   ],
   "source": [
    "# Optional: Review failed models\n",
    "invalid_models_df = results_df[~results_df[\"valid\"]]\n",
    "print(\"\\nModels that failed diagnostics:\")\n",
    "print(invalid_models_df[[\"name\", \"converged\"]])"
   ]
  },
  {
   "cell_type": "markdown",
   "id": "2aefa798-2110-4b83-8757-3aa210ead62a",
   "metadata": {},
   "source": [
    "#### Best Model Selection:\n",
    "Full_Infl_LBFGS_Iter100 selected based on:\n",
    "- Highest log-likelihood (-2456.79)\n",
    "- Lowest AIC (4923.57) and BIC (4952.81)\n",
    "- Successful convergence without warnings\n",
    "\n",
    "**Valid Models** (Models That Passed All Checks) for your reference:\n",
    "\n",
    "| Rank | Name                           | Log Likelihood |     AIC     |     BIC     | Pseudo R² | Converged | Valid |\n",
    "|------|--------------------------------|----------------|-------------|-------------|-----------|-----------|-------|\n",
    "| 1    | Full_Infl_LBFGS_Iter100        | -2456.786760   | 4923.573521 | 4952.808426 | 0.018151  | True      | True  |\n",
    "| 2    | Full_Infl_LBFGS_Iter1000       | -2456.786760   | 4923.573521 | 4952.808426 | 0.018151  | True      | True  |\n",
    "| 3    | Intercept_Infl_BFGS_IterDefault| -2470.257824   | 4948.515648 | 4971.903572 | 0.012767  | True      | True  |\n",
    "| 4    | Intercept_Infl_BFGS_Iter1000   | -2470.257824   | 4948.515648 | 4971.903572 | 0.012767  | True      | True  |\n",
    "| 5    | Intercept_Infl_BFGS_Iter100    | -2470.257824   | 4948.515648 | 4971.903572 | 0.012767  | True      | True  |\n",
    "| 6    | Intercept_Infl_LBFGS_Iter100   | -2470.258487   | 4948.516975 | 4971.904898 | 0.012767  | True      | True  |\n",
    "| 7    | Intercept_Infl_LBFGS_Iter1000  | -2470.258487   | 4948.516975 | 4971.904898 | 0.012767  | True      | True  |\n"
   ]
  },
  {
   "cell_type": "code",
   "execution_count": 58,
   "id": "ddfe0964-f4e1-4496-83d0-8837e565fbb8",
   "metadata": {},
   "outputs": [
    {
     "name": "stdout",
     "output_type": "stream",
     "text": [
      "                     ZeroInflatedNegativeBinomialP Regression Results                    \n",
      "=========================================================================================\n",
      "Dep. Variable:         completion_count_progress   No. Observations:                 2558\n",
      "Model:             ZeroInflatedNegativeBinomialP   Df Residuals:                     2556\n",
      "Method:                                      MLE   Df Model:                            1\n",
      "Date:                           Thu, 11 Sep 2025   Pseudo R-squ.:                 0.01815\n",
      "Time:                                   18:45:49   Log-Likelihood:                -2456.8\n",
      "converged:                                  True   LL-Null:                       -2502.2\n",
      "Covariance Type:                       nonrobust   LLR p-value:                 1.577e-21\n",
      "===================================================================================\n",
      "                      coef    std err          z      P>|z|      [0.025      0.975]\n",
      "-----------------------------------------------------------------------------------\n",
      "inflate_const      -0.2809      0.215     -1.305      0.192      -0.703       0.141\n",
      "inflate_Tutored   -12.0146     79.126     -0.152      0.879    -167.098     143.069\n",
      "const              -0.0679      0.102     -0.664      0.507      -0.268       0.133\n",
      "Tutored             0.7722      0.168      4.588      0.000       0.442       1.102\n",
      "alpha               1.9521      0.287      6.812      0.000       1.390       2.514\n",
      "===================================================================================\n"
     ]
    }
   ],
   "source": [
    "# Refit the best model on the entire dataset: Full_Infl_LBFGS_Iter100 model\n",
    "Full_Infl_LBFGS_Iter100_model = ZeroInflatedNegativeBinomialP(\n",
    "    endog=y,\n",
    "    exog=X_main,\n",
    "    exog_infl=X_main,  # or X_intercept_only if that's preferred\n",
    "    inflation='logit'\n",
    ").fit(method=\"lbfgs\", maxiter=100)\n",
    "\n",
    "# Show the model summary\n",
    "print(Full_Infl_LBFGS_Iter100_model.summary())"
   ]
  },
  {
   "cell_type": "markdown",
   "id": "dfea4d6d-3e90-4b5a-bf06-7bc986684943",
   "metadata": {},
   "source": [
    "### 2.5 Model Comparison: ZINB vs NB"
   ]
  },
  {
   "cell_type": "markdown",
   "id": "2692295f-f528-4729-a164-5847f9d458f9",
   "metadata": {},
   "source": [
    "To double check if more complicated ZINB model give better fitting model compared to simpler NB model."
   ]
  },
  {
   "cell_type": "markdown",
   "id": "5428566b-c0b2-427d-9b2f-8318ff6f466a",
   "metadata": {},
   "source": [
    "#### 2.5.1 Regular Negative Binomial (NB) model"
   ]
  },
  {
   "cell_type": "code",
   "execution_count": 62,
   "id": "942a73bb-140f-4d63-86a7-80aa67a02ae5",
   "metadata": {},
   "outputs": [
    {
     "name": "stdout",
     "output_type": "stream",
     "text": [
      "Optimization terminated successfully.\n",
      "         Current function value: 0.965699\n",
      "         Iterations: 4\n",
      "         Function evaluations: 6\n",
      "         Gradient evaluations: 6\n",
      "                         NegativeBinomial Regression Results                         \n",
      "=====================================================================================\n",
      "Dep. Variable:     completion_count_progress   No. Observations:                 2558\n",
      "Model:                      NegativeBinomial   Df Residuals:                     2556\n",
      "Method:                                  MLE   Df Model:                            1\n",
      "Date:                       Thu, 11 Sep 2025   Pseudo R-squ.:                 0.01276\n",
      "Time:                               18:45:49   Log-Likelihood:                -2470.3\n",
      "converged:                              True   LL-Null:                       -2502.2\n",
      "Covariance Type:                   nonrobust   LLR p-value:                 1.325e-15\n",
      "==============================================================================\n",
      "                 coef    std err          z      P>|z|      [0.025      0.975]\n",
      "------------------------------------------------------------------------------\n",
      "const         -0.6303      0.049    -12.778      0.000      -0.727      -0.534\n",
      "Tutored        1.3344      0.188      7.098      0.000       0.966       1.703\n",
      "alpha          4.0131      0.261     15.347      0.000       3.501       4.526\n",
      "==============================================================================\n"
     ]
    }
   ],
   "source": [
    "# Fit the Negative Binomial model\n",
    "nb_model1 = NegativeBinomial(endog=y, exog=X).fit()\n",
    "\n",
    "# Print the model summary\n",
    "print(nb_model1.summary())"
   ]
  },
  {
   "cell_type": "markdown",
   "id": "46c277f7-65b4-43d6-9d8d-c812d448e37d",
   "metadata": {},
   "source": [
    "#### 2.5.2 Model Comparison Results: ZINB vs NB"
   ]
  },
  {
   "cell_type": "markdown",
   "id": "2a561c7c-fe7d-4e5b-8a2d-2fbfcf0ee3f6",
   "metadata": {},
   "source": [
    "Compare against follwoing metrics that STATA (the statistical software package) uses:\n",
    "- Log-Likelihood\n",
    "- AIC, and BIC values\n",
    "- Vuong test as a direct statistical test for comparing the ZINB and NB models."
   ]
  },
  {
   "cell_type": "code",
   "execution_count": 65,
   "id": "b121177f-7f11-4e2c-9d80-58d00a11ea9c",
   "metadata": {},
   "outputs": [
    {
     "name": "stdout",
     "output_type": "stream",
     "text": [
      "Model Fit Statistics:\n",
      "  Model  Log-Likelihood          AIC          BIC\n",
      "0    NB    -2470.257195  4946.514391  4964.055334\n",
      "1  ZINB    -2456.786760  4923.573521  4952.808426\n",
      "\n",
      "Vuong-like Likelihood Ratio Test: NB vs ZINB\n",
      "Log-Likelihood NB: -2470.26\n",
      "Log-Likelihood ZINB: -2456.79\n",
      "LR statistic: 26.94\n",
      "Degrees of freedom: 0.0\n",
      "p-value: nan\n"
     ]
    }
   ],
   "source": [
    "# Create comparison table (NB vs. ZINB)\n",
    "model_stats = pd.DataFrame({\n",
    "    'Model': ['NB', 'ZINB'],\n",
    "    'Log-Likelihood': [nb_model1.llf, Full_Infl_LBFGS_Iter100_model.llf],\n",
    "    'AIC': [nb_model1.aic, Full_Infl_LBFGS_Iter100_model.aic],\n",
    "    'BIC': [nb_model1.bic, Full_Infl_LBFGS_Iter100_model.bic]\n",
    "})\n",
    "\n",
    "print(\"Model Fit Statistics:\")\n",
    "print(model_stats)\n",
    "\n",
    "# Function to compute Vuong-like LR statistic\n",
    "def vuong_lr_test(model_1, model_2, name_1, name_2):\n",
    "    ll_1 = model_1.llf\n",
    "    ll_2 = model_2.llf\n",
    "    lr_stat = 2 * (ll_2 - ll_1)\n",
    "    df = model_2.df_model - model_1.df_model  # Might be 0\n",
    "    p_value = np.nan  # Degrees of freedom is 0, test not applicable\n",
    "    print(f\"\\nVuong-like Likelihood Ratio Test: {name_1} vs {name_2}\")\n",
    "    print(f\"Log-Likelihood {name_1}: {ll_1:.2f}\")\n",
    "    print(f\"Log-Likelihood {name_2}: {ll_2:.2f}\")\n",
    "    print(f\"LR statistic: {lr_stat:.2f}\")\n",
    "    print(f\"Degrees of freedom: {df}\")\n",
    "    print(f\"p-value: {p_value}\")\n",
    "\n",
    "# Perform Vuong-like test only between NB and ZINB\n",
    "vuong_lr_test(nb_model1, Full_Infl_LBFGS_Iter100_model, \"NB\", \"ZINB\")"
   ]
  },
  {
   "cell_type": "markdown",
   "id": "523f48fc-c62d-492b-a410-38f3a896606e",
   "metadata": {},
   "source": [
    "#### Key Findings:\n",
    "**Model Comparison Summary**\n",
    "\n",
    "The **ZINB** model demonstrates better fit compared to the **NB** model:\n",
    "- **Lower AIC and BIC** values indicate improved model performance.\n",
    "- **Higher Log-Likelihood** confirms a better goodness-of-fit.\n",
    "- The **Vuong-like LR test** favors the ZINB model, though the test's degrees of freedom is 0 and p-value is `nan`, limiting formal statistical inference.\n",
    "\n",
    "**Model Fit Statistics**\n",
    "\n",
    "| Model    | Log-Likelihood |    AIC    |    BIC    |\n",
    "|----------|----------------|-----------|-----------|\n",
    "| NB       | -2470.26       | 4946.51   | 4964.06   |\n",
    "| **ZINB** | **-2456.79**   | **4923.57** | **4952.81** |\n",
    "\n",
    "**Interpretation**\n",
    "- The **ZINB** model provides a better fit than the standard Negative Binomial (NB), effectively handling both overdispersion and excess zeros in the data.\n",
    "- Incorporating zero inflation improves the model’s explanatory power, suggesting that the data contains a meaningful proportion of structural zeros."
   ]
  },
  {
   "cell_type": "markdown",
   "id": "b4b2413a-d9d1-4f78-97d9-0cf1eb6ea27a",
   "metadata": {},
   "source": [
    "### 2.6 Final Model Results and Interpretation"
   ]
  },
  {
   "cell_type": "markdown",
   "id": "f985075a-7ec1-40ec-9efd-897d8886b411",
   "metadata": {},
   "source": [
    "#### 2.6.1 Best-Fit ZINB Model"
   ]
  },
  {
   "cell_type": "code",
   "execution_count": 69,
   "id": "07a0c5cc-eea3-4f3d-8a5a-2f1f7f8f40d0",
   "metadata": {},
   "outputs": [
    {
     "name": "stdout",
     "output_type": "stream",
     "text": [
      "                     ZeroInflatedNegativeBinomialP Regression Results                    \n",
      "=========================================================================================\n",
      "Dep. Variable:         completion_count_progress   No. Observations:                 2558\n",
      "Model:             ZeroInflatedNegativeBinomialP   Df Residuals:                     2556\n",
      "Method:                                      MLE   Df Model:                            1\n",
      "Date:                           Thu, 11 Sep 2025   Pseudo R-squ.:                 0.01815\n",
      "Time:                                   18:45:50   Log-Likelihood:                -2456.8\n",
      "converged:                                  True   LL-Null:                       -2502.2\n",
      "Covariance Type:                       nonrobust   LLR p-value:                 1.577e-21\n",
      "===================================================================================\n",
      "                      coef    std err          z      P>|z|      [0.025      0.975]\n",
      "-----------------------------------------------------------------------------------\n",
      "inflate_const      -0.2809      0.215     -1.305      0.192      -0.703       0.141\n",
      "inflate_Tutored   -12.0146     79.126     -0.152      0.879    -167.098     143.069\n",
      "const              -0.0679      0.102     -0.664      0.507      -0.268       0.133\n",
      "Tutored             0.7722      0.168      4.588      0.000       0.442       1.102\n",
      "alpha               1.9521      0.287      6.812      0.000       1.390       2.514\n",
      "===================================================================================\n"
     ]
    }
   ],
   "source": [
    "# Refit the best model on the entire dataset: Full_Infl_LBFGS_Iter100 model\n",
    "Full_Infl_LBFGS_Iter100_model = ZeroInflatedNegativeBinomialP(\n",
    "    endog=y,\n",
    "    exog=X_main,\n",
    "    exog_infl=X_main,  # or X_intercept_only if that's preferred\n",
    "    inflation='logit'\n",
    ").fit(method=\"lbfgs\", maxiter=100)\n",
    "\n",
    "# Show the model summary\n",
    "print(Full_Infl_LBFGS_Iter100_model.summary())"
   ]
  },
  {
   "cell_type": "markdown",
   "id": "37c2598b-93fc-4cd8-816f-d60c5dba3f39",
   "metadata": {},
   "source": [
    "**Extract Detailed ZINB Coefficients with High-Precision P-Values and IRRs**"
   ]
  },
  {
   "cell_type": "code",
   "execution_count": 71,
   "id": "c8de06f9-f5eb-4cb5-923b-90b92101518b",
   "metadata": {},
   "outputs": [
    {
     "name": "stdout",
     "output_type": "stream",
     "text": [
      "                   Coefficient    Std. Error       z-value      p-value  \\\n",
      "inflate_const    -0.2808912678  0.2152775971 -1.3047863394 0.1919656120   \n",
      "inflate_Tutored -12.0145994717 79.1258425509 -0.1518416624 0.8793118213   \n",
      "const            -0.0678637291  0.1022610203 -0.6636324273 0.5069255976   \n",
      "Tutored           0.7722377628  0.1683029504  4.5883792347 0.0000044670   \n",
      "alpha             1.9520611453  0.2865478330  6.8123395845 0.0000000000   \n",
      "\n",
      "                   95% CI Lower   95% CI Upper          IRR  IRR 95% CI Lower  \\\n",
      "inflate_const     -0.7028353581   0.1410528224 0.7551104358      0.4951793008   \n",
      "inflate_Tutored -167.1012508715 143.0720519281 0.0000060552      0.0000000000   \n",
      "const             -0.2682953289   0.1325678707 0.9343877948      0.7646819151   \n",
      "Tutored            0.4423639800   1.1021115456 2.1646047100      1.5563821293   \n",
      "alpha              1.3904273927   2.5136948979 7.0431896675      4.0165663375   \n",
      "\n",
      "                                                  IRR 95% CI Upper  \n",
      "inflate_const                                         1.1514854706  \n",
      "inflate_Tutored 13658489305387920492704407772569311874101158303...  \n",
      "const                                                 1.1417565052  \n",
      "Tutored                                               3.0105161595  \n",
      "alpha                                                12.3504796199  \n"
     ]
    }
   ],
   "source": [
    "#Extract Detailed ZINB Coefficients with High-Precision P-Values and IRRs\n",
    "# Replace this with your actual fitted model variable name\n",
    "model = Full_Infl_LBFGS_Iter100_model\n",
    "\n",
    "# Extract coefficients and standard errors\n",
    "params = model.params\n",
    "bse = model.bse\n",
    "\n",
    "# Calculate z-scores and exact p-values\n",
    "z_scores = params / bse\n",
    "p_values = 2 * (1 - stats.norm.cdf(np.abs(z_scores)))\n",
    "\n",
    "# Construct result table\n",
    "results_df = pd.DataFrame({\n",
    "    \"Coefficient\": params,\n",
    "    \"Std. Error\": bse,\n",
    "    \"z-value\": z_scores,\n",
    "    \"p-value\": p_values,\n",
    "    \"95% CI Lower\": params - 1.96 * bse,\n",
    "    \"95% CI Upper\": params + 1.96 * bse,\n",
    "    \"IRR\": np.exp(params),\n",
    "    \"IRR 95% CI Lower\": np.exp(params - 1.96 * bse),\n",
    "    \"IRR 95% CI Upper\": np.exp(params + 1.96 * bse)\n",
    "})\n",
    "\n",
    "# Format float display for higher precision\n",
    "pd.options.display.float_format = \"{:.10f}\".format\n",
    "\n",
    "# Display result\n",
    "print(results_df)"
   ]
  },
  {
   "cell_type": "code",
   "execution_count": 72,
   "id": "207c583a-295e-40a1-a784-df9f86fb91bc",
   "metadata": {},
   "outputs": [
    {
     "name": "stdout",
     "output_type": "stream",
     "text": [
      "Exact p-value for 'Tutored': 0.0000044670\n"
     ]
    }
   ],
   "source": [
    "# To Get Just the Exact p-value for the \"Tutored\" Coefficient\n",
    "# Exact p-value for Tutored variable\n",
    "tutored_z = z_scores[\"Tutored\"]\n",
    "tutored_p = 2 * (1 - stats.norm.cdf(np.abs(tutored_z)))\n",
    "print(f\"Exact p-value for 'Tutored': {tutored_p:.10f}\")"
   ]
  },
  {
   "cell_type": "markdown",
   "id": "0af522fe-f008-4532-8bc3-850a6fc8bbdb",
   "metadata": {},
   "source": [
    "#### Key Findings:\n",
    "**Tutoring Effect (Count Model):**\n",
    "- Coefficient: 0.7722 (p < 0.00001)\n",
    "- IRR: 2.16 (95% CI: [1.56, 3.01])\n",
    "- Interpretation: Tutored students are expected to complete about 2.16 times more competencies than non-tutored students.\n",
    "\n",
    "**Zero-Inflation Component:**\n",
    "- `inflate_Tutored` not significant (p = 0.879)\n",
    "- `inflate_const` baseline intercept for zero-inflation: Coefficient = -0.281 (IRR ≈ 0.50, 95% CI: [0.50, 1.15])\n",
    "- Interpretation: While tutoring does not affect the \"always-zero\" group, the model estimates a moderate baseline probability of zero outcomes.\n",
    "\n",
    "**Model Validation:**\n",
    "- Significant overdispersion (α = 1.9521, p < 0.00001)\n",
    "- ZINB model is appropriate for this dataset, capturing both excess zeros and overdispersion effectively."
   ]
  },
  {
   "cell_type": "markdown",
   "id": "72e35127-282c-4ad7-b223-f8d886fd8567",
   "metadata": {},
   "source": [
    "---\n",
    "## 3 Data Export and Key Findings Summary"
   ]
  },
  {
   "cell_type": "code",
   "execution_count": 75,
   "id": "7ba2f634-b5a5-4152-8cf6-ba5a109f7764",
   "metadata": {},
   "outputs": [
    {
     "name": "stdout",
     "output_type": "stream",
     "text": [
      "All files saved successfully to data_modeling_output folder\n"
     ]
    }
   ],
   "source": [
    "# Save the fitted model object\n",
    "with open('../data_modeling_output/zinb_model_2025Q1.pkl', 'wb') as f:\n",
    "    pickle.dump(Full_Infl_LBFGS_Iter100_model, f)\n",
    "\n",
    "# Save to the fitted model metrics\n",
    "results_df.to_csv('../data_modeling_output/zinb_model_metrics_2025Q1.csv', index=True)\n",
    "print(\"All files saved successfully to data_modeling_output folder\")"
   ]
  },
  {
   "cell_type": "markdown",
   "id": "7991af3a-5bbd-49e2-a726-411357f08f13",
   "metadata": {},
   "source": [
    "### Statistical Evidence:\n",
    "1. **Tutoring Effect:** 2.16x increase in completion rate (95% CI: [1.56, 3.01], p < 0.00001)\n",
    "2. **Reduced Non-engagement:** 77% untutored vs 33% tutored students at zero completions\n",
    "3. **Model Validation:** ZINB outperforms standard NB model (lower AIC/BIC)\n",
    "\n",
    "### Strategic Student Segments:\n",
    "- **Successful Engagement:** 67% of tutored students who made progress\n",
    "- **Opportunity Group:** 33% of tutored students still at zero (targeted intervention needed)\n",
    "- **Self-Starters:** 23% of untutored students who made progress independently\n",
    "- **Challenge Group:** 77% of untutored students with no progress\n",
    "\n",
    "### Business Impact:\n",
    "- Clear ROI for tutoring program expansion\n",
    "- Target intervention for the 33% of tutored students still at zero (\"Opportunity Group\")\n",
    "- Evidence-based resource allocation for student support\n",
    "\n",
    "### Recommended Next Steps:\n",
    "- Continue this analysis for future terms to track ongoing impact\n",
    "- Identify \"Opportunity Group\" students sooner than quarterly analysis\n",
    "- Explore applying this analytical framework to other Calbright programs\n",
    "\n",
    "#### Additional Technical Opportunities:\n",
    "- Develop predictive model for early intervention using student engagement metrics\n",
    "- Create automated reporting dashboard for real-time monitoring of student segments"
   ]
  }
 ],
 "metadata": {
  "kernelspec": {
   "display_name": "Python [conda env:py313_core]",
   "language": "python",
   "name": "conda-env-py313_core-py"
  },
  "language_info": {
   "codemirror_mode": {
    "name": "ipython",
    "version": 3
   },
   "file_extension": ".py",
   "mimetype": "text/x-python",
   "name": "python",
   "nbconvert_exporter": "python",
   "pygments_lexer": "ipython3",
   "version": "3.13.7"
  }
 },
 "nbformat": 4,
 "nbformat_minor": 5
}
